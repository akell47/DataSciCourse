{
 "cells": [
  {
   "cell_type": "markdown",
   "metadata": {},
   "source": [
    "## Fake Factory"
   ]
  },
  {
   "cell_type": "code",
   "execution_count": 51,
   "metadata": {
    "collapsed": true
   },
   "outputs": [],
   "source": [
    "from faker import Faker"
   ]
  },
  {
   "cell_type": "code",
   "execution_count": 52,
   "metadata": {
    "collapsed": false
   },
   "outputs": [],
   "source": [
    "fake = Faker()"
   ]
  },
  {
   "cell_type": "code",
   "execution_count": 53,
   "metadata": {
    "collapsed": false
   },
   "outputs": [
    {
     "data": {
      "text/plain": [
       "u'226 Kelly Estates Apt. 207\\nEast Amyburgh, VT 02606-2429'"
      ]
     },
     "execution_count": 53,
     "metadata": {},
     "output_type": "execute_result"
    }
   ],
   "source": [
    "fake.address()"
   ]
  },
  {
   "cell_type": "code",
   "execution_count": 54,
   "metadata": {
    "collapsed": false
   },
   "outputs": [
    {
     "data": {
      "text/plain": [
       "u'206-42-0175'"
      ]
     },
     "execution_count": 54,
     "metadata": {},
     "output_type": "execute_result"
    }
   ],
   "source": [
    "fake.ssn()"
   ]
  },
  {
   "cell_type": "code",
   "execution_count": 55,
   "metadata": {
    "collapsed": false
   },
   "outputs": [
    {
     "data": {
      "text/plain": [
       "u'Thomasmouth'"
      ]
     },
     "execution_count": 55,
     "metadata": {},
     "output_type": "execute_result"
    }
   ],
   "source": [
    "fake.city()"
   ]
  },
  {
   "cell_type": "code",
   "execution_count": 56,
   "metadata": {
    "collapsed": false
   },
   "outputs": [
    {
     "data": {
      "text/plain": [
       "u'Saint Barthelemy'"
      ]
     },
     "execution_count": 56,
     "metadata": {},
     "output_type": "execute_result"
    }
   ],
   "source": [
    "fake.country()"
   ]
  },
  {
   "cell_type": "code",
   "execution_count": 57,
   "metadata": {
    "collapsed": false
   },
   "outputs": [
    {
     "data": {
      "text/plain": [
       "u'33955'"
      ]
     },
     "execution_count": 57,
     "metadata": {},
     "output_type": "execute_result"
    }
   ],
   "source": [
    "fake.zipcode()"
   ]
  },
  {
   "cell_type": "code",
   "execution_count": 58,
   "metadata": {
    "collapsed": false
   },
   "outputs": [
    {
     "data": {
      "text/plain": [
       "u'Benjamin'"
      ]
     },
     "execution_count": 58,
     "metadata": {},
     "output_type": "execute_result"
    }
   ],
   "source": [
    "fake.first_name()"
   ]
  },
  {
   "cell_type": "code",
   "execution_count": 59,
   "metadata": {
    "collapsed": false
   },
   "outputs": [
    {
     "data": {
      "text/plain": [
       "u'Fuller'"
      ]
     },
     "execution_count": 59,
     "metadata": {},
     "output_type": "execute_result"
    }
   ],
   "source": [
    "fake.last_name()"
   ]
  },
  {
   "cell_type": "code",
   "execution_count": 60,
   "metadata": {
    "collapsed": false
   },
   "outputs": [
    {
     "data": {
      "text/plain": [
       "u'Jeremy Robinson'"
      ]
     },
     "execution_count": 60,
     "metadata": {},
     "output_type": "execute_result"
    }
   ],
   "source": [
    "fake.name()"
   ]
  },
  {
   "cell_type": "markdown",
   "metadata": {},
   "source": [
    "## Real Lab data"
   ]
  },
  {
   "cell_type": "code",
   "execution_count": 61,
   "metadata": {
    "collapsed": false
   },
   "outputs": [],
   "source": [
    "LabData = \"../SedimentLabData/LabData.xls\""
   ]
  },
  {
   "cell_type": "code",
   "execution_count": 5,
   "metadata": {
    "collapsed": false
   },
   "outputs": [],
   "source": [
    "import pandas as pd\n",
    "import numpy as np"
   ]
  },
  {
   "cell_type": "code",
   "execution_count": 63,
   "metadata": {
    "collapsed": false
   },
   "outputs": [],
   "source": [
    "LabData = pd.ExcelFile(\"../SedimentLabData/LabData.xls\")\n",
    "\n",
    "dfs = {sheet_name: LabData.parse(sheet_name) \n",
    "          for sheet_name in LabData.sheet_names}"
   ]
  },
  {
   "cell_type": "code",
   "execution_count": 64,
   "metadata": {
    "collapsed": false
   },
   "outputs": [
    {
     "ename": "NameError",
     "evalue": "name 'BG2a' is not defined",
     "output_type": "error",
     "traceback": [
      "\u001b[0;31m\u001b[0m",
      "\u001b[0;31mNameError\u001b[0mTraceback (most recent call last)",
      "\u001b[0;32m<ipython-input-64-85dd98b734d8>\u001b[0m in \u001b[0;36m<module>\u001b[0;34m()\u001b[0m\n\u001b[0;32m----> 1\u001b[0;31m \u001b[0mBG2a\u001b[0m\u001b[1;33m.\u001b[0m\u001b[0mhead\u001b[0m\u001b[1;33m(\u001b[0m\u001b[1;33m)\u001b[0m\u001b[1;33m\u001b[0m\u001b[0m\n\u001b[0m",
      "\u001b[0;31mNameError\u001b[0m: name 'BG2a' is not defined"
     ]
    }
   ],
   "source": [
    "BG2a.head()\n",
    "# how to read excel top columns??"
   ]
  },
  {
   "cell_type": "code",
   "execution_count": 6,
   "metadata": {
    "collapsed": false
   },
   "outputs": [
    {
     "name": "stdout",
     "output_type": "stream",
     "text": [
      "/c/Users/Amber/Documents/GitHub/DataSciCourse\n"
     ]
    }
   ],
   "source": [
    "!pwd"
   ]
  },
  {
   "cell_type": "code",
   "execution_count": 23,
   "metadata": {
    "collapsed": false
   },
   "outputs": [],
   "source": [
    "LabDataWL3a = pd.read_csv(\"SedimentLabData/WL3a.csv\")\n",
    "LabDataWL3b = pd.read_csv(\"SedimentLabData/WL3b.csv\")\n",
    "LabDataWL4a = pd.read_csv(\"SedimentLabData/WL4a.csv\")\n",
    "LabDataWL5a = pd.read_csv(\"SedimentLabData/WL5a.csv\")\n",
    "LabDataWL5b = pd.read_csv(\"SedimentLabData/WL5b.csv\")\n",
    "LabDataWL5c = pd.read_csv(\"SedimentLabData/WL5c.csv\")\n",
    "# Some sheets as csvs"
   ]
  },
  {
   "cell_type": "markdown",
   "metadata": {},
   "source": [
    "# WL3"
   ]
  },
  {
   "cell_type": "code",
   "execution_count": 8,
   "metadata": {
    "collapsed": false
   },
   "outputs": [
    {
     "data": {
      "text/html": [
       "<div>\n",
       "<table border=\"1\" class=\"dataframe\">\n",
       "  <thead>\n",
       "    <tr style=\"text-align: right;\">\n",
       "      <th></th>\n",
       "      <th>Num</th>\n",
       "      <th>Empty</th>\n",
       "      <th>Wet</th>\n",
       "      <th>105C</th>\n",
       "      <th>550C</th>\n",
       "      <th>1000C</th>\n",
       "      <th>BaseWeight</th>\n",
       "      <th>Water</th>\n",
       "      <th>PctWater</th>\n",
       "      <th>OrganicMatter</th>\n",
       "      <th>PctOrganic</th>\n",
       "      <th>Carbonates</th>\n",
       "      <th>PctCarbon</th>\n",
       "      <th>Ash</th>\n",
       "      <th>PctAshOxides</th>\n",
       "    </tr>\n",
       "  </thead>\n",
       "  <tbody>\n",
       "    <tr>\n",
       "      <th>0</th>\n",
       "      <td>1</td>\n",
       "      <td>4.5581</td>\n",
       "      <td>5.7046</td>\n",
       "      <td>4.8539</td>\n",
       "      <td>4.64590</td>\n",
       "      <td>4.6451</td>\n",
       "      <td>1.1465</td>\n",
       "      <td>0.8507</td>\n",
       "      <td>0.741997</td>\n",
       "      <td>0.20800</td>\n",
       "      <td>0.181422</td>\n",
       "      <td>0.0008</td>\n",
       "      <td>0.000698</td>\n",
       "      <td>0.0870</td>\n",
       "      <td>0.075883</td>\n",
       "    </tr>\n",
       "    <tr>\n",
       "      <th>1</th>\n",
       "      <td>2</td>\n",
       "      <td>6.0636</td>\n",
       "      <td>6.8480</td>\n",
       "      <td>6.2318</td>\n",
       "      <td>6.09160</td>\n",
       "      <td>6.0900</td>\n",
       "      <td>0.7844</td>\n",
       "      <td>0.6162</td>\n",
       "      <td>0.785569</td>\n",
       "      <td>0.14020</td>\n",
       "      <td>0.178735</td>\n",
       "      <td>0.0016</td>\n",
       "      <td>0.002040</td>\n",
       "      <td>0.0264</td>\n",
       "      <td>0.033656</td>\n",
       "    </tr>\n",
       "    <tr>\n",
       "      <th>2</th>\n",
       "      <td>3</td>\n",
       "      <td>4.3505</td>\n",
       "      <td>4.8886</td>\n",
       "      <td>4.4667</td>\n",
       "      <td>4.37480</td>\n",
       "      <td>4.3728</td>\n",
       "      <td>0.5381</td>\n",
       "      <td>0.4219</td>\n",
       "      <td>0.784055</td>\n",
       "      <td>0.09190</td>\n",
       "      <td>0.170786</td>\n",
       "      <td>0.0020</td>\n",
       "      <td>0.003717</td>\n",
       "      <td>0.0223</td>\n",
       "      <td>0.041442</td>\n",
       "    </tr>\n",
       "    <tr>\n",
       "      <th>3</th>\n",
       "      <td>4</td>\n",
       "      <td>4.8683</td>\n",
       "      <td>5.2294</td>\n",
       "      <td>4.9396</td>\n",
       "      <td>4.88060</td>\n",
       "      <td>4.8809</td>\n",
       "      <td>0.3611</td>\n",
       "      <td>0.2898</td>\n",
       "      <td>0.802548</td>\n",
       "      <td>0.05900</td>\n",
       "      <td>0.163390</td>\n",
       "      <td>-0.0003</td>\n",
       "      <td>-0.000831</td>\n",
       "      <td>0.0126</td>\n",
       "      <td>0.034893</td>\n",
       "    </tr>\n",
       "    <tr>\n",
       "      <th>4</th>\n",
       "      <td>5</td>\n",
       "      <td>5.3771</td>\n",
       "      <td>5.9840</td>\n",
       "      <td>5.5150</td>\n",
       "      <td>5.34189</td>\n",
       "      <td>5.4194</td>\n",
       "      <td>0.6069</td>\n",
       "      <td>0.4690</td>\n",
       "      <td>0.772780</td>\n",
       "      <td>0.17311</td>\n",
       "      <td>0.285236</td>\n",
       "      <td>-0.0775</td>\n",
       "      <td>-0.127715</td>\n",
       "      <td>0.0423</td>\n",
       "      <td>0.069698</td>\n",
       "    </tr>\n",
       "  </tbody>\n",
       "</table>\n",
       "</div>"
      ],
      "text/plain": [
       "   Num   Empty     Wet    105C     550C   1000C  BaseWeight   Water  PctWater  \\\n",
       "0    1  4.5581  5.7046  4.8539  4.64590  4.6451      1.1465  0.8507  0.741997   \n",
       "1    2  6.0636  6.8480  6.2318  6.09160  6.0900      0.7844  0.6162  0.785569   \n",
       "2    3  4.3505  4.8886  4.4667  4.37480  4.3728      0.5381  0.4219  0.784055   \n",
       "3    4  4.8683  5.2294  4.9396  4.88060  4.8809      0.3611  0.2898  0.802548   \n",
       "4    5  5.3771  5.9840  5.5150  5.34189  5.4194      0.6069  0.4690  0.772780   \n",
       "\n",
       "   OrganicMatter  PctOrganic  Carbonates  PctCarbon     Ash  PctAshOxides  \n",
       "0        0.20800    0.181422      0.0008   0.000698  0.0870      0.075883  \n",
       "1        0.14020    0.178735      0.0016   0.002040  0.0264      0.033656  \n",
       "2        0.09190    0.170786      0.0020   0.003717  0.0223      0.041442  \n",
       "3        0.05900    0.163390     -0.0003  -0.000831  0.0126      0.034893  \n",
       "4        0.17311    0.285236     -0.0775  -0.127715  0.0423      0.069698  "
      ]
     },
     "execution_count": 8,
     "metadata": {},
     "output_type": "execute_result"
    }
   ],
   "source": [
    "LabDataWL3a.head()\n",
    "# WL3a and WL3b - columns after 1000C calculated in excel"
   ]
  },
  {
   "cell_type": "code",
   "execution_count": 11,
   "metadata": {
    "collapsed": false
   },
   "outputs": [
    {
     "data": {
      "text/plain": [
       "(45, 15)"
      ]
     },
     "execution_count": 11,
     "metadata": {},
     "output_type": "execute_result"
    }
   ],
   "source": [
    "LabDataWL3a.shape"
   ]
  },
  {
   "cell_type": "code",
   "execution_count": 16,
   "metadata": {
    "collapsed": false
   },
   "outputs": [
    {
     "data": {
      "text/plain": [
       "Num                int64\n",
       "Empty            float64\n",
       "Wet              float64\n",
       "105C             float64\n",
       "550C             float64\n",
       "1000C            float64\n",
       "BaseWeight       float64\n",
       "Water            float64\n",
       "PctWater         float64\n",
       "OrganicMatter    float64\n",
       "PctOrganic       float64\n",
       "Carbonates       float64\n",
       "PctCarbon        float64\n",
       "Ash              float64\n",
       "PctAshOxides     float64\n",
       "dtype: object"
      ]
     },
     "execution_count": 16,
     "metadata": {},
     "output_type": "execute_result"
    }
   ],
   "source": [
    "# LabDataWL3a.describe()\n",
    "LabDataWL3a.dtypes"
   ]
  },
  {
   "cell_type": "code",
   "execution_count": 25,
   "metadata": {
    "collapsed": false
   },
   "outputs": [
    {
     "data": {
      "text/html": [
       "<div>\n",
       "<table border=\"1\" class=\"dataframe\">\n",
       "  <thead>\n",
       "    <tr style=\"text-align: right;\">\n",
       "      <th></th>\n",
       "      <th>Num</th>\n",
       "      <th>Empty</th>\n",
       "      <th>Wet</th>\n",
       "      <th>105C</th>\n",
       "      <th>550C</th>\n",
       "      <th>1000C</th>\n",
       "      <th>BaseWeight</th>\n",
       "      <th>Water</th>\n",
       "      <th>PctWater</th>\n",
       "      <th>OrganicMatter</th>\n",
       "      <th>PctOrganic</th>\n",
       "      <th>Carbonates</th>\n",
       "      <th>PctCarbon</th>\n",
       "      <th>Ash</th>\n",
       "      <th>PctAshOxides</th>\n",
       "    </tr>\n",
       "  </thead>\n",
       "  <tbody>\n",
       "    <tr>\n",
       "      <th>0</th>\n",
       "      <td>1</td>\n",
       "      <td>4.5581</td>\n",
       "      <td>5.7046</td>\n",
       "      <td>4.8539</td>\n",
       "      <td>4.64590</td>\n",
       "      <td>4.6451</td>\n",
       "      <td>1.1465</td>\n",
       "      <td>0.8507</td>\n",
       "      <td>0.741997</td>\n",
       "      <td>0.20800</td>\n",
       "      <td>0.181422</td>\n",
       "      <td>0.0008</td>\n",
       "      <td>0.000698</td>\n",
       "      <td>0.0870</td>\n",
       "      <td>0.075883</td>\n",
       "    </tr>\n",
       "    <tr>\n",
       "      <th>1</th>\n",
       "      <td>2</td>\n",
       "      <td>6.0636</td>\n",
       "      <td>6.8480</td>\n",
       "      <td>6.2318</td>\n",
       "      <td>6.09160</td>\n",
       "      <td>6.0900</td>\n",
       "      <td>0.7844</td>\n",
       "      <td>0.6162</td>\n",
       "      <td>0.785569</td>\n",
       "      <td>0.14020</td>\n",
       "      <td>0.178735</td>\n",
       "      <td>0.0016</td>\n",
       "      <td>0.002040</td>\n",
       "      <td>0.0264</td>\n",
       "      <td>0.033656</td>\n",
       "    </tr>\n",
       "    <tr>\n",
       "      <th>2</th>\n",
       "      <td>3</td>\n",
       "      <td>4.3505</td>\n",
       "      <td>4.8886</td>\n",
       "      <td>4.4667</td>\n",
       "      <td>4.37480</td>\n",
       "      <td>4.3728</td>\n",
       "      <td>0.5381</td>\n",
       "      <td>0.4219</td>\n",
       "      <td>0.784055</td>\n",
       "      <td>0.09190</td>\n",
       "      <td>0.170786</td>\n",
       "      <td>0.0020</td>\n",
       "      <td>0.003717</td>\n",
       "      <td>0.0223</td>\n",
       "      <td>0.041442</td>\n",
       "    </tr>\n",
       "    <tr>\n",
       "      <th>3</th>\n",
       "      <td>4</td>\n",
       "      <td>4.8683</td>\n",
       "      <td>5.2294</td>\n",
       "      <td>4.9396</td>\n",
       "      <td>4.88060</td>\n",
       "      <td>4.8809</td>\n",
       "      <td>0.3611</td>\n",
       "      <td>0.2898</td>\n",
       "      <td>0.802548</td>\n",
       "      <td>0.05900</td>\n",
       "      <td>0.163390</td>\n",
       "      <td>-0.0003</td>\n",
       "      <td>-0.000831</td>\n",
       "      <td>0.0126</td>\n",
       "      <td>0.034893</td>\n",
       "    </tr>\n",
       "    <tr>\n",
       "      <th>4</th>\n",
       "      <td>5</td>\n",
       "      <td>5.3771</td>\n",
       "      <td>5.9840</td>\n",
       "      <td>5.5150</td>\n",
       "      <td>5.34189</td>\n",
       "      <td>5.4194</td>\n",
       "      <td>0.6069</td>\n",
       "      <td>0.4690</td>\n",
       "      <td>0.772780</td>\n",
       "      <td>0.17311</td>\n",
       "      <td>0.285236</td>\n",
       "      <td>-0.0775</td>\n",
       "      <td>-0.127715</td>\n",
       "      <td>0.0423</td>\n",
       "      <td>0.069698</td>\n",
       "    </tr>\n",
       "  </tbody>\n",
       "</table>\n",
       "</div>"
      ],
      "text/plain": [
       "   Num   Empty     Wet    105C     550C   1000C  BaseWeight   Water  PctWater  \\\n",
       "0    1  4.5581  5.7046  4.8539  4.64590  4.6451      1.1465  0.8507  0.741997   \n",
       "1    2  6.0636  6.8480  6.2318  6.09160  6.0900      0.7844  0.6162  0.785569   \n",
       "2    3  4.3505  4.8886  4.4667  4.37480  4.3728      0.5381  0.4219  0.784055   \n",
       "3    4  4.8683  5.2294  4.9396  4.88060  4.8809      0.3611  0.2898  0.802548   \n",
       "4    5  5.3771  5.9840  5.5150  5.34189  5.4194      0.6069  0.4690  0.772780   \n",
       "\n",
       "   OrganicMatter  PctOrganic  Carbonates  PctCarbon     Ash  PctAshOxides  \n",
       "0        0.20800    0.181422      0.0008   0.000698  0.0870      0.075883  \n",
       "1        0.14020    0.178735      0.0016   0.002040  0.0264      0.033656  \n",
       "2        0.09190    0.170786      0.0020   0.003717  0.0223      0.041442  \n",
       "3        0.05900    0.163390     -0.0003  -0.000831  0.0126      0.034893  \n",
       "4        0.17311    0.285236     -0.0775  -0.127715  0.0423      0.069698  "
      ]
     },
     "execution_count": 25,
     "metadata": {},
     "output_type": "execute_result"
    }
   ],
   "source": [
    "pieces3 = [LabDataWL3a, LabDataWL3b]\n",
    "WL3 = pd.concat(pieces3)\n",
    "WL3.head(5)"
   ]
  },
  {
   "cell_type": "code",
   "execution_count": 26,
   "metadata": {
    "collapsed": false
   },
   "outputs": [
    {
     "data": {
      "text/plain": [
       "Num                int64\n",
       "Empty            float64\n",
       "Wet              float64\n",
       "105C             float64\n",
       "550C             float64\n",
       "1000C            float64\n",
       "BaseWeight       float64\n",
       "Water            float64\n",
       "PctWater         float64\n",
       "OrganicMatter    float64\n",
       "PctOrganic       float64\n",
       "Carbonates       float64\n",
       "PctCarbon        float64\n",
       "Ash              float64\n",
       "PctAshOxides     float64\n",
       "dtype: object"
      ]
     },
     "execution_count": 26,
     "metadata": {},
     "output_type": "execute_result"
    }
   ],
   "source": [
    "WL3.dtypes"
   ]
  },
  {
   "cell_type": "code",
   "execution_count": 27,
   "metadata": {
    "collapsed": false
   },
   "outputs": [
    {
     "data": {
      "text/html": [
       "<div>\n",
       "<table border=\"1\" class=\"dataframe\">\n",
       "  <thead>\n",
       "    <tr style=\"text-align: right;\">\n",
       "      <th></th>\n",
       "      <th>Num</th>\n",
       "      <th>Empty</th>\n",
       "      <th>Wet</th>\n",
       "      <th>105C</th>\n",
       "      <th>550C</th>\n",
       "      <th>1000C</th>\n",
       "      <th>BaseWeight</th>\n",
       "      <th>Water</th>\n",
       "      <th>PctWater</th>\n",
       "      <th>OrganicMatter</th>\n",
       "      <th>PctOrganic</th>\n",
       "      <th>Carbonates</th>\n",
       "      <th>PctCarbon</th>\n",
       "      <th>Ash</th>\n",
       "      <th>PctAshOxides</th>\n",
       "    </tr>\n",
       "  </thead>\n",
       "  <tbody>\n",
       "    <tr>\n",
       "      <th>count</th>\n",
       "      <td>89.000000</td>\n",
       "      <td>89.000000</td>\n",
       "      <td>89.000000</td>\n",
       "      <td>89.000000</td>\n",
       "      <td>89.000000</td>\n",
       "      <td>89.000000</td>\n",
       "      <td>89.000000</td>\n",
       "      <td>89.000000</td>\n",
       "      <td>89.000000</td>\n",
       "      <td>89.000000</td>\n",
       "      <td>89.000000</td>\n",
       "      <td>89.000000</td>\n",
       "      <td>89.000000</td>\n",
       "      <td>89.000000</td>\n",
       "      <td>89.000000</td>\n",
       "    </tr>\n",
       "    <tr>\n",
       "      <th>mean</th>\n",
       "      <td>22.752809</td>\n",
       "      <td>5.151140</td>\n",
       "      <td>7.502586</td>\n",
       "      <td>6.800545</td>\n",
       "      <td>6.676022</td>\n",
       "      <td>6.667596</td>\n",
       "      <td>2.351446</td>\n",
       "      <td>0.702041</td>\n",
       "      <td>0.400798</td>\n",
       "      <td>0.124523</td>\n",
       "      <td>0.074541</td>\n",
       "      <td>0.008427</td>\n",
       "      <td>0.007588</td>\n",
       "      <td>1.516455</td>\n",
       "      <td>0.517073</td>\n",
       "    </tr>\n",
       "    <tr>\n",
       "      <th>std</th>\n",
       "      <td>12.920457</td>\n",
       "      <td>0.870517</td>\n",
       "      <td>1.564191</td>\n",
       "      <td>1.527180</td>\n",
       "      <td>1.572013</td>\n",
       "      <td>1.550896</td>\n",
       "      <td>1.319628</td>\n",
       "      <td>0.310897</td>\n",
       "      <td>0.247316</td>\n",
       "      <td>0.173890</td>\n",
       "      <td>0.103719</td>\n",
       "      <td>0.162644</td>\n",
       "      <td>0.093122</td>\n",
       "      <td>1.269643</td>\n",
       "      <td>0.299693</td>\n",
       "    </tr>\n",
       "    <tr>\n",
       "      <th>min</th>\n",
       "      <td>1.000000</td>\n",
       "      <td>3.139800</td>\n",
       "      <td>4.675600</td>\n",
       "      <td>4.283600</td>\n",
       "      <td>4.206100</td>\n",
       "      <td>4.206100</td>\n",
       "      <td>0.348100</td>\n",
       "      <td>0.250100</td>\n",
       "      <td>0.143401</td>\n",
       "      <td>-0.936400</td>\n",
       "      <td>-0.511303</td>\n",
       "      <td>-0.998400</td>\n",
       "      <td>-0.445039</td>\n",
       "      <td>0.012600</td>\n",
       "      <td>0.033656</td>\n",
       "    </tr>\n",
       "    <tr>\n",
       "      <th>25%</th>\n",
       "      <td>12.000000</td>\n",
       "      <td>4.562000</td>\n",
       "      <td>6.348400</td>\n",
       "      <td>5.515000</td>\n",
       "      <td>5.341890</td>\n",
       "      <td>5.376000</td>\n",
       "      <td>1.337200</td>\n",
       "      <td>0.469400</td>\n",
       "      <td>0.189299</td>\n",
       "      <td>0.073700</td>\n",
       "      <td>0.026611</td>\n",
       "      <td>0.000700</td>\n",
       "      <td>0.000260</td>\n",
       "      <td>0.255700</td>\n",
       "      <td>0.169214</td>\n",
       "    </tr>\n",
       "    <tr>\n",
       "      <th>50%</th>\n",
       "      <td>23.000000</td>\n",
       "      <td>4.902500</td>\n",
       "      <td>7.359500</td>\n",
       "      <td>6.588300</td>\n",
       "      <td>6.355000</td>\n",
       "      <td>6.476000</td>\n",
       "      <td>2.281500</td>\n",
       "      <td>0.620400</td>\n",
       "      <td>0.271246</td>\n",
       "      <td>0.110900</td>\n",
       "      <td>0.068823</td>\n",
       "      <td>0.001800</td>\n",
       "      <td>0.000716</td>\n",
       "      <td>1.375400</td>\n",
       "      <td>0.655172</td>\n",
       "    </tr>\n",
       "    <tr>\n",
       "      <th>75%</th>\n",
       "      <td>34.000000</td>\n",
       "      <td>5.627500</td>\n",
       "      <td>8.695700</td>\n",
       "      <td>7.870900</td>\n",
       "      <td>7.803400</td>\n",
       "      <td>7.803000</td>\n",
       "      <td>3.278800</td>\n",
       "      <td>0.860300</td>\n",
       "      <td>0.706802</td>\n",
       "      <td>0.173400</td>\n",
       "      <td>0.136387</td>\n",
       "      <td>0.002500</td>\n",
       "      <td>0.001340</td>\n",
       "      <td>2.441500</td>\n",
       "      <td>0.784532</td>\n",
       "    </tr>\n",
       "    <tr>\n",
       "      <th>max</th>\n",
       "      <td>45.000000</td>\n",
       "      <td>7.653000</td>\n",
       "      <td>11.328500</td>\n",
       "      <td>10.729300</td>\n",
       "      <td>10.720400</td>\n",
       "      <td>10.719800</td>\n",
       "      <td>5.233800</td>\n",
       "      <td>1.828500</td>\n",
       "      <td>0.803327</td>\n",
       "      <td>1.100000</td>\n",
       "      <td>0.490327</td>\n",
       "      <td>1.111200</td>\n",
       "      <td>0.606749</td>\n",
       "      <td>4.201100</td>\n",
       "      <td>0.843802</td>\n",
       "    </tr>\n",
       "  </tbody>\n",
       "</table>\n",
       "</div>"
      ],
      "text/plain": [
       "             Num      Empty        Wet       105C       550C      1000C  \\\n",
       "count  89.000000  89.000000  89.000000  89.000000  89.000000  89.000000   \n",
       "mean   22.752809   5.151140   7.502586   6.800545   6.676022   6.667596   \n",
       "std    12.920457   0.870517   1.564191   1.527180   1.572013   1.550896   \n",
       "min     1.000000   3.139800   4.675600   4.283600   4.206100   4.206100   \n",
       "25%    12.000000   4.562000   6.348400   5.515000   5.341890   5.376000   \n",
       "50%    23.000000   4.902500   7.359500   6.588300   6.355000   6.476000   \n",
       "75%    34.000000   5.627500   8.695700   7.870900   7.803400   7.803000   \n",
       "max    45.000000   7.653000  11.328500  10.729300  10.720400  10.719800   \n",
       "\n",
       "       BaseWeight      Water   PctWater  OrganicMatter  PctOrganic  \\\n",
       "count   89.000000  89.000000  89.000000      89.000000   89.000000   \n",
       "mean     2.351446   0.702041   0.400798       0.124523    0.074541   \n",
       "std      1.319628   0.310897   0.247316       0.173890    0.103719   \n",
       "min      0.348100   0.250100   0.143401      -0.936400   -0.511303   \n",
       "25%      1.337200   0.469400   0.189299       0.073700    0.026611   \n",
       "50%      2.281500   0.620400   0.271246       0.110900    0.068823   \n",
       "75%      3.278800   0.860300   0.706802       0.173400    0.136387   \n",
       "max      5.233800   1.828500   0.803327       1.100000    0.490327   \n",
       "\n",
       "       Carbonates  PctCarbon        Ash  PctAshOxides  \n",
       "count   89.000000  89.000000  89.000000     89.000000  \n",
       "mean     0.008427   0.007588   1.516455      0.517073  \n",
       "std      0.162644   0.093122   1.269643      0.299693  \n",
       "min     -0.998400  -0.445039   0.012600      0.033656  \n",
       "25%      0.000700   0.000260   0.255700      0.169214  \n",
       "50%      0.001800   0.000716   1.375400      0.655172  \n",
       "75%      0.002500   0.001340   2.441500      0.784532  \n",
       "max      1.111200   0.606749   4.201100      0.843802  "
      ]
     },
     "execution_count": 27,
     "metadata": {},
     "output_type": "execute_result"
    }
   ],
   "source": [
    "WL3.describe()"
   ]
  },
  {
   "cell_type": "code",
   "execution_count": 28,
   "metadata": {
    "collapsed": false
   },
   "outputs": [
    {
     "data": {
      "text/plain": [
       "Num              0\n",
       "Empty            0\n",
       "Wet              0\n",
       "105C             0\n",
       "550C             0\n",
       "1000C            0\n",
       "BaseWeight       0\n",
       "Water            0\n",
       "PctWater         0\n",
       "OrganicMatter    0\n",
       "PctOrganic       0\n",
       "Carbonates       0\n",
       "PctCarbon        0\n",
       "Ash              0\n",
       "PctAshOxides     0\n",
       "dtype: int64"
      ]
     },
     "execution_count": 28,
     "metadata": {},
     "output_type": "execute_result"
    }
   ],
   "source": [
    "# df.isnull().sum()\n",
    "WL3.isnull().sum()\n",
    "# count of null cells in each column!"
   ]
  },
  {
   "cell_type": "code",
   "execution_count": 21,
   "metadata": {
    "collapsed": false
   },
   "outputs": [
    {
     "name": "stdout",
     "output_type": "stream",
     "text": [
      "[]\n"
     ]
    }
   ],
   "source": [
    "# print \"GRE null indicies\",np.where(df_raw['gre'].isnull())[0]\n",
    "print np.where(WL3.isnull())[0]"
   ]
  },
  {
   "cell_type": "code",
   "execution_count": 22,
   "metadata": {
    "collapsed": false
   },
   "outputs": [
    {
     "name": "stdout",
     "output_type": "stream",
     "text": [
      "[]\n"
     ]
    }
   ],
   "source": [
    "print np.where(WL3.Wet.isnull())[0]"
   ]
  },
  {
   "cell_type": "code",
   "execution_count": 23,
   "metadata": {
    "collapsed": false
   },
   "outputs": [
    {
     "name": "stdout",
     "output_type": "stream",
     "text": [
      "[]\n"
     ]
    }
   ],
   "source": [
    "print np.where(LabDataWL3a.Wet.isnull())[0]"
   ]
  },
  {
   "cell_type": "code",
   "execution_count": 13,
   "metadata": {
    "collapsed": false
   },
   "outputs": [
    {
     "name": "stdout",
     "output_type": "stream",
     "text": [
      "[]\n"
     ]
    }
   ],
   "source": [
    "print np.where(LabDataWL3b.Wet.isnull())[0]"
   ]
  },
  {
   "cell_type": "markdown",
   "metadata": {},
   "source": [
    "# WL4"
   ]
  },
  {
   "cell_type": "code",
   "execution_count": 25,
   "metadata": {
    "collapsed": false
   },
   "outputs": [
    {
     "data": {
      "text/html": [
       "<div>\n",
       "<table border=\"1\" class=\"dataframe\">\n",
       "  <thead>\n",
       "    <tr style=\"text-align: right;\">\n",
       "      <th></th>\n",
       "      <th>Num</th>\n",
       "      <th>Empty</th>\n",
       "      <th>Wet</th>\n",
       "      <th>105C</th>\n",
       "      <th>550C</th>\n",
       "      <th>1000C</th>\n",
       "    </tr>\n",
       "  </thead>\n",
       "  <tbody>\n",
       "    <tr>\n",
       "      <th>0</th>\n",
       "      <td>1</td>\n",
       "      <td>4.4990</td>\n",
       "      <td>5.2421</td>\n",
       "      <td>4.7189</td>\n",
       "      <td>4.5181</td>\n",
       "      <td>4.5172</td>\n",
       "    </tr>\n",
       "    <tr>\n",
       "      <th>1</th>\n",
       "      <td>2</td>\n",
       "      <td>5.9866</td>\n",
       "      <td>6.6951</td>\n",
       "      <td>6.1841</td>\n",
       "      <td>6.0040</td>\n",
       "      <td>6.0032</td>\n",
       "    </tr>\n",
       "    <tr>\n",
       "      <th>2</th>\n",
       "      <td>3</td>\n",
       "      <td>4.2969</td>\n",
       "      <td>5.2410</td>\n",
       "      <td>4.5078</td>\n",
       "      <td>4.3664</td>\n",
       "      <td>4.3675</td>\n",
       "    </tr>\n",
       "    <tr>\n",
       "      <th>3</th>\n",
       "      <td>4</td>\n",
       "      <td>4.8050</td>\n",
       "      <td>5.5610</td>\n",
       "      <td>4.9540</td>\n",
       "      <td>4.8146</td>\n",
       "      <td>4.8131</td>\n",
       "    </tr>\n",
       "    <tr>\n",
       "      <th>4</th>\n",
       "      <td>5</td>\n",
       "      <td>5.3057</td>\n",
       "      <td>6.0431</td>\n",
       "      <td>5.4030</td>\n",
       "      <td>5.3168</td>\n",
       "      <td>5.3159</td>\n",
       "    </tr>\n",
       "  </tbody>\n",
       "</table>\n",
       "</div>"
      ],
      "text/plain": [
       "   Num   Empty     Wet    105C    550C   1000C\n",
       "0    1  4.4990  5.2421  4.7189  4.5181  4.5172\n",
       "1    2  5.9866  6.6951  6.1841  6.0040  6.0032\n",
       "2    3  4.2969  5.2410  4.5078  4.3664  4.3675\n",
       "3    4  4.8050  5.5610  4.9540  4.8146  4.8131\n",
       "4    5  5.3057  6.0431  5.4030  5.3168  5.3159"
      ]
     },
     "execution_count": 25,
     "metadata": {},
     "output_type": "execute_result"
    }
   ],
   "source": [
    "WL4 = LabDataWL4a\n",
    "WL4.head()"
   ]
  },
  {
   "cell_type": "markdown",
   "metadata": {},
   "source": [
    "Add BaseWeight Column = Empty - Wet \n",
    " * Empty = empty crucible\n",
    " * Wet = sample of 1\" sediment in crucible"
   ]
  },
  {
   "cell_type": "code",
   "execution_count": 27,
   "metadata": {
    "collapsed": false
   },
   "outputs": [],
   "source": [
    "WL4[\"BaseWeight\"] = WL4.Empty - WL4.Wet\n",
    "# want to use this again --- \n",
    "# how to write function/method to make new column BaseWeight = df.Empty - df.Wet  ??"
   ]
  },
  {
   "cell_type": "code",
   "execution_count": 35,
   "metadata": {
    "collapsed": false
   },
   "outputs": [
    {
     "data": {
      "text/html": [
       "<div>\n",
       "<table border=\"1\" class=\"dataframe\">\n",
       "  <thead>\n",
       "    <tr style=\"text-align: right;\">\n",
       "      <th></th>\n",
       "      <th>Num</th>\n",
       "      <th>Empty</th>\n",
       "      <th>Wet</th>\n",
       "      <th>105C</th>\n",
       "      <th>550C</th>\n",
       "      <th>1000C</th>\n",
       "      <th>Unnamed: 6</th>\n",
       "      <th>BaseWeight</th>\n",
       "    </tr>\n",
       "  </thead>\n",
       "  <tbody>\n",
       "    <tr>\n",
       "      <th>0</th>\n",
       "      <td>1</td>\n",
       "      <td>4.4990</td>\n",
       "      <td>5.2421</td>\n",
       "      <td>4.7189</td>\n",
       "      <td>4.5181</td>\n",
       "      <td>4.5172</td>\n",
       "      <td>-0.7431</td>\n",
       "      <td>-0.7431</td>\n",
       "    </tr>\n",
       "    <tr>\n",
       "      <th>1</th>\n",
       "      <td>2</td>\n",
       "      <td>5.9866</td>\n",
       "      <td>6.6951</td>\n",
       "      <td>6.1841</td>\n",
       "      <td>6.0040</td>\n",
       "      <td>6.0032</td>\n",
       "      <td>-0.7085</td>\n",
       "      <td>-0.7085</td>\n",
       "    </tr>\n",
       "    <tr>\n",
       "      <th>2</th>\n",
       "      <td>3</td>\n",
       "      <td>4.2969</td>\n",
       "      <td>5.2410</td>\n",
       "      <td>4.5078</td>\n",
       "      <td>4.3664</td>\n",
       "      <td>4.3675</td>\n",
       "      <td>-0.9441</td>\n",
       "      <td>-0.9441</td>\n",
       "    </tr>\n",
       "    <tr>\n",
       "      <th>3</th>\n",
       "      <td>4</td>\n",
       "      <td>4.8050</td>\n",
       "      <td>5.5610</td>\n",
       "      <td>4.9540</td>\n",
       "      <td>4.8146</td>\n",
       "      <td>4.8131</td>\n",
       "      <td>-0.7560</td>\n",
       "      <td>-0.7560</td>\n",
       "    </tr>\n",
       "    <tr>\n",
       "      <th>4</th>\n",
       "      <td>5</td>\n",
       "      <td>5.3057</td>\n",
       "      <td>6.0431</td>\n",
       "      <td>5.4030</td>\n",
       "      <td>5.3168</td>\n",
       "      <td>5.3159</td>\n",
       "      <td>-0.7374</td>\n",
       "      <td>-0.7374</td>\n",
       "    </tr>\n",
       "  </tbody>\n",
       "</table>\n",
       "</div>"
      ],
      "text/plain": [
       "   Num   Empty     Wet    105C    550C   1000C  Unnamed: 6  BaseWeight\n",
       "0    1  4.4990  5.2421  4.7189  4.5181  4.5172     -0.7431     -0.7431\n",
       "1    2  5.9866  6.6951  6.1841  6.0040  6.0032     -0.7085     -0.7085\n",
       "2    3  4.2969  5.2410  4.5078  4.3664  4.3675     -0.9441     -0.9441\n",
       "3    4  4.8050  5.5610  4.9540  4.8146  4.8131     -0.7560     -0.7560\n",
       "4    5  5.3057  6.0431  5.4030  5.3168  5.3159     -0.7374     -0.7374"
      ]
     },
     "execution_count": 35,
     "metadata": {},
     "output_type": "execute_result"
    }
   ],
   "source": [
    "WL4.head()"
   ]
  },
  {
   "cell_type": "code",
   "execution_count": 36,
   "metadata": {
    "collapsed": false
   },
   "outputs": [],
   "source": [
    "# df2.drop(\"C\", axis = 1)\n",
    "WL4.drop(\"Unnamed: 6\", axis = 1, inplace = True)\n"
   ]
  },
  {
   "cell_type": "code",
   "execution_count": 37,
   "metadata": {
    "collapsed": false
   },
   "outputs": [
    {
     "data": {
      "text/html": [
       "<div>\n",
       "<table border=\"1\" class=\"dataframe\">\n",
       "  <thead>\n",
       "    <tr style=\"text-align: right;\">\n",
       "      <th></th>\n",
       "      <th>Num</th>\n",
       "      <th>Empty</th>\n",
       "      <th>Wet</th>\n",
       "      <th>105C</th>\n",
       "      <th>550C</th>\n",
       "      <th>1000C</th>\n",
       "      <th>BaseWeight</th>\n",
       "    </tr>\n",
       "  </thead>\n",
       "  <tbody>\n",
       "    <tr>\n",
       "      <th>0</th>\n",
       "      <td>1</td>\n",
       "      <td>4.4990</td>\n",
       "      <td>5.2421</td>\n",
       "      <td>4.7189</td>\n",
       "      <td>4.5181</td>\n",
       "      <td>4.5172</td>\n",
       "      <td>-0.7431</td>\n",
       "    </tr>\n",
       "    <tr>\n",
       "      <th>1</th>\n",
       "      <td>2</td>\n",
       "      <td>5.9866</td>\n",
       "      <td>6.6951</td>\n",
       "      <td>6.1841</td>\n",
       "      <td>6.0040</td>\n",
       "      <td>6.0032</td>\n",
       "      <td>-0.7085</td>\n",
       "    </tr>\n",
       "    <tr>\n",
       "      <th>2</th>\n",
       "      <td>3</td>\n",
       "      <td>4.2969</td>\n",
       "      <td>5.2410</td>\n",
       "      <td>4.5078</td>\n",
       "      <td>4.3664</td>\n",
       "      <td>4.3675</td>\n",
       "      <td>-0.9441</td>\n",
       "    </tr>\n",
       "    <tr>\n",
       "      <th>3</th>\n",
       "      <td>4</td>\n",
       "      <td>4.8050</td>\n",
       "      <td>5.5610</td>\n",
       "      <td>4.9540</td>\n",
       "      <td>4.8146</td>\n",
       "      <td>4.8131</td>\n",
       "      <td>-0.7560</td>\n",
       "    </tr>\n",
       "    <tr>\n",
       "      <th>4</th>\n",
       "      <td>5</td>\n",
       "      <td>5.3057</td>\n",
       "      <td>6.0431</td>\n",
       "      <td>5.4030</td>\n",
       "      <td>5.3168</td>\n",
       "      <td>5.3159</td>\n",
       "      <td>-0.7374</td>\n",
       "    </tr>\n",
       "  </tbody>\n",
       "</table>\n",
       "</div>"
      ],
      "text/plain": [
       "   Num   Empty     Wet    105C    550C   1000C  BaseWeight\n",
       "0    1  4.4990  5.2421  4.7189  4.5181  4.5172     -0.7431\n",
       "1    2  5.9866  6.6951  6.1841  6.0040  6.0032     -0.7085\n",
       "2    3  4.2969  5.2410  4.5078  4.3664  4.3675     -0.9441\n",
       "3    4  4.8050  5.5610  4.9540  4.8146  4.8131     -0.7560\n",
       "4    5  5.3057  6.0431  5.4030  5.3168  5.3159     -0.7374"
      ]
     },
     "execution_count": 37,
     "metadata": {},
     "output_type": "execute_result"
    }
   ],
   "source": [
    "WL4.head()"
   ]
  },
  {
   "cell_type": "code",
   "execution_count": 38,
   "metadata": {
    "collapsed": false
   },
   "outputs": [
    {
     "data": {
      "text/plain": [
       "Num             int64\n",
       "Empty         float64\n",
       "Wet           float64\n",
       "105C          float64\n",
       "550C          float64\n",
       "1000C         float64\n",
       "BaseWeight    float64\n",
       "dtype: object"
      ]
     },
     "execution_count": 38,
     "metadata": {},
     "output_type": "execute_result"
    }
   ],
   "source": [
    "WL4.dtypes"
   ]
  },
  {
   "cell_type": "markdown",
   "metadata": {},
   "source": [
    "# WL5 "
   ]
  },
  {
   "cell_type": "code",
   "execution_count": 12,
   "metadata": {
    "collapsed": false
   },
   "outputs": [
    {
     "data": {
      "text/html": [
       "<div>\n",
       "<table border=\"1\" class=\"dataframe\">\n",
       "  <thead>\n",
       "    <tr style=\"text-align: right;\">\n",
       "      <th></th>\n",
       "      <th>Num</th>\n",
       "      <th>Empty</th>\n",
       "      <th>Wet</th>\n",
       "      <th>105C</th>\n",
       "      <th>550C</th>\n",
       "      <th>1000C</th>\n",
       "    </tr>\n",
       "  </thead>\n",
       "  <tbody>\n",
       "    <tr>\n",
       "      <th>0</th>\n",
       "      <td>1</td>\n",
       "      <td>4.4983</td>\n",
       "      <td>5.5914</td>\n",
       "      <td>4.6364</td>\n",
       "      <td>4.5184</td>\n",
       "      <td>4.5182</td>\n",
       "    </tr>\n",
       "    <tr>\n",
       "      <th>1</th>\n",
       "      <td>2</td>\n",
       "      <td>5.9860</td>\n",
       "      <td>7.4326</td>\n",
       "      <td>6.1553</td>\n",
       "      <td>5.0041</td>\n",
       "      <td>6.0028</td>\n",
       "    </tr>\n",
       "    <tr>\n",
       "      <th>2</th>\n",
       "      <td>3</td>\n",
       "      <td>4.2962</td>\n",
       "      <td>6.3133</td>\n",
       "      <td>4.6370</td>\n",
       "      <td>4.4221</td>\n",
       "      <td>4.4190</td>\n",
       "    </tr>\n",
       "    <tr>\n",
       "      <th>3</th>\n",
       "      <td>4</td>\n",
       "      <td>4.8042</td>\n",
       "      <td>7.1530</td>\n",
       "      <td>5.7472</td>\n",
       "      <td>5.5349</td>\n",
       "      <td>5.5314</td>\n",
       "    </tr>\n",
       "    <tr>\n",
       "      <th>4</th>\n",
       "      <td>5</td>\n",
       "      <td>5.3054</td>\n",
       "      <td>8.0300</td>\n",
       "      <td>5.5701</td>\n",
       "      <td>6.3646</td>\n",
       "      <td>6.3491</td>\n",
       "    </tr>\n",
       "  </tbody>\n",
       "</table>\n",
       "</div>"
      ],
      "text/plain": [
       "   Num   Empty     Wet    105C    550C   1000C\n",
       "0    1  4.4983  5.5914  4.6364  4.5184  4.5182\n",
       "1    2  5.9860  7.4326  6.1553  5.0041  6.0028\n",
       "2    3  4.2962  6.3133  4.6370  4.4221  4.4190\n",
       "3    4  4.8042  7.1530  5.7472  5.5349  5.5314\n",
       "4    5  5.3054  8.0300  5.5701  6.3646  6.3491"
      ]
     },
     "execution_count": 12,
     "metadata": {},
     "output_type": "execute_result"
    }
   ],
   "source": [
    "pieces5 = [LabDataWL5a, LabDataWL5b, LabDataWL5c]\n",
    "WL5 = pd.concat(pieces5)\n",
    "WL5.head()"
   ]
  },
  {
   "cell_type": "code",
   "execution_count": 18,
   "metadata": {
    "collapsed": false
   },
   "outputs": [
    {
     "name": "stdout",
     "output_type": "stream",
     "text": [
      "WL5a: (39, 6)\n",
      "WL5b: (45, 6)\n",
      "WL5c: (44, 6)\n",
      "(Total) WL5: (128, 6)\n"
     ]
    }
   ],
   "source": [
    "print \"WL5a: {}\".format(LabDataWL5a.shape)\n",
    "print \"WL5b: {}\".format(LabDataWL5b.shape)\n",
    "print \"WL5c: {}\".format(LabDataWL5c.shape)\n",
    "print \"(Total) WL5: {}\".format(WL5.shape)"
   ]
  },
  {
   "cell_type": "code",
   "execution_count": 19,
   "metadata": {
    "collapsed": false
   },
   "outputs": [
    {
     "data": {
      "text/plain": [
       "128"
      ]
     },
     "execution_count": 19,
     "metadata": {},
     "output_type": "execute_result"
    }
   ],
   "source": [
    "39 + 45 + 44"
   ]
  },
  {
   "cell_type": "code",
   "execution_count": 21,
   "metadata": {
    "collapsed": false
   },
   "outputs": [
    {
     "name": "stdout",
     "output_type": "stream",
     "text": [
      "[]\n"
     ]
    }
   ],
   "source": [
    "print np.where(WL5.isnull())[0]"
   ]
  },
  {
   "cell_type": "markdown",
   "metadata": {},
   "source": [
    "###  WL5 step 1 \n",
    "###### How to make a reusable function / method to subtract two columns <br/>"
   ]
  },
  {
   "cell_type": "code",
   "execution_count": 51,
   "metadata": {
    "collapsed": true
   },
   "outputs": [],
   "source": [
    "def BaseWeightfunc(WetCol, EmptyCol):\n",
    "    BaseWeight = [WetCol - EmptyCol]\n",
    "    return BaseWeight"
   ]
  },
  {
   "cell_type": "code",
   "execution_count": 22,
   "metadata": {
    "collapsed": false
   },
   "outputs": [
    {
     "ename": "SyntaxError",
     "evalue": "'return' outside function (<ipython-input-22-328aa53cad07>, line 5)",
     "output_type": "error",
     "traceback": [
      "\u001b[0;36m  File \u001b[0;32m\"<ipython-input-22-328aa53cad07>\"\u001b[0;36m, line \u001b[0;32m5\u001b[0m\n\u001b[0;31m    return (i, (W - E))\u001b[0m\n\u001b[0;31mSyntaxError\u001b[0m\u001b[0;31m:\u001b[0m 'return' outside function\n"
     ]
    }
   ],
   "source": [
    "E = WL5.Empty\n",
    "W = WL5.Wet\n",
    "\n",
    "for i, E, W in enumerate(Empty): \n",
    "    return (i, (W - E))\n",
    "    "
   ]
  },
  {
   "cell_type": "code",
   "execution_count": 68,
   "metadata": {
    "collapsed": false
   },
   "outputs": [
    {
     "data": {
      "text/plain": [
       "[0     1.0931\n",
       " 1     1.4466\n",
       " 2     2.0171\n",
       " 3     2.3488\n",
       " 4     2.7246\n",
       " 5     2.5925\n",
       " 6     2.5820\n",
       " 7     2.8266\n",
       " 8     2.0579\n",
       " 9     2.8150\n",
       " 10    2.5474\n",
       " 11    2.3540\n",
       " 12    3.4800\n",
       " 13    2.6714\n",
       " 14    2.3096\n",
       " 15    3.2266\n",
       " 16    2.2817\n",
       " 17    2.7451\n",
       " 18    2.0303\n",
       " 19    3.4444\n",
       " 20    3.0000\n",
       " 21    3.7281\n",
       " 22    2.8262\n",
       " 23    3.4561\n",
       " 24    4.1131\n",
       " 25    3.7865\n",
       " 26    4.2442\n",
       " 27    3.6993\n",
       " 28    4.2912\n",
       " 29    3.1193\n",
       "        ...  \n",
       " 14    2.3764\n",
       " 15    2.0555\n",
       " 16    2.2915\n",
       " 17    3.8743\n",
       " 18    3.6905\n",
       " 19    2.6389\n",
       " 20    2.5685\n",
       " 21    2.9441\n",
       " 22    3.7960\n",
       " 23    4.6746\n",
       " 24    2.9730\n",
       " 25    3.3482\n",
       " 26    5.0882\n",
       " 27    4.4311\n",
       " 28    4.1432\n",
       " 29    3.4484\n",
       " 30    4.6157\n",
       " 31    5.0816\n",
       " 32    4.9735\n",
       " 33    4.2805\n",
       " 34    4.0856\n",
       " 35    4.9999\n",
       " 36    4.4638\n",
       " 37    5.2683\n",
       " 38    5.4454\n",
       " 39    3.2393\n",
       " 40    4.1155\n",
       " 41    4.1521\n",
       " 42    3.2628\n",
       " 43    2.5918\n",
       " dtype: float64]"
      ]
     },
     "execution_count": 68,
     "metadata": {},
     "output_type": "execute_result"
    }
   ],
   "source": [
    "BaseWeightfunc(WL5.Wet, WL5.Empty)"
   ]
  },
  {
   "cell_type": "code",
   "execution_count": 58,
   "metadata": {
    "collapsed": false
   },
   "outputs": [
    {
     "ename": "TypeError",
     "evalue": "(\"'list' object is not callable\", u'occurred at index 0')",
     "output_type": "error",
     "traceback": [
      "\u001b[0;31m\u001b[0m",
      "\u001b[0;31mTypeError\u001b[0mTraceback (most recent call last)",
      "\u001b[0;32m<ipython-input-58-8a2af38e42d5>\u001b[0m in \u001b[0;36m<module>\u001b[0;34m()\u001b[0m\n\u001b[0;32m----> 1\u001b[0;31m \u001b[0mWL5\u001b[0m\u001b[1;33m.\u001b[0m\u001b[0mapply\u001b[0m\u001b[1;33m(\u001b[0m\u001b[0mBaseWeightfunc\u001b[0m\u001b[1;33m(\u001b[0m\u001b[0mWL5\u001b[0m\u001b[1;33m.\u001b[0m\u001b[0mWet\u001b[0m\u001b[1;33m,\u001b[0m \u001b[0mWL5\u001b[0m\u001b[1;33m.\u001b[0m\u001b[0mEmpty\u001b[0m\u001b[1;33m)\u001b[0m\u001b[1;33m,\u001b[0m \u001b[0maxis\u001b[0m \u001b[1;33m=\u001b[0m \u001b[1;36m1\u001b[0m\u001b[1;33m)\u001b[0m\u001b[1;33m\u001b[0m\u001b[0m\n\u001b[0m",
      "\u001b[0;32mC:\\Users\\Amber\\Anaconda2\\lib\\site-packages\\pandas\\core\\frame.pyc\u001b[0m in \u001b[0;36mapply\u001b[0;34m(self, func, axis, broadcast, raw, reduce, args, **kwds)\u001b[0m\n\u001b[1;32m   4059\u001b[0m                     \u001b[1;32mif\u001b[0m \u001b[0mreduce\u001b[0m \u001b[1;32mis\u001b[0m \u001b[0mNone\u001b[0m\u001b[1;33m:\u001b[0m\u001b[1;33m\u001b[0m\u001b[0m\n\u001b[1;32m   4060\u001b[0m                         \u001b[0mreduce\u001b[0m \u001b[1;33m=\u001b[0m \u001b[0mTrue\u001b[0m\u001b[1;33m\u001b[0m\u001b[0m\n\u001b[0;32m-> 4061\u001b[0;31m                     \u001b[1;32mreturn\u001b[0m \u001b[0mself\u001b[0m\u001b[1;33m.\u001b[0m\u001b[0m_apply_standard\u001b[0m\u001b[1;33m(\u001b[0m\u001b[0mf\u001b[0m\u001b[1;33m,\u001b[0m \u001b[0maxis\u001b[0m\u001b[1;33m,\u001b[0m \u001b[0mreduce\u001b[0m\u001b[1;33m=\u001b[0m\u001b[0mreduce\u001b[0m\u001b[1;33m)\u001b[0m\u001b[1;33m\u001b[0m\u001b[0m\n\u001b[0m\u001b[1;32m   4062\u001b[0m             \u001b[1;32melse\u001b[0m\u001b[1;33m:\u001b[0m\u001b[1;33m\u001b[0m\u001b[0m\n\u001b[1;32m   4063\u001b[0m                 \u001b[1;32mreturn\u001b[0m \u001b[0mself\u001b[0m\u001b[1;33m.\u001b[0m\u001b[0m_apply_broadcast\u001b[0m\u001b[1;33m(\u001b[0m\u001b[0mf\u001b[0m\u001b[1;33m,\u001b[0m \u001b[0maxis\u001b[0m\u001b[1;33m)\u001b[0m\u001b[1;33m\u001b[0m\u001b[0m\n",
      "\u001b[0;32mC:\\Users\\Amber\\Anaconda2\\lib\\site-packages\\pandas\\core\\frame.pyc\u001b[0m in \u001b[0;36m_apply_standard\u001b[0;34m(self, func, axis, ignore_failures, reduce)\u001b[0m\n\u001b[1;32m   4155\u001b[0m             \u001b[1;32mtry\u001b[0m\u001b[1;33m:\u001b[0m\u001b[1;33m\u001b[0m\u001b[0m\n\u001b[1;32m   4156\u001b[0m                 \u001b[1;32mfor\u001b[0m \u001b[0mi\u001b[0m\u001b[1;33m,\u001b[0m \u001b[0mv\u001b[0m \u001b[1;32min\u001b[0m \u001b[0menumerate\u001b[0m\u001b[1;33m(\u001b[0m\u001b[0mseries_gen\u001b[0m\u001b[1;33m)\u001b[0m\u001b[1;33m:\u001b[0m\u001b[1;33m\u001b[0m\u001b[0m\n\u001b[0;32m-> 4157\u001b[0;31m                     \u001b[0mresults\u001b[0m\u001b[1;33m[\u001b[0m\u001b[0mi\u001b[0m\u001b[1;33m]\u001b[0m \u001b[1;33m=\u001b[0m \u001b[0mfunc\u001b[0m\u001b[1;33m(\u001b[0m\u001b[0mv\u001b[0m\u001b[1;33m)\u001b[0m\u001b[1;33m\u001b[0m\u001b[0m\n\u001b[0m\u001b[1;32m   4158\u001b[0m                     \u001b[0mkeys\u001b[0m\u001b[1;33m.\u001b[0m\u001b[0mappend\u001b[0m\u001b[1;33m(\u001b[0m\u001b[0mv\u001b[0m\u001b[1;33m.\u001b[0m\u001b[0mname\u001b[0m\u001b[1;33m)\u001b[0m\u001b[1;33m\u001b[0m\u001b[0m\n\u001b[1;32m   4159\u001b[0m             \u001b[1;32mexcept\u001b[0m \u001b[0mException\u001b[0m \u001b[1;32mas\u001b[0m \u001b[0me\u001b[0m\u001b[1;33m:\u001b[0m\u001b[1;33m\u001b[0m\u001b[0m\n",
      "\u001b[0;31mTypeError\u001b[0m: (\"'list' object is not callable\", u'occurred at index 0')"
     ]
    }
   ],
   "source": [
    "WL5.apply(BaseWeightfunc(WL5.Wet, WL5.Empty), axis = 1)"
   ]
  },
  {
   "cell_type": "code",
   "execution_count": 53,
   "metadata": {
    "collapsed": false
   },
   "outputs": [
    {
     "data": {
      "text/html": [
       "<div>\n",
       "<table border=\"1\" class=\"dataframe\">\n",
       "  <thead>\n",
       "    <tr style=\"text-align: right;\">\n",
       "      <th></th>\n",
       "      <th>Num</th>\n",
       "      <th>Empty</th>\n",
       "      <th>Wet</th>\n",
       "      <th>105C</th>\n",
       "      <th>550C</th>\n",
       "      <th>1000C</th>\n",
       "    </tr>\n",
       "  </thead>\n",
       "  <tbody>\n",
       "    <tr>\n",
       "      <th>0</th>\n",
       "      <td>1</td>\n",
       "      <td>4.4983</td>\n",
       "      <td>5.5914</td>\n",
       "      <td>4.6364</td>\n",
       "      <td>4.5184</td>\n",
       "      <td>4.5182</td>\n",
       "    </tr>\n",
       "    <tr>\n",
       "      <th>1</th>\n",
       "      <td>2</td>\n",
       "      <td>5.9860</td>\n",
       "      <td>7.4326</td>\n",
       "      <td>6.1553</td>\n",
       "      <td>5.0041</td>\n",
       "      <td>6.0028</td>\n",
       "    </tr>\n",
       "    <tr>\n",
       "      <th>2</th>\n",
       "      <td>3</td>\n",
       "      <td>4.2962</td>\n",
       "      <td>6.3133</td>\n",
       "      <td>4.6370</td>\n",
       "      <td>4.4221</td>\n",
       "      <td>4.4190</td>\n",
       "    </tr>\n",
       "    <tr>\n",
       "      <th>3</th>\n",
       "      <td>4</td>\n",
       "      <td>4.8042</td>\n",
       "      <td>7.1530</td>\n",
       "      <td>5.7472</td>\n",
       "      <td>5.5349</td>\n",
       "      <td>5.5314</td>\n",
       "    </tr>\n",
       "    <tr>\n",
       "      <th>4</th>\n",
       "      <td>5</td>\n",
       "      <td>5.3054</td>\n",
       "      <td>8.0300</td>\n",
       "      <td>5.5701</td>\n",
       "      <td>6.3646</td>\n",
       "      <td>6.3491</td>\n",
       "    </tr>\n",
       "  </tbody>\n",
       "</table>\n",
       "</div>"
      ],
      "text/plain": [
       "   Num   Empty     Wet    105C    550C   1000C\n",
       "0    1  4.4983  5.5914  4.6364  4.5184  4.5182\n",
       "1    2  5.9860  7.4326  6.1553  5.0041  6.0028\n",
       "2    3  4.2962  6.3133  4.6370  4.4221  4.4190\n",
       "3    4  4.8042  7.1530  5.7472  5.5349  5.5314\n",
       "4    5  5.3054  8.0300  5.5701  6.3646  6.3491"
      ]
     },
     "execution_count": 53,
     "metadata": {},
     "output_type": "execute_result"
    }
   ],
   "source": [
    "WL5.head()"
   ]
  },
  {
   "cell_type": "markdown",
   "metadata": {},
   "source": [
    "# Plots!"
   ]
  },
  {
   "cell_type": "code",
   "execution_count": 40,
   "metadata": {
    "collapsed": true
   },
   "outputs": [],
   "source": [
    "import plotly.plotly as py\n",
    "import plotly.graph_objs as go"
   ]
  },
  {
   "cell_type": "code",
   "execution_count": 41,
   "metadata": {
    "collapsed": true
   },
   "outputs": [],
   "source": [
    "import plotly \n",
    "plotly.tools.set_credentials_file(username='akell47', api_key='vk5wgdfotc')\n",
    "\n",
    "py.sign_in(\"akell47\", \"vk5wgdfotc\")"
   ]
  },
  {
   "cell_type": "code",
   "execution_count": 42,
   "metadata": {
    "collapsed": false
   },
   "outputs": [
    {
     "data": {
      "text/html": [
       "<div>\n",
       "<table border=\"1\" class=\"dataframe\">\n",
       "  <thead>\n",
       "    <tr style=\"text-align: right;\">\n",
       "      <th></th>\n",
       "      <th>Num</th>\n",
       "      <th>Empty</th>\n",
       "      <th>Wet</th>\n",
       "      <th>105C</th>\n",
       "      <th>550C</th>\n",
       "      <th>1000C</th>\n",
       "      <th>BaseWeight</th>\n",
       "      <th>Water</th>\n",
       "      <th>PctWater</th>\n",
       "      <th>OrganicMatter</th>\n",
       "      <th>PctOrganic</th>\n",
       "      <th>Carbonates</th>\n",
       "      <th>PctCarbon</th>\n",
       "      <th>Ash</th>\n",
       "      <th>PctAshOxides</th>\n",
       "    </tr>\n",
       "  </thead>\n",
       "  <tbody>\n",
       "    <tr>\n",
       "      <th>count</th>\n",
       "      <td>89.000000</td>\n",
       "      <td>89.000000</td>\n",
       "      <td>89.000000</td>\n",
       "      <td>89.000000</td>\n",
       "      <td>89.000000</td>\n",
       "      <td>89.000000</td>\n",
       "      <td>89.000000</td>\n",
       "      <td>89.000000</td>\n",
       "      <td>89.000000</td>\n",
       "      <td>89.000000</td>\n",
       "      <td>89.000000</td>\n",
       "      <td>89.000000</td>\n",
       "      <td>89.000000</td>\n",
       "      <td>89.000000</td>\n",
       "      <td>89.000000</td>\n",
       "    </tr>\n",
       "    <tr>\n",
       "      <th>mean</th>\n",
       "      <td>22.752809</td>\n",
       "      <td>5.151140</td>\n",
       "      <td>7.502586</td>\n",
       "      <td>6.800545</td>\n",
       "      <td>6.676022</td>\n",
       "      <td>6.667596</td>\n",
       "      <td>2.351446</td>\n",
       "      <td>0.702041</td>\n",
       "      <td>0.400798</td>\n",
       "      <td>0.124523</td>\n",
       "      <td>0.074541</td>\n",
       "      <td>0.008427</td>\n",
       "      <td>0.007588</td>\n",
       "      <td>1.516455</td>\n",
       "      <td>0.517073</td>\n",
       "    </tr>\n",
       "    <tr>\n",
       "      <th>std</th>\n",
       "      <td>12.920457</td>\n",
       "      <td>0.870517</td>\n",
       "      <td>1.564191</td>\n",
       "      <td>1.527180</td>\n",
       "      <td>1.572013</td>\n",
       "      <td>1.550896</td>\n",
       "      <td>1.319628</td>\n",
       "      <td>0.310897</td>\n",
       "      <td>0.247316</td>\n",
       "      <td>0.173890</td>\n",
       "      <td>0.103719</td>\n",
       "      <td>0.162644</td>\n",
       "      <td>0.093122</td>\n",
       "      <td>1.269643</td>\n",
       "      <td>0.299693</td>\n",
       "    </tr>\n",
       "    <tr>\n",
       "      <th>min</th>\n",
       "      <td>1.000000</td>\n",
       "      <td>3.139800</td>\n",
       "      <td>4.675600</td>\n",
       "      <td>4.283600</td>\n",
       "      <td>4.206100</td>\n",
       "      <td>4.206100</td>\n",
       "      <td>0.348100</td>\n",
       "      <td>0.250100</td>\n",
       "      <td>0.143401</td>\n",
       "      <td>-0.936400</td>\n",
       "      <td>-0.511303</td>\n",
       "      <td>-0.998400</td>\n",
       "      <td>-0.445039</td>\n",
       "      <td>0.012600</td>\n",
       "      <td>0.033656</td>\n",
       "    </tr>\n",
       "    <tr>\n",
       "      <th>25%</th>\n",
       "      <td>12.000000</td>\n",
       "      <td>4.562000</td>\n",
       "      <td>6.348400</td>\n",
       "      <td>5.515000</td>\n",
       "      <td>5.341890</td>\n",
       "      <td>5.376000</td>\n",
       "      <td>1.337200</td>\n",
       "      <td>0.469400</td>\n",
       "      <td>0.189299</td>\n",
       "      <td>0.073700</td>\n",
       "      <td>0.026611</td>\n",
       "      <td>0.000700</td>\n",
       "      <td>0.000260</td>\n",
       "      <td>0.255700</td>\n",
       "      <td>0.169214</td>\n",
       "    </tr>\n",
       "    <tr>\n",
       "      <th>50%</th>\n",
       "      <td>23.000000</td>\n",
       "      <td>4.902500</td>\n",
       "      <td>7.359500</td>\n",
       "      <td>6.588300</td>\n",
       "      <td>6.355000</td>\n",
       "      <td>6.476000</td>\n",
       "      <td>2.281500</td>\n",
       "      <td>0.620400</td>\n",
       "      <td>0.271246</td>\n",
       "      <td>0.110900</td>\n",
       "      <td>0.068823</td>\n",
       "      <td>0.001800</td>\n",
       "      <td>0.000716</td>\n",
       "      <td>1.375400</td>\n",
       "      <td>0.655172</td>\n",
       "    </tr>\n",
       "    <tr>\n",
       "      <th>75%</th>\n",
       "      <td>34.000000</td>\n",
       "      <td>5.627500</td>\n",
       "      <td>8.695700</td>\n",
       "      <td>7.870900</td>\n",
       "      <td>7.803400</td>\n",
       "      <td>7.803000</td>\n",
       "      <td>3.278800</td>\n",
       "      <td>0.860300</td>\n",
       "      <td>0.706802</td>\n",
       "      <td>0.173400</td>\n",
       "      <td>0.136387</td>\n",
       "      <td>0.002500</td>\n",
       "      <td>0.001340</td>\n",
       "      <td>2.441500</td>\n",
       "      <td>0.784532</td>\n",
       "    </tr>\n",
       "    <tr>\n",
       "      <th>max</th>\n",
       "      <td>45.000000</td>\n",
       "      <td>7.653000</td>\n",
       "      <td>11.328500</td>\n",
       "      <td>10.729300</td>\n",
       "      <td>10.720400</td>\n",
       "      <td>10.719800</td>\n",
       "      <td>5.233800</td>\n",
       "      <td>1.828500</td>\n",
       "      <td>0.803327</td>\n",
       "      <td>1.100000</td>\n",
       "      <td>0.490327</td>\n",
       "      <td>1.111200</td>\n",
       "      <td>0.606749</td>\n",
       "      <td>4.201100</td>\n",
       "      <td>0.843802</td>\n",
       "    </tr>\n",
       "  </tbody>\n",
       "</table>\n",
       "</div>"
      ],
      "text/plain": [
       "             Num      Empty        Wet       105C       550C      1000C  \\\n",
       "count  89.000000  89.000000  89.000000  89.000000  89.000000  89.000000   \n",
       "mean   22.752809   5.151140   7.502586   6.800545   6.676022   6.667596   \n",
       "std    12.920457   0.870517   1.564191   1.527180   1.572013   1.550896   \n",
       "min     1.000000   3.139800   4.675600   4.283600   4.206100   4.206100   \n",
       "25%    12.000000   4.562000   6.348400   5.515000   5.341890   5.376000   \n",
       "50%    23.000000   4.902500   7.359500   6.588300   6.355000   6.476000   \n",
       "75%    34.000000   5.627500   8.695700   7.870900   7.803400   7.803000   \n",
       "max    45.000000   7.653000  11.328500  10.729300  10.720400  10.719800   \n",
       "\n",
       "       BaseWeight      Water   PctWater  OrganicMatter  PctOrganic  \\\n",
       "count   89.000000  89.000000  89.000000      89.000000   89.000000   \n",
       "mean     2.351446   0.702041   0.400798       0.124523    0.074541   \n",
       "std      1.319628   0.310897   0.247316       0.173890    0.103719   \n",
       "min      0.348100   0.250100   0.143401      -0.936400   -0.511303   \n",
       "25%      1.337200   0.469400   0.189299       0.073700    0.026611   \n",
       "50%      2.281500   0.620400   0.271246       0.110900    0.068823   \n",
       "75%      3.278800   0.860300   0.706802       0.173400    0.136387   \n",
       "max      5.233800   1.828500   0.803327       1.100000    0.490327   \n",
       "\n",
       "       Carbonates  PctCarbon        Ash  PctAshOxides  \n",
       "count   89.000000  89.000000  89.000000     89.000000  \n",
       "mean     0.008427   0.007588   1.516455      0.517073  \n",
       "std      0.162644   0.093122   1.269643      0.299693  \n",
       "min     -0.998400  -0.445039   0.012600      0.033656  \n",
       "25%      0.000700   0.000260   0.255700      0.169214  \n",
       "50%      0.001800   0.000716   1.375400      0.655172  \n",
       "75%      0.002500   0.001340   2.441500      0.784532  \n",
       "max      1.111200   0.606749   4.201100      0.843802  "
      ]
     },
     "execution_count": 42,
     "metadata": {},
     "output_type": "execute_result"
    }
   ],
   "source": [
    "WL3.describe()"
   ]
  },
  {
   "cell_type": "code",
   "execution_count": 43,
   "metadata": {
    "collapsed": false
   },
   "outputs": [
    {
     "data": {
      "text/html": [
       "<iframe id=\"igraph\" scrolling=\"no\" style=\"border:none;\" seamless=\"seamless\" src=\"https://plot.ly/~akell47/104.embed\" height=\"525px\" width=\"100%\"></iframe>"
      ],
      "text/plain": [
       "<plotly.tools.PlotlyDisplay object>"
      ]
     },
     "execution_count": 43,
     "metadata": {},
     "output_type": "execute_result"
    }
   ],
   "source": [
    "y0a = WL3.PctWater\n",
    "y0b = WL3.PctOrganic\n",
    "y0c = WL3.PctCarbon\n",
    "y0d = WL3.PctAshOxides\n",
    "\n",
    "A = go.Box(\n",
    "    y = y0a,\n",
    "    name = 'WL3 Percent Water',\n",
    "    marker = dict(\n",
    "        color = 'rgb(214, 12, 140)',\n",
    "    )\n",
    ")\n",
    "B = go.Box(\n",
    "    y = y0b,\n",
    "    name = 'WL3 Percent Organic',\n",
    "    marker = dict(\n",
    "        color = 'rgb(0, 128, 128)',\n",
    "    )\n",
    ")\n",
    "C = go.Box(\n",
    "    y = y0c,\n",
    "    name = 'WL3 Percent Carbonates',\n",
    "    marker = dict(\n",
    "        color = 'rgb(50, 30, 110)'\n",
    "    )\n",
    ")\n",
    "D = go.Box(\n",
    "    y = y0d,\n",
    "    name = 'WL3 Percent Ash and Oxides',\n",
    "    marker = dict(\n",
    "        color = 'rgb(32, 178, 170)'\n",
    "    )\n",
    ")\n",
    "\n",
    "data = [A, B, C, D]\n",
    "py.iplot(data)"
   ]
  },
  {
   "cell_type": "markdown",
   "metadata": {},
   "source": [
    "<div>\n",
    "    <a href=\"https://plot.ly/~akell47/102/\" target=\"_blank\" title=\"WL3 Percent Water, WL3 Percent Organic, WL3 Percent Carbonates, WL3 Percent Ash and Oxides\" style=\"display: block; text-align: center;\"><img src=\"https://plot.ly/~akell47/102.png\" alt=\"WL3 Percent Water, WL3 Percent Organic, WL3 Percent Carbonates, WL3 Percent Ash and Oxides\" style=\"max-width: 100%;width: 600px;\"  width=\"600\" onerror=\"this.onerror=null;this.src='https://plot.ly/404.png';\" /></a>\n",
    "    <script data-plotly=\"akell47:102\"  src=\"https://plot.ly/embed.js\" async></script>\n",
    "</div>\n"
   ]
  },
  {
   "cell_type": "code",
   "execution_count": 44,
   "metadata": {
    "collapsed": false
   },
   "outputs": [
    {
     "data": {
      "text/html": [
       "<iframe id=\"igraph\" scrolling=\"no\" style=\"border:none;\" seamless=\"seamless\" src=\"https://plot.ly/~akell47/106.embed\" height=\"525px\" width=\"100%\"></iframe>"
      ],
      "text/plain": [
       "<plotly.tools.PlotlyDisplay object>"
      ]
     },
     "execution_count": 44,
     "metadata": {},
     "output_type": "execute_result"
    }
   ],
   "source": [
    "y0a = WL3.PctWater\n",
    "y0b = WL3.PctOrganic\n",
    "y0c = WL3.PctCarbon\n",
    "y0d = WL3.PctAshOxides\n",
    "\n",
    "\n",
    "A = go.Scatter(\n",
    "    y = y0a,\n",
    "    mode = 'lines+markers',\n",
    "    name = 'Percent Water',\n",
    "    marker = dict(\n",
    "        color = 'rgb(214, 12, 140)'\n",
    "    )\n",
    ")\n",
    "B = go.Scatter(\n",
    "    y = y0b,\n",
    "    mode = 'lines+markers',\n",
    "    name = 'Percent Organic Matter',\n",
    "    marker = dict(\n",
    "        color = 'rgb(0, 128, 128)'\n",
    "    )\n",
    ")\n",
    "C = go.Scatter(\n",
    "    y= y0c,\n",
    "    mode = 'lines+markers',\n",
    "    name = 'Percent Carbonites',\n",
    "    marker = dict(\n",
    "        color = 'rgb(50, 30, 110)'\n",
    "    )\n",
    ")\n",
    "D = go.Scatter(\n",
    "    y= y0c,\n",
    "    mode = 'lines+markers',\n",
    "    name = 'Percent Ash and Oxides',\n",
    "    marker = dict(\n",
    "        color = 'rgb(32, 178, 170)'\n",
    "    )\n",
    ")\n",
    "\n",
    "data = [A, B, C, D]\n",
    "\n",
    "# py.iplot(data, filename='line-mode')\n",
    "py.iplot(data)"
   ]
  },
  {
   "cell_type": "code",
   "execution_count": 45,
   "metadata": {
    "collapsed": false
   },
   "outputs": [
    {
     "data": {
      "text/html": [
       "<div>\n",
       "<table border=\"1\" class=\"dataframe\">\n",
       "  <thead>\n",
       "    <tr style=\"text-align: right;\">\n",
       "      <th></th>\n",
       "      <th>Num</th>\n",
       "      <th>Empty</th>\n",
       "      <th>Wet</th>\n",
       "      <th>105C</th>\n",
       "      <th>550C</th>\n",
       "      <th>1000C</th>\n",
       "      <th>BaseWeight</th>\n",
       "      <th>Water</th>\n",
       "      <th>PctWater</th>\n",
       "      <th>OrganicMatter</th>\n",
       "      <th>PctOrganic</th>\n",
       "      <th>Carbonates</th>\n",
       "      <th>PctCarbon</th>\n",
       "      <th>Ash</th>\n",
       "      <th>PctAshOxides</th>\n",
       "    </tr>\n",
       "  </thead>\n",
       "  <tbody>\n",
       "    <tr>\n",
       "      <th>0</th>\n",
       "      <td>1</td>\n",
       "      <td>4.5581</td>\n",
       "      <td>5.7046</td>\n",
       "      <td>4.8539</td>\n",
       "      <td>4.64590</td>\n",
       "      <td>4.6451</td>\n",
       "      <td>1.1465</td>\n",
       "      <td>0.8507</td>\n",
       "      <td>0.741997</td>\n",
       "      <td>0.20800</td>\n",
       "      <td>0.181422</td>\n",
       "      <td>0.0008</td>\n",
       "      <td>0.000698</td>\n",
       "      <td>0.0870</td>\n",
       "      <td>0.075883</td>\n",
       "    </tr>\n",
       "    <tr>\n",
       "      <th>1</th>\n",
       "      <td>2</td>\n",
       "      <td>6.0636</td>\n",
       "      <td>6.8480</td>\n",
       "      <td>6.2318</td>\n",
       "      <td>6.09160</td>\n",
       "      <td>6.0900</td>\n",
       "      <td>0.7844</td>\n",
       "      <td>0.6162</td>\n",
       "      <td>0.785569</td>\n",
       "      <td>0.14020</td>\n",
       "      <td>0.178735</td>\n",
       "      <td>0.0016</td>\n",
       "      <td>0.002040</td>\n",
       "      <td>0.0264</td>\n",
       "      <td>0.033656</td>\n",
       "    </tr>\n",
       "    <tr>\n",
       "      <th>2</th>\n",
       "      <td>3</td>\n",
       "      <td>4.3505</td>\n",
       "      <td>4.8886</td>\n",
       "      <td>4.4667</td>\n",
       "      <td>4.37480</td>\n",
       "      <td>4.3728</td>\n",
       "      <td>0.5381</td>\n",
       "      <td>0.4219</td>\n",
       "      <td>0.784055</td>\n",
       "      <td>0.09190</td>\n",
       "      <td>0.170786</td>\n",
       "      <td>0.0020</td>\n",
       "      <td>0.003717</td>\n",
       "      <td>0.0223</td>\n",
       "      <td>0.041442</td>\n",
       "    </tr>\n",
       "    <tr>\n",
       "      <th>3</th>\n",
       "      <td>4</td>\n",
       "      <td>4.8683</td>\n",
       "      <td>5.2294</td>\n",
       "      <td>4.9396</td>\n",
       "      <td>4.88060</td>\n",
       "      <td>4.8809</td>\n",
       "      <td>0.3611</td>\n",
       "      <td>0.2898</td>\n",
       "      <td>0.802548</td>\n",
       "      <td>0.05900</td>\n",
       "      <td>0.163390</td>\n",
       "      <td>-0.0003</td>\n",
       "      <td>-0.000831</td>\n",
       "      <td>0.0126</td>\n",
       "      <td>0.034893</td>\n",
       "    </tr>\n",
       "    <tr>\n",
       "      <th>4</th>\n",
       "      <td>5</td>\n",
       "      <td>5.3771</td>\n",
       "      <td>5.9840</td>\n",
       "      <td>5.5150</td>\n",
       "      <td>5.34189</td>\n",
       "      <td>5.4194</td>\n",
       "      <td>0.6069</td>\n",
       "      <td>0.4690</td>\n",
       "      <td>0.772780</td>\n",
       "      <td>0.17311</td>\n",
       "      <td>0.285236</td>\n",
       "      <td>-0.0775</td>\n",
       "      <td>-0.127715</td>\n",
       "      <td>0.0423</td>\n",
       "      <td>0.069698</td>\n",
       "    </tr>\n",
       "    <tr>\n",
       "      <th>5</th>\n",
       "      <td>6</td>\n",
       "      <td>5.8345</td>\n",
       "      <td>6.4319</td>\n",
       "      <td>5.9625</td>\n",
       "      <td>5.86880</td>\n",
       "      <td>5.8690</td>\n",
       "      <td>0.5974</td>\n",
       "      <td>0.4694</td>\n",
       "      <td>0.785738</td>\n",
       "      <td>0.09370</td>\n",
       "      <td>0.156846</td>\n",
       "      <td>-0.0002</td>\n",
       "      <td>-0.000335</td>\n",
       "      <td>0.0345</td>\n",
       "      <td>0.057750</td>\n",
       "    </tr>\n",
       "    <tr>\n",
       "      <th>6</th>\n",
       "      <td>7</td>\n",
       "      <td>4.7149</td>\n",
       "      <td>5.5440</td>\n",
       "      <td>4.9024</td>\n",
       "      <td>4.78470</td>\n",
       "      <td>4.7842</td>\n",
       "      <td>0.8291</td>\n",
       "      <td>0.6416</td>\n",
       "      <td>0.773851</td>\n",
       "      <td>0.11770</td>\n",
       "      <td>0.141961</td>\n",
       "      <td>0.0005</td>\n",
       "      <td>0.000603</td>\n",
       "      <td>0.0693</td>\n",
       "      <td>0.083585</td>\n",
       "    </tr>\n",
       "    <tr>\n",
       "      <th>7</th>\n",
       "      <td>8</td>\n",
       "      <td>4.9928</td>\n",
       "      <td>5.5699</td>\n",
       "      <td>5.1063</td>\n",
       "      <td>5.02170</td>\n",
       "      <td>5.0212</td>\n",
       "      <td>0.5771</td>\n",
       "      <td>0.4636</td>\n",
       "      <td>0.803327</td>\n",
       "      <td>0.08460</td>\n",
       "      <td>0.146595</td>\n",
       "      <td>0.0005</td>\n",
       "      <td>0.000866</td>\n",
       "      <td>0.0284</td>\n",
       "      <td>0.049212</td>\n",
       "    </tr>\n",
       "    <tr>\n",
       "      <th>8</th>\n",
       "      <td>9</td>\n",
       "      <td>4.7002</td>\n",
       "      <td>5.0483</td>\n",
       "      <td>4.7787</td>\n",
       "      <td>4.72160</td>\n",
       "      <td>4.7218</td>\n",
       "      <td>0.3481</td>\n",
       "      <td>0.2696</td>\n",
       "      <td>0.774490</td>\n",
       "      <td>0.05710</td>\n",
       "      <td>0.164033</td>\n",
       "      <td>-0.0002</td>\n",
       "      <td>-0.000575</td>\n",
       "      <td>0.0216</td>\n",
       "      <td>0.062051</td>\n",
       "    </tr>\n",
       "    <tr>\n",
       "      <th>9</th>\n",
       "      <td>10</td>\n",
       "      <td>5.0643</td>\n",
       "      <td>5.6096</td>\n",
       "      <td>5.1906</td>\n",
       "      <td>5.10080</td>\n",
       "      <td>5.1008</td>\n",
       "      <td>0.5453</td>\n",
       "      <td>0.4190</td>\n",
       "      <td>0.768384</td>\n",
       "      <td>0.08980</td>\n",
       "      <td>0.164680</td>\n",
       "      <td>0.0000</td>\n",
       "      <td>0.000000</td>\n",
       "      <td>0.0365</td>\n",
       "      <td>0.066936</td>\n",
       "    </tr>\n",
       "  </tbody>\n",
       "</table>\n",
       "</div>"
      ],
      "text/plain": [
       "   Num   Empty     Wet    105C     550C   1000C  BaseWeight   Water  PctWater  \\\n",
       "0    1  4.5581  5.7046  4.8539  4.64590  4.6451      1.1465  0.8507  0.741997   \n",
       "1    2  6.0636  6.8480  6.2318  6.09160  6.0900      0.7844  0.6162  0.785569   \n",
       "2    3  4.3505  4.8886  4.4667  4.37480  4.3728      0.5381  0.4219  0.784055   \n",
       "3    4  4.8683  5.2294  4.9396  4.88060  4.8809      0.3611  0.2898  0.802548   \n",
       "4    5  5.3771  5.9840  5.5150  5.34189  5.4194      0.6069  0.4690  0.772780   \n",
       "5    6  5.8345  6.4319  5.9625  5.86880  5.8690      0.5974  0.4694  0.785738   \n",
       "6    7  4.7149  5.5440  4.9024  4.78470  4.7842      0.8291  0.6416  0.773851   \n",
       "7    8  4.9928  5.5699  5.1063  5.02170  5.0212      0.5771  0.4636  0.803327   \n",
       "8    9  4.7002  5.0483  4.7787  4.72160  4.7218      0.3481  0.2696  0.774490   \n",
       "9   10  5.0643  5.6096  5.1906  5.10080  5.1008      0.5453  0.4190  0.768384   \n",
       "\n",
       "   OrganicMatter  PctOrganic  Carbonates  PctCarbon     Ash  PctAshOxides  \n",
       "0        0.20800    0.181422      0.0008   0.000698  0.0870      0.075883  \n",
       "1        0.14020    0.178735      0.0016   0.002040  0.0264      0.033656  \n",
       "2        0.09190    0.170786      0.0020   0.003717  0.0223      0.041442  \n",
       "3        0.05900    0.163390     -0.0003  -0.000831  0.0126      0.034893  \n",
       "4        0.17311    0.285236     -0.0775  -0.127715  0.0423      0.069698  \n",
       "5        0.09370    0.156846     -0.0002  -0.000335  0.0345      0.057750  \n",
       "6        0.11770    0.141961      0.0005   0.000603  0.0693      0.083585  \n",
       "7        0.08460    0.146595      0.0005   0.000866  0.0284      0.049212  \n",
       "8        0.05710    0.164033     -0.0002  -0.000575  0.0216      0.062051  \n",
       "9        0.08980    0.164680      0.0000   0.000000  0.0365      0.066936  "
      ]
     },
     "execution_count": 45,
     "metadata": {},
     "output_type": "execute_result"
    }
   ],
   "source": [
    "WL3.head(10)"
   ]
  },
  {
   "cell_type": "code",
   "execution_count": 46,
   "metadata": {
    "collapsed": false
   },
   "outputs": [
    {
     "data": {
      "text/html": [
       "<div>\n",
       "<table border=\"1\" class=\"dataframe\">\n",
       "  <thead>\n",
       "    <tr style=\"text-align: right;\">\n",
       "      <th></th>\n",
       "      <th>Num</th>\n",
       "      <th>Empty</th>\n",
       "      <th>Wet</th>\n",
       "      <th>105C</th>\n",
       "      <th>550C</th>\n",
       "      <th>1000C</th>\n",
       "      <th>BaseWeight</th>\n",
       "      <th>Water</th>\n",
       "      <th>PctWater</th>\n",
       "      <th>OrganicMatter</th>\n",
       "      <th>PctOrganic</th>\n",
       "      <th>Carbonates</th>\n",
       "      <th>PctCarbon</th>\n",
       "      <th>Ash</th>\n",
       "      <th>PctAshOxides</th>\n",
       "    </tr>\n",
       "  </thead>\n",
       "  <tbody>\n",
       "    <tr>\n",
       "      <th>count</th>\n",
       "      <td>89.000000</td>\n",
       "      <td>89.000000</td>\n",
       "      <td>89.000000</td>\n",
       "      <td>89.000000</td>\n",
       "      <td>89.000000</td>\n",
       "      <td>89.000000</td>\n",
       "      <td>89.000000</td>\n",
       "      <td>89.000000</td>\n",
       "      <td>89.000000</td>\n",
       "      <td>89.000000</td>\n",
       "      <td>89.000000</td>\n",
       "      <td>89.000000</td>\n",
       "      <td>89.000000</td>\n",
       "      <td>89.000000</td>\n",
       "      <td>89.000000</td>\n",
       "    </tr>\n",
       "    <tr>\n",
       "      <th>mean</th>\n",
       "      <td>22.752809</td>\n",
       "      <td>5.151140</td>\n",
       "      <td>7.502586</td>\n",
       "      <td>6.800545</td>\n",
       "      <td>6.676022</td>\n",
       "      <td>6.667596</td>\n",
       "      <td>2.351446</td>\n",
       "      <td>0.702041</td>\n",
       "      <td>0.400798</td>\n",
       "      <td>0.124523</td>\n",
       "      <td>0.074541</td>\n",
       "      <td>0.008427</td>\n",
       "      <td>0.007588</td>\n",
       "      <td>1.516455</td>\n",
       "      <td>0.517073</td>\n",
       "    </tr>\n",
       "    <tr>\n",
       "      <th>std</th>\n",
       "      <td>12.920457</td>\n",
       "      <td>0.870517</td>\n",
       "      <td>1.564191</td>\n",
       "      <td>1.527180</td>\n",
       "      <td>1.572013</td>\n",
       "      <td>1.550896</td>\n",
       "      <td>1.319628</td>\n",
       "      <td>0.310897</td>\n",
       "      <td>0.247316</td>\n",
       "      <td>0.173890</td>\n",
       "      <td>0.103719</td>\n",
       "      <td>0.162644</td>\n",
       "      <td>0.093122</td>\n",
       "      <td>1.269643</td>\n",
       "      <td>0.299693</td>\n",
       "    </tr>\n",
       "    <tr>\n",
       "      <th>min</th>\n",
       "      <td>1.000000</td>\n",
       "      <td>3.139800</td>\n",
       "      <td>4.675600</td>\n",
       "      <td>4.283600</td>\n",
       "      <td>4.206100</td>\n",
       "      <td>4.206100</td>\n",
       "      <td>0.348100</td>\n",
       "      <td>0.250100</td>\n",
       "      <td>0.143401</td>\n",
       "      <td>-0.936400</td>\n",
       "      <td>-0.511303</td>\n",
       "      <td>-0.998400</td>\n",
       "      <td>-0.445039</td>\n",
       "      <td>0.012600</td>\n",
       "      <td>0.033656</td>\n",
       "    </tr>\n",
       "    <tr>\n",
       "      <th>25%</th>\n",
       "      <td>12.000000</td>\n",
       "      <td>4.562000</td>\n",
       "      <td>6.348400</td>\n",
       "      <td>5.515000</td>\n",
       "      <td>5.341890</td>\n",
       "      <td>5.376000</td>\n",
       "      <td>1.337200</td>\n",
       "      <td>0.469400</td>\n",
       "      <td>0.189299</td>\n",
       "      <td>0.073700</td>\n",
       "      <td>0.026611</td>\n",
       "      <td>0.000700</td>\n",
       "      <td>0.000260</td>\n",
       "      <td>0.255700</td>\n",
       "      <td>0.169214</td>\n",
       "    </tr>\n",
       "    <tr>\n",
       "      <th>50%</th>\n",
       "      <td>23.000000</td>\n",
       "      <td>4.902500</td>\n",
       "      <td>7.359500</td>\n",
       "      <td>6.588300</td>\n",
       "      <td>6.355000</td>\n",
       "      <td>6.476000</td>\n",
       "      <td>2.281500</td>\n",
       "      <td>0.620400</td>\n",
       "      <td>0.271246</td>\n",
       "      <td>0.110900</td>\n",
       "      <td>0.068823</td>\n",
       "      <td>0.001800</td>\n",
       "      <td>0.000716</td>\n",
       "      <td>1.375400</td>\n",
       "      <td>0.655172</td>\n",
       "    </tr>\n",
       "    <tr>\n",
       "      <th>75%</th>\n",
       "      <td>34.000000</td>\n",
       "      <td>5.627500</td>\n",
       "      <td>8.695700</td>\n",
       "      <td>7.870900</td>\n",
       "      <td>7.803400</td>\n",
       "      <td>7.803000</td>\n",
       "      <td>3.278800</td>\n",
       "      <td>0.860300</td>\n",
       "      <td>0.706802</td>\n",
       "      <td>0.173400</td>\n",
       "      <td>0.136387</td>\n",
       "      <td>0.002500</td>\n",
       "      <td>0.001340</td>\n",
       "      <td>2.441500</td>\n",
       "      <td>0.784532</td>\n",
       "    </tr>\n",
       "    <tr>\n",
       "      <th>max</th>\n",
       "      <td>45.000000</td>\n",
       "      <td>7.653000</td>\n",
       "      <td>11.328500</td>\n",
       "      <td>10.729300</td>\n",
       "      <td>10.720400</td>\n",
       "      <td>10.719800</td>\n",
       "      <td>5.233800</td>\n",
       "      <td>1.828500</td>\n",
       "      <td>0.803327</td>\n",
       "      <td>1.100000</td>\n",
       "      <td>0.490327</td>\n",
       "      <td>1.111200</td>\n",
       "      <td>0.606749</td>\n",
       "      <td>4.201100</td>\n",
       "      <td>0.843802</td>\n",
       "    </tr>\n",
       "  </tbody>\n",
       "</table>\n",
       "</div>"
      ],
      "text/plain": [
       "             Num      Empty        Wet       105C       550C      1000C  \\\n",
       "count  89.000000  89.000000  89.000000  89.000000  89.000000  89.000000   \n",
       "mean   22.752809   5.151140   7.502586   6.800545   6.676022   6.667596   \n",
       "std    12.920457   0.870517   1.564191   1.527180   1.572013   1.550896   \n",
       "min     1.000000   3.139800   4.675600   4.283600   4.206100   4.206100   \n",
       "25%    12.000000   4.562000   6.348400   5.515000   5.341890   5.376000   \n",
       "50%    23.000000   4.902500   7.359500   6.588300   6.355000   6.476000   \n",
       "75%    34.000000   5.627500   8.695700   7.870900   7.803400   7.803000   \n",
       "max    45.000000   7.653000  11.328500  10.729300  10.720400  10.719800   \n",
       "\n",
       "       BaseWeight      Water   PctWater  OrganicMatter  PctOrganic  \\\n",
       "count   89.000000  89.000000  89.000000      89.000000   89.000000   \n",
       "mean     2.351446   0.702041   0.400798       0.124523    0.074541   \n",
       "std      1.319628   0.310897   0.247316       0.173890    0.103719   \n",
       "min      0.348100   0.250100   0.143401      -0.936400   -0.511303   \n",
       "25%      1.337200   0.469400   0.189299       0.073700    0.026611   \n",
       "50%      2.281500   0.620400   0.271246       0.110900    0.068823   \n",
       "75%      3.278800   0.860300   0.706802       0.173400    0.136387   \n",
       "max      5.233800   1.828500   0.803327       1.100000    0.490327   \n",
       "\n",
       "       Carbonates  PctCarbon        Ash  PctAshOxides  \n",
       "count   89.000000  89.000000  89.000000     89.000000  \n",
       "mean     0.008427   0.007588   1.516455      0.517073  \n",
       "std      0.162644   0.093122   1.269643      0.299693  \n",
       "min     -0.998400  -0.445039   0.012600      0.033656  \n",
       "25%      0.000700   0.000260   0.255700      0.169214  \n",
       "50%      0.001800   0.000716   1.375400      0.655172  \n",
       "75%      0.002500   0.001340   2.441500      0.784532  \n",
       "max      1.111200   0.606749   4.201100      0.843802  "
      ]
     },
     "execution_count": 46,
     "metadata": {},
     "output_type": "execute_result"
    }
   ],
   "source": [
    "WL3.describe()"
   ]
  },
  {
   "cell_type": "code",
   "execution_count": 50,
   "metadata": {
    "collapsed": false
   },
   "outputs": [
    {
     "data": {
      "text/html": [
       "<iframe id=\"igraph\" scrolling=\"no\" style=\"border:none;\" seamless=\"seamless\" src=\"https://plot.ly/~akell47/112.embed\" height=\"525px\" width=\"100%\"></iframe>"
      ],
      "text/plain": [
       "<plotly.tools.PlotlyDisplay object>"
      ]
     },
     "execution_count": 50,
     "metadata": {},
     "output_type": "execute_result"
    }
   ],
   "source": [
    "y0  = WL3.BaseWeight\n",
    "y0a = WL3.Water\n",
    "y0b = WL3.OrganicMatter\n",
    "y0c = WL3.Carbonates\n",
    "y0d = WL3.Ash\n",
    "\n",
    "\n",
    "O = go.Scatter(\n",
    "    y = y0,\n",
    "    mode = 'lines+markers',\n",
    "    name = 'grams BaseWeight',\n",
    "    marker = dict(\n",
    "        color = 'rgb(230, 100, 15)'\n",
    "    )\n",
    ")\n",
    "A = go.Scatter(\n",
    "    y = y0a,\n",
    "    mode = 'lines+markers',\n",
    "    name = 'grams 105C',\n",
    "    marker = dict(\n",
    "        color = 'rgb(214, 12, 140)'\n",
    "    )\n",
    ")\n",
    "B = go.Scatter(\n",
    "    y = y0b,\n",
    "    mode = 'lines+markers',\n",
    "    name = 'grams 550C',\n",
    "    marker = dict(\n",
    "        color = 'rgb(0, 128, 128)'\n",
    "    )\n",
    ")\n",
    "C = go.Scatter(\n",
    "    y= y0c,\n",
    "    mode = 'lines+markers',\n",
    "    name = 'grams 1000',\n",
    "    marker = dict(\n",
    "        color = 'rgb(50, 30, 110)'\n",
    "    )\n",
    ")\n",
    "D = go.Scatter(\n",
    "    y= y0c,\n",
    "    mode = 'lines+markers',\n",
    "    name = 'grams Remainder',\n",
    "    marker = dict(\n",
    "        color = 'rgb(32, 178, 170)'\n",
    "    )\n",
    ")\n",
    "\n",
    "data = [O, A, B, C, D]\n",
    "\n",
    "# py.iplot(data, filename='line-mode')\n",
    "py.iplot(data)"
   ]
  },
  {
   "cell_type": "code",
   "execution_count": null,
   "metadata": {
    "collapsed": true
   },
   "outputs": [],
   "source": []
  }
 ],
 "metadata": {
  "anaconda-cloud": {},
  "kernelspec": {
   "display_name": "Python [conda root]",
   "language": "python",
   "name": "conda-root-py"
  },
  "language_info": {
   "codemirror_mode": {
    "name": "ipython",
    "version": 2
   },
   "file_extension": ".py",
   "mimetype": "text/x-python",
   "name": "python",
   "nbconvert_exporter": "python",
   "pygments_lexer": "ipython2",
   "version": "2.7.12"
  }
 },
 "nbformat": 4,
 "nbformat_minor": 1
}
