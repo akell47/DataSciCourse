{
 "cells": [
  {
   "cell_type": "code",
   "execution_count": 51,
   "metadata": {
    "collapsed": true
   },
   "outputs": [],
   "source": [
    "from faker import Faker"
   ]
  },
  {
   "cell_type": "code",
   "execution_count": 52,
   "metadata": {
    "collapsed": false
   },
   "outputs": [],
   "source": [
    "fake = Faker()"
   ]
  },
  {
   "cell_type": "code",
   "execution_count": 53,
   "metadata": {
    "collapsed": false
   },
   "outputs": [
    {
     "data": {
      "text/plain": [
       "u'226 Kelly Estates Apt. 207\\nEast Amyburgh, VT 02606-2429'"
      ]
     },
     "execution_count": 53,
     "metadata": {},
     "output_type": "execute_result"
    }
   ],
   "source": [
    "fake.address()"
   ]
  },
  {
   "cell_type": "code",
   "execution_count": 54,
   "metadata": {
    "collapsed": false
   },
   "outputs": [
    {
     "data": {
      "text/plain": [
       "u'206-42-0175'"
      ]
     },
     "execution_count": 54,
     "metadata": {},
     "output_type": "execute_result"
    }
   ],
   "source": [
    "fake.ssn()"
   ]
  },
  {
   "cell_type": "code",
   "execution_count": 55,
   "metadata": {
    "collapsed": false
   },
   "outputs": [
    {
     "data": {
      "text/plain": [
       "u'Thomasmouth'"
      ]
     },
     "execution_count": 55,
     "metadata": {},
     "output_type": "execute_result"
    }
   ],
   "source": [
    "fake.city()"
   ]
  },
  {
   "cell_type": "code",
   "execution_count": 56,
   "metadata": {
    "collapsed": false
   },
   "outputs": [
    {
     "data": {
      "text/plain": [
       "u'Saint Barthelemy'"
      ]
     },
     "execution_count": 56,
     "metadata": {},
     "output_type": "execute_result"
    }
   ],
   "source": [
    "fake.country()"
   ]
  },
  {
   "cell_type": "code",
   "execution_count": 57,
   "metadata": {
    "collapsed": false
   },
   "outputs": [
    {
     "data": {
      "text/plain": [
       "u'33955'"
      ]
     },
     "execution_count": 57,
     "metadata": {},
     "output_type": "execute_result"
    }
   ],
   "source": [
    "fake.zipcode()"
   ]
  },
  {
   "cell_type": "code",
   "execution_count": 58,
   "metadata": {
    "collapsed": false
   },
   "outputs": [
    {
     "data": {
      "text/plain": [
       "u'Benjamin'"
      ]
     },
     "execution_count": 58,
     "metadata": {},
     "output_type": "execute_result"
    }
   ],
   "source": [
    "fake.first_name()"
   ]
  },
  {
   "cell_type": "code",
   "execution_count": 59,
   "metadata": {
    "collapsed": false
   },
   "outputs": [
    {
     "data": {
      "text/plain": [
       "u'Fuller'"
      ]
     },
     "execution_count": 59,
     "metadata": {},
     "output_type": "execute_result"
    }
   ],
   "source": [
    "fake.last_name()"
   ]
  },
  {
   "cell_type": "code",
   "execution_count": 60,
   "metadata": {
    "collapsed": false
   },
   "outputs": [
    {
     "data": {
      "text/plain": [
       "u'Jeremy Robinson'"
      ]
     },
     "execution_count": 60,
     "metadata": {},
     "output_type": "execute_result"
    }
   ],
   "source": [
    "fake.name()"
   ]
  },
  {
   "cell_type": "code",
   "execution_count": 61,
   "metadata": {
    "collapsed": false
   },
   "outputs": [],
   "source": [
    "LabData = \"../SedimentLabData/LabData.xls\""
   ]
  },
  {
   "cell_type": "code",
   "execution_count": 40,
   "metadata": {
    "collapsed": false
   },
   "outputs": [],
   "source": [
    "import pandas as pd\n",
    "import numpy as np"
   ]
  },
  {
   "cell_type": "code",
   "execution_count": 63,
   "metadata": {
    "collapsed": false
   },
   "outputs": [],
   "source": [
    "LabData = pd.ExcelFile(\"../SedimentLabData/LabData.xls\")\n",
    "\n",
    "dfs = {sheet_name: LabData.parse(sheet_name) \n",
    "          for sheet_name in LabData.sheet_names}"
   ]
  },
  {
   "cell_type": "code",
   "execution_count": 64,
   "metadata": {
    "collapsed": false
   },
   "outputs": [
    {
     "ename": "NameError",
     "evalue": "name 'BG2a' is not defined",
     "output_type": "error",
     "traceback": [
      "\u001b[0;31m\u001b[0m",
      "\u001b[0;31mNameError\u001b[0mTraceback (most recent call last)",
      "\u001b[0;32m<ipython-input-64-85dd98b734d8>\u001b[0m in \u001b[0;36m<module>\u001b[0;34m()\u001b[0m\n\u001b[0;32m----> 1\u001b[0;31m \u001b[0mBG2a\u001b[0m\u001b[1;33m.\u001b[0m\u001b[0mhead\u001b[0m\u001b[1;33m(\u001b[0m\u001b[1;33m)\u001b[0m\u001b[1;33m\u001b[0m\u001b[0m\n\u001b[0m",
      "\u001b[0;31mNameError\u001b[0m: name 'BG2a' is not defined"
     ]
    }
   ],
   "source": [
    "BG2a.head()"
   ]
  },
  {
   "cell_type": "code",
   "execution_count": 41,
   "metadata": {
    "collapsed": false
   },
   "outputs": [
    {
     "name": "stdout",
     "output_type": "stream",
     "text": [
      "/c/Users/Amber/Documents/GitHub/DataSciCourse\n"
     ]
    }
   ],
   "source": [
    "!pwd"
   ]
  },
  {
   "cell_type": "code",
   "execution_count": 52,
   "metadata": {
    "collapsed": false
   },
   "outputs": [],
   "source": [
    "LabDataWL3a = pd.read_csv(\"SedimentLabData/WL3a.csv\")\n",
    "LabDataWL3b = pd.read_csv(\"SedimentLabData/WL3b.csv\")\n",
    "LabDataWL4a = pd.read_csv(\"SedimentLabData/WL4a.csv\")\n",
    "LabDataWL5a = pd.read_csv(\"SedimentLabData/WL5a.csv\")\n",
    "LabDataWL5b = pd.read_csv(\"SedimentLabData/WL5b.csv\")\n",
    "LabDataWL5c = pd.read_csv(\"SedimentLabData/WL5c.csv\")"
   ]
  },
  {
   "cell_type": "code",
   "execution_count": 53,
   "metadata": {
    "collapsed": false
   },
   "outputs": [
    {
     "data": {
      "text/html": [
       "<div>\n",
       "<table border=\"1\" class=\"dataframe\">\n",
       "  <thead>\n",
       "    <tr style=\"text-align: right;\">\n",
       "      <th></th>\n",
       "      <th>Num</th>\n",
       "      <th>Empty</th>\n",
       "      <th>Wet</th>\n",
       "      <th>105C</th>\n",
       "      <th>550C</th>\n",
       "      <th>1000C</th>\n",
       "      <th>BaseWeight</th>\n",
       "      <th>Water</th>\n",
       "      <th>PctWater</th>\n",
       "      <th>OrganicMatter</th>\n",
       "      <th>PctOrganic</th>\n",
       "      <th>Carbonates</th>\n",
       "      <th>PctCarbon</th>\n",
       "      <th>Ash</th>\n",
       "      <th>PctAshOxides</th>\n",
       "    </tr>\n",
       "  </thead>\n",
       "  <tbody>\n",
       "    <tr>\n",
       "      <th>0</th>\n",
       "      <td>1</td>\n",
       "      <td>4.5581</td>\n",
       "      <td>5.7046</td>\n",
       "      <td>4.8539</td>\n",
       "      <td>4.6459</td>\n",
       "      <td>4.6451</td>\n",
       "      <td>1.1465</td>\n",
       "      <td>0.8507</td>\n",
       "      <td>0.741997383</td>\n",
       "      <td>0.208</td>\n",
       "      <td>0.181421718</td>\n",
       "      <td>0.0008</td>\n",
       "      <td>0.000697776</td>\n",
       "      <td>0.087</td>\n",
       "      <td>0.075883123</td>\n",
       "    </tr>\n",
       "    <tr>\n",
       "      <th>1</th>\n",
       "      <td>2</td>\n",
       "      <td>6.0636</td>\n",
       "      <td>6.848</td>\n",
       "      <td>6.2318</td>\n",
       "      <td>6.0916</td>\n",
       "      <td>6.09</td>\n",
       "      <td>0.7844</td>\n",
       "      <td>0.6162</td>\n",
       "      <td>0.785568587</td>\n",
       "      <td>0.1402</td>\n",
       "      <td>0.178735339</td>\n",
       "      <td>0.0016</td>\n",
       "      <td>0.002039776</td>\n",
       "      <td>0.0264</td>\n",
       "      <td>0.033656298</td>\n",
       "    </tr>\n",
       "    <tr>\n",
       "      <th>2</th>\n",
       "      <td>3</td>\n",
       "      <td>4.3505</td>\n",
       "      <td>4.8886</td>\n",
       "      <td>4.4667</td>\n",
       "      <td>4.3748</td>\n",
       "      <td>4.3728</td>\n",
       "      <td>0.5381</td>\n",
       "      <td>0.4219</td>\n",
       "      <td>0.784055008</td>\n",
       "      <td>0.0919</td>\n",
       "      <td>0.170786099</td>\n",
       "      <td>0.002</td>\n",
       "      <td>0.003716781</td>\n",
       "      <td>0.0223</td>\n",
       "      <td>0.041442111</td>\n",
       "    </tr>\n",
       "    <tr>\n",
       "      <th>3</th>\n",
       "      <td>4</td>\n",
       "      <td>4.8683</td>\n",
       "      <td>5.2294</td>\n",
       "      <td>4.9396</td>\n",
       "      <td>4.8806</td>\n",
       "      <td>4.8809</td>\n",
       "      <td>0.3611</td>\n",
       "      <td>0.2898</td>\n",
       "      <td>0.802547771</td>\n",
       "      <td>0.059</td>\n",
       "      <td>0.163389643</td>\n",
       "      <td>-0.0003</td>\n",
       "      <td>-0.000830795</td>\n",
       "      <td>0.0126</td>\n",
       "      <td>0.034893381</td>\n",
       "    </tr>\n",
       "    <tr>\n",
       "      <th>4</th>\n",
       "      <td>5</td>\n",
       "      <td>5.3771</td>\n",
       "      <td>5.984</td>\n",
       "      <td>5.515</td>\n",
       "      <td>5.34189</td>\n",
       "      <td>5.4194</td>\n",
       "      <td>0.6069</td>\n",
       "      <td>0.469</td>\n",
       "      <td>0.7727797</td>\n",
       "      <td>0.17311</td>\n",
       "      <td>0.285236448</td>\n",
       "      <td>-0.0775</td>\n",
       "      <td>-0.127714615</td>\n",
       "      <td>0.0423</td>\n",
       "      <td>0.069698468</td>\n",
       "    </tr>\n",
       "  </tbody>\n",
       "</table>\n",
       "</div>"
      ],
      "text/plain": [
       "  Num   Empty     Wet    105C     550C   1000C BaseWeight   Water  \\\n",
       "0   1  4.5581  5.7046  4.8539   4.6459  4.6451     1.1465  0.8507   \n",
       "1   2  6.0636   6.848  6.2318   6.0916    6.09     0.7844  0.6162   \n",
       "2   3  4.3505  4.8886  4.4667   4.3748  4.3728     0.5381  0.4219   \n",
       "3   4  4.8683  5.2294  4.9396   4.8806  4.8809     0.3611  0.2898   \n",
       "4   5  5.3771   5.984   5.515  5.34189  5.4194     0.6069   0.469   \n",
       "\n",
       "      PctWater OrganicMatter   PctOrganic Carbonates     PctCarbon     Ash  \\\n",
       "0  0.741997383         0.208  0.181421718     0.0008   0.000697776   0.087   \n",
       "1  0.785568587        0.1402  0.178735339     0.0016   0.002039776  0.0264   \n",
       "2  0.784055008        0.0919  0.170786099      0.002   0.003716781  0.0223   \n",
       "3  0.802547771         0.059  0.163389643    -0.0003  -0.000830795  0.0126   \n",
       "4    0.7727797       0.17311  0.285236448    -0.0775  -0.127714615  0.0423   \n",
       "\n",
       "  PctAshOxides  \n",
       "0  0.075883123  \n",
       "1  0.033656298  \n",
       "2  0.041442111  \n",
       "3  0.034893381  \n",
       "4  0.069698468  "
      ]
     },
     "execution_count": 53,
     "metadata": {},
     "output_type": "execute_result"
    }
   ],
   "source": [
    "LabDataWL3a.head()"
   ]
  },
  {
   "cell_type": "code",
   "execution_count": 54,
   "metadata": {
    "collapsed": false
   },
   "outputs": [
    {
     "data": {
      "text/html": [
       "<div>\n",
       "<table border=\"1\" class=\"dataframe\">\n",
       "  <thead>\n",
       "    <tr style=\"text-align: right;\">\n",
       "      <th></th>\n",
       "      <th>Num</th>\n",
       "      <th>Empty</th>\n",
       "      <th>Wet</th>\n",
       "      <th>105C</th>\n",
       "      <th>550C</th>\n",
       "      <th>1000C</th>\n",
       "      <th>BaseWeight</th>\n",
       "      <th>Water</th>\n",
       "      <th>PctWater</th>\n",
       "      <th>OrganicMatter</th>\n",
       "      <th>PctOrganic</th>\n",
       "      <th>Carbonates</th>\n",
       "      <th>PctCarbon</th>\n",
       "      <th>Ash</th>\n",
       "      <th>PctAshOxides</th>\n",
       "    </tr>\n",
       "  </thead>\n",
       "  <tbody>\n",
       "    <tr>\n",
       "      <th>0</th>\n",
       "      <td>1</td>\n",
       "      <td>4.5581</td>\n",
       "      <td>5.7046</td>\n",
       "      <td>4.8539</td>\n",
       "      <td>4.6459</td>\n",
       "      <td>4.6451</td>\n",
       "      <td>1.1465</td>\n",
       "      <td>0.8507</td>\n",
       "      <td>0.741997383</td>\n",
       "      <td>0.208</td>\n",
       "      <td>0.181421718</td>\n",
       "      <td>0.0008</td>\n",
       "      <td>0.000697776</td>\n",
       "      <td>0.087</td>\n",
       "      <td>0.075883123</td>\n",
       "    </tr>\n",
       "    <tr>\n",
       "      <th>1</th>\n",
       "      <td>2</td>\n",
       "      <td>6.0636</td>\n",
       "      <td>6.848</td>\n",
       "      <td>6.2318</td>\n",
       "      <td>6.0916</td>\n",
       "      <td>6.09</td>\n",
       "      <td>0.7844</td>\n",
       "      <td>0.6162</td>\n",
       "      <td>0.785568587</td>\n",
       "      <td>0.1402</td>\n",
       "      <td>0.178735339</td>\n",
       "      <td>0.0016</td>\n",
       "      <td>0.002039776</td>\n",
       "      <td>0.0264</td>\n",
       "      <td>0.033656298</td>\n",
       "    </tr>\n",
       "    <tr>\n",
       "      <th>2</th>\n",
       "      <td>3</td>\n",
       "      <td>4.3505</td>\n",
       "      <td>4.8886</td>\n",
       "      <td>4.4667</td>\n",
       "      <td>4.3748</td>\n",
       "      <td>4.3728</td>\n",
       "      <td>0.5381</td>\n",
       "      <td>0.4219</td>\n",
       "      <td>0.784055008</td>\n",
       "      <td>0.0919</td>\n",
       "      <td>0.170786099</td>\n",
       "      <td>0.002</td>\n",
       "      <td>0.003716781</td>\n",
       "      <td>0.0223</td>\n",
       "      <td>0.041442111</td>\n",
       "    </tr>\n",
       "    <tr>\n",
       "      <th>3</th>\n",
       "      <td>4</td>\n",
       "      <td>4.8683</td>\n",
       "      <td>5.2294</td>\n",
       "      <td>4.9396</td>\n",
       "      <td>4.8806</td>\n",
       "      <td>4.8809</td>\n",
       "      <td>0.3611</td>\n",
       "      <td>0.2898</td>\n",
       "      <td>0.802547771</td>\n",
       "      <td>0.059</td>\n",
       "      <td>0.163389643</td>\n",
       "      <td>-0.0003</td>\n",
       "      <td>-0.000830795</td>\n",
       "      <td>0.0126</td>\n",
       "      <td>0.034893381</td>\n",
       "    </tr>\n",
       "    <tr>\n",
       "      <th>4</th>\n",
       "      <td>5</td>\n",
       "      <td>5.3771</td>\n",
       "      <td>5.984</td>\n",
       "      <td>5.515</td>\n",
       "      <td>5.34189</td>\n",
       "      <td>5.4194</td>\n",
       "      <td>0.6069</td>\n",
       "      <td>0.469</td>\n",
       "      <td>0.7727797</td>\n",
       "      <td>0.17311</td>\n",
       "      <td>0.285236448</td>\n",
       "      <td>-0.0775</td>\n",
       "      <td>-0.127714615</td>\n",
       "      <td>0.0423</td>\n",
       "      <td>0.069698468</td>\n",
       "    </tr>\n",
       "  </tbody>\n",
       "</table>\n",
       "</div>"
      ],
      "text/plain": [
       "  Num   Empty     Wet    105C     550C   1000C BaseWeight   Water  \\\n",
       "0   1  4.5581  5.7046  4.8539   4.6459  4.6451     1.1465  0.8507   \n",
       "1   2  6.0636   6.848  6.2318   6.0916    6.09     0.7844  0.6162   \n",
       "2   3  4.3505  4.8886  4.4667   4.3748  4.3728     0.5381  0.4219   \n",
       "3   4  4.8683  5.2294  4.9396   4.8806  4.8809     0.3611  0.2898   \n",
       "4   5  5.3771   5.984   5.515  5.34189  5.4194     0.6069   0.469   \n",
       "\n",
       "      PctWater OrganicMatter   PctOrganic Carbonates     PctCarbon     Ash  \\\n",
       "0  0.741997383         0.208  0.181421718     0.0008   0.000697776   0.087   \n",
       "1  0.785568587        0.1402  0.178735339     0.0016   0.002039776  0.0264   \n",
       "2  0.784055008        0.0919  0.170786099      0.002   0.003716781  0.0223   \n",
       "3  0.802547771         0.059  0.163389643    -0.0003  -0.000830795  0.0126   \n",
       "4    0.7727797       0.17311  0.285236448    -0.0775  -0.127714615  0.0423   \n",
       "\n",
       "  PctAshOxides  \n",
       "0  0.075883123  \n",
       "1  0.033656298  \n",
       "2  0.041442111  \n",
       "3  0.034893381  \n",
       "4  0.069698468  "
      ]
     },
     "execution_count": 54,
     "metadata": {},
     "output_type": "execute_result"
    }
   ],
   "source": [
    "pieces3 = [LabDataWL3a, LabDataWL3b]\n",
    "WL3 = pd.concat(pieces3)\n",
    "WL3.head(5)"
   ]
  },
  {
   "cell_type": "code",
   "execution_count": 55,
   "metadata": {
    "collapsed": false
   },
   "outputs": [
    {
     "data": {
      "text/html": [
       "<div>\n",
       "<table border=\"1\" class=\"dataframe\">\n",
       "  <thead>\n",
       "    <tr style=\"text-align: right;\">\n",
       "      <th></th>\n",
       "      <th>Num</th>\n",
       "      <th>Empty</th>\n",
       "      <th>Wet</th>\n",
       "      <th>105C</th>\n",
       "      <th>550C</th>\n",
       "      <th>1000C</th>\n",
       "      <th>Unnamed: 6</th>\n",
       "      <th>Unnamed: 7</th>\n",
       "    </tr>\n",
       "  </thead>\n",
       "  <tbody>\n",
       "    <tr>\n",
       "      <th>0</th>\n",
       "      <td>1</td>\n",
       "      <td>4.499</td>\n",
       "      <td>5.2421</td>\n",
       "      <td>4.7189</td>\n",
       "      <td>4.5181</td>\n",
       "      <td>4.5172</td>\n",
       "      <td>NaN</td>\n",
       "      <td>NaN</td>\n",
       "    </tr>\n",
       "    <tr>\n",
       "      <th>1</th>\n",
       "      <td>2</td>\n",
       "      <td>5.9866</td>\n",
       "      <td>6.6951</td>\n",
       "      <td>6.1841</td>\n",
       "      <td>6.004</td>\n",
       "      <td>6.0032</td>\n",
       "      <td>NaN</td>\n",
       "      <td>2-42cm</td>\n",
       "    </tr>\n",
       "    <tr>\n",
       "      <th>2</th>\n",
       "      <td>3</td>\n",
       "      <td>4.2969</td>\n",
       "      <td>5.241</td>\n",
       "      <td>4.5078</td>\n",
       "      <td>4.3664</td>\n",
       "      <td>4.3675</td>\n",
       "      <td>NaN</td>\n",
       "      <td>NaN</td>\n",
       "    </tr>\n",
       "    <tr>\n",
       "      <th>3</th>\n",
       "      <td>4</td>\n",
       "      <td>4.805</td>\n",
       "      <td>5.561</td>\n",
       "      <td>4.954</td>\n",
       "      <td>4.8146</td>\n",
       "      <td>4.8131</td>\n",
       "      <td>NaN</td>\n",
       "      <td>NaN</td>\n",
       "    </tr>\n",
       "    <tr>\n",
       "      <th>4</th>\n",
       "      <td>5</td>\n",
       "      <td>5.3057</td>\n",
       "      <td>6.0431</td>\n",
       "      <td>5.403</td>\n",
       "      <td>5.3168</td>\n",
       "      <td>5.3159</td>\n",
       "      <td>NaN</td>\n",
       "      <td>NaN</td>\n",
       "    </tr>\n",
       "  </tbody>\n",
       "</table>\n",
       "</div>"
      ],
      "text/plain": [
       "  Num   Empty     Wet    105C    550C   1000C  Unnamed: 6 Unnamed: 7\n",
       "0   1   4.499  5.2421  4.7189  4.5181  4.5172         NaN        NaN\n",
       "1   2  5.9866  6.6951  6.1841   6.004  6.0032         NaN     2-42cm\n",
       "2   3  4.2969   5.241  4.5078  4.3664  4.3675         NaN        NaN\n",
       "3   4   4.805   5.561   4.954  4.8146  4.8131         NaN        NaN\n",
       "4   5  5.3057  6.0431   5.403  5.3168  5.3159         NaN        NaN"
      ]
     },
     "execution_count": 55,
     "metadata": {},
     "output_type": "execute_result"
    }
   ],
   "source": [
    "WL4 = LabDataWL4a\n",
    "WL4.head()"
   ]
  },
  {
   "cell_type": "code",
   "execution_count": 56,
   "metadata": {
    "collapsed": false
   },
   "outputs": [
    {
     "data": {
      "text/html": [
       "<div>\n",
       "<table border=\"1\" class=\"dataframe\">\n",
       "  <thead>\n",
       "    <tr style=\"text-align: right;\">\n",
       "      <th></th>\n",
       "      <th>Num</th>\n",
       "      <th>Empty</th>\n",
       "      <th>Wet</th>\n",
       "      <th>105C</th>\n",
       "      <th>550C</th>\n",
       "      <th>1000C</th>\n",
       "      <th>Unnamed: 6</th>\n",
       "      <th>Unnamed: 7</th>\n",
       "    </tr>\n",
       "  </thead>\n",
       "  <tbody>\n",
       "    <tr>\n",
       "      <th>0</th>\n",
       "      <td>1</td>\n",
       "      <td>4.4983</td>\n",
       "      <td>5.5914</td>\n",
       "      <td>4.6364</td>\n",
       "      <td>4.5184</td>\n",
       "      <td>4.5182</td>\n",
       "      <td>NaN</td>\n",
       "      <td>NaN</td>\n",
       "    </tr>\n",
       "    <tr>\n",
       "      <th>1</th>\n",
       "      <td>2</td>\n",
       "      <td>5.986</td>\n",
       "      <td>7.4326</td>\n",
       "      <td>6.1553</td>\n",
       "      <td>5.0041</td>\n",
       "      <td>6.0028</td>\n",
       "      <td>NaN</td>\n",
       "      <td>3-42cm</td>\n",
       "    </tr>\n",
       "    <tr>\n",
       "      <th>2</th>\n",
       "      <td>3</td>\n",
       "      <td>4.2962</td>\n",
       "      <td>6.3133</td>\n",
       "      <td>4.637</td>\n",
       "      <td>4.4221</td>\n",
       "      <td>4.419</td>\n",
       "      <td>NaN</td>\n",
       "      <td>NaN</td>\n",
       "    </tr>\n",
       "    <tr>\n",
       "      <th>3</th>\n",
       "      <td>4</td>\n",
       "      <td>4.8042</td>\n",
       "      <td>7.153</td>\n",
       "      <td>5.7472</td>\n",
       "      <td>5.5349</td>\n",
       "      <td>5.5314</td>\n",
       "      <td>NaN</td>\n",
       "      <td>NaN</td>\n",
       "    </tr>\n",
       "    <tr>\n",
       "      <th>4</th>\n",
       "      <td>5</td>\n",
       "      <td>5.3054</td>\n",
       "      <td>8.03</td>\n",
       "      <td>5.5701</td>\n",
       "      <td>6.3646</td>\n",
       "      <td>6.3491</td>\n",
       "      <td>NaN</td>\n",
       "      <td>NaN</td>\n",
       "    </tr>\n",
       "  </tbody>\n",
       "</table>\n",
       "</div>"
      ],
      "text/plain": [
       "  Num   Empty     Wet    105C    550C   1000C  Unnamed: 6 Unnamed: 7\n",
       "0   1  4.4983  5.5914  4.6364  4.5184  4.5182         NaN        NaN\n",
       "1   2   5.986  7.4326  6.1553  5.0041  6.0028         NaN     3-42cm\n",
       "2   3  4.2962  6.3133   4.637  4.4221   4.419         NaN        NaN\n",
       "3   4  4.8042   7.153  5.7472  5.5349  5.5314         NaN        NaN\n",
       "4   5  5.3054    8.03  5.5701  6.3646  6.3491         NaN        NaN"
      ]
     },
     "execution_count": 56,
     "metadata": {},
     "output_type": "execute_result"
    }
   ],
   "source": [
    "pieces5 = [LabDataWL5a, LabDataWL5b, LabDataWL5c]\n",
    "WL5 = pd.concat(pieces5)\n",
    "WL5.head()"
   ]
  },
  {
   "cell_type": "code",
   "execution_count": 57,
   "metadata": {
    "collapsed": true
   },
   "outputs": [],
   "source": [
    "import plotly.plotly as py\n",
    "import plotly.graph_objs as go"
   ]
  },
  {
   "cell_type": "code",
   "execution_count": 58,
   "metadata": {
    "collapsed": true
   },
   "outputs": [],
   "source": [
    "import plotly \n",
    "plotly.tools.set_credentials_file(username='akell47', api_key='vk5wgdfotc')\n",
    "\n",
    "py.sign_in(\"akell47\", \"vk5wgdfotc\")"
   ]
  },
  {
   "cell_type": "code",
   "execution_count": 61,
   "metadata": {
    "collapsed": false
   },
   "outputs": [
    {
     "data": {
      "text/html": [
       "<iframe id=\"igraph\" scrolling=\"no\" style=\"border:none;\" seamless=\"seamless\" src=\"https://plot.ly/~akell47/102.embed\" height=\"525px\" width=\"100%\"></iframe>"
      ],
      "text/plain": [
       "<plotly.tools.PlotlyDisplay object>"
      ]
     },
     "execution_count": 61,
     "metadata": {},
     "output_type": "execute_result"
    }
   ],
   "source": [
    "y0a = WL3.PctWater\n",
    "y0b = WL3.PctOrganic\n",
    "y0c = WL3.PctCarbon\n",
    "y0d = WL3.PctAshOxides\n",
    "\n",
    "A = go.Box(\n",
    "    y = y0a,\n",
    "    name = 'WL3 Percent Water',\n",
    "    marker = dict(\n",
    "        color = 'rgb(214, 12, 140)',\n",
    "    )\n",
    ")\n",
    "B = go.Box(\n",
    "    y = y0b,\n",
    "    name = 'WL3 Percent Organic',\n",
    "    marker = dict(\n",
    "        color = 'rgb(0, 128, 128)',\n",
    "    )\n",
    ")\n",
    "C = go.Box(\n",
    "    y = y0c,\n",
    "    name = 'WL3 Percent Carbonates',\n",
    "    marker = dict(\n",
    "        color = 'rgb(50, 30, 110)'\n",
    "    )\n",
    ")\n",
    "D = go.Box(\n",
    "    y = y0d,\n",
    "    name = 'WL3 Percent Ash and Oxides',\n",
    "    marker = dict(\n",
    "        color = 'rgb(32, 178, 170)'\n",
    "    )\n",
    ")\n",
    "\n",
    "data = [A, B, C, D]\n",
    "py.iplot(data)"
   ]
  },
  {
   "cell_type": "markdown",
   "metadata": {},
   "source": [
    "<iframe width=\"900\" height=\"800\" frameborder=\"0\" scrolling=\"no\" src=\"https://plot.ly/~akell47/102.embed\"></iframe>"
   ]
  },
  {
   "cell_type": "markdown",
   "metadata": {},
   "source": [
    "<div>\n",
    "    <a href=\"https://plot.ly/~akell47/102/\" target=\"_blank\" title=\"WL3 Percent Water, WL3 Percent Organic, WL3 Percent Carbonates, WL3 Percent Ash and Oxides\" style=\"display: block; text-align: center;\"><img src=\"https://plot.ly/~akell47/102.png\" alt=\"WL3 Percent Water, WL3 Percent Organic, WL3 Percent Carbonates, WL3 Percent Ash and Oxides\" style=\"max-width: 100%;width: 600px;\"  width=\"600\" onerror=\"this.onerror=null;this.src='https://plot.ly/404.png';\" /></a>\n",
    "    <script data-plotly=\"akell47:102\"  src=\"https://plot.ly/embed.js\" async></script>\n",
    "</div>\n"
   ]
  },
  {
   "cell_type": "code",
   "execution_count": 60,
   "metadata": {
    "collapsed": false
   },
   "outputs": [
    {
     "data": {
      "text/html": [
       "<iframe id=\"igraph\" scrolling=\"no\" style=\"border:none;\" seamless=\"seamless\" src=\"https://plot.ly/~akell47/100.embed\" height=\"525px\" width=\"100%\"></iframe>"
      ],
      "text/plain": [
       "<plotly.tools.PlotlyDisplay object>"
      ]
     },
     "execution_count": 60,
     "metadata": {},
     "output_type": "execute_result"
    }
   ],
   "source": [
    "y0a = WL3.PctWater\n",
    "y0b = WL3.PctOrganic\n",
    "y0c = WL3.PctCarbon\n",
    "y0d = WL3.PctAshOxides\n",
    "\n",
    "\n",
    "A = go.Scatter(\n",
    "    y = y0a,\n",
    "    mode = 'lines+markers',\n",
    "    name = 'Percent Water',\n",
    "    marker = dict(\n",
    "        color = 'rgb(214, 12, 140)'\n",
    "    )\n",
    ")\n",
    "B = go.Scatter(\n",
    "    y = y0b,\n",
    "    mode = 'lines+markers',\n",
    "    name = 'Percent Organic Matter',\n",
    "    marker = dict(\n",
    "        color = 'rgb(0, 128, 128)'\n",
    "    )\n",
    ")\n",
    "C = go.Scatter(\n",
    "    y= y0c,\n",
    "    mode = 'lines+markers',\n",
    "    name = 'Percent Carbonites',\n",
    "    marker = dict(\n",
    "        color = 'rgb(50, 30, 110)'\n",
    "    )\n",
    ")\n",
    "D = go.Scatter(\n",
    "    y= y0c,\n",
    "    mode = 'lines+markers',\n",
    "    name = 'Percent Ash and Oxides',\n",
    "    marker = dict(\n",
    "        color = 'rgb(32, 178, 170)'\n",
    "    )\n",
    ")\n",
    "\n",
    "data = [A, B, C, D]\n",
    "\n",
    "# py.iplot(data, filename='line-mode')\n",
    "py.iplot(data)"
   ]
  },
  {
   "cell_type": "code",
   "execution_count": null,
   "metadata": {
    "collapsed": true
   },
   "outputs": [],
   "source": []
  }
 ],
 "metadata": {
  "anaconda-cloud": {},
  "kernelspec": {
   "display_name": "Python [conda root]",
   "language": "python",
   "name": "conda-root-py"
  },
  "language_info": {
   "codemirror_mode": {
    "name": "ipython",
    "version": 2
   },
   "file_extension": ".py",
   "mimetype": "text/x-python",
   "name": "python",
   "nbconvert_exporter": "python",
   "pygments_lexer": "ipython2",
   "version": "2.7.12"
  }
 },
 "nbformat": 4,
 "nbformat_minor": 1
}
