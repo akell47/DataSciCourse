{
 "cells": [
  {
   "cell_type": "code",
   "execution_count": 51,
   "metadata": {
    "collapsed": true
   },
   "outputs": [],
   "source": [
    "from faker import Faker"
   ]
  },
  {
   "cell_type": "code",
   "execution_count": 52,
   "metadata": {
    "collapsed": false
   },
   "outputs": [],
   "source": [
    "fake = Faker()"
   ]
  },
  {
   "cell_type": "code",
   "execution_count": 53,
   "metadata": {
    "collapsed": false
   },
   "outputs": [
    {
     "data": {
      "text/plain": [
       "u'226 Kelly Estates Apt. 207\\nEast Amyburgh, VT 02606-2429'"
      ]
     },
     "execution_count": 53,
     "metadata": {},
     "output_type": "execute_result"
    }
   ],
   "source": [
    "fake.address()"
   ]
  },
  {
   "cell_type": "code",
   "execution_count": 54,
   "metadata": {
    "collapsed": false
   },
   "outputs": [
    {
     "data": {
      "text/plain": [
       "u'206-42-0175'"
      ]
     },
     "execution_count": 54,
     "metadata": {},
     "output_type": "execute_result"
    }
   ],
   "source": [
    "fake.ssn()"
   ]
  },
  {
   "cell_type": "code",
   "execution_count": 55,
   "metadata": {
    "collapsed": false
   },
   "outputs": [
    {
     "data": {
      "text/plain": [
       "u'Thomasmouth'"
      ]
     },
     "execution_count": 55,
     "metadata": {},
     "output_type": "execute_result"
    }
   ],
   "source": [
    "fake.city()"
   ]
  },
  {
   "cell_type": "code",
   "execution_count": 56,
   "metadata": {
    "collapsed": false
   },
   "outputs": [
    {
     "data": {
      "text/plain": [
       "u'Saint Barthelemy'"
      ]
     },
     "execution_count": 56,
     "metadata": {},
     "output_type": "execute_result"
    }
   ],
   "source": [
    "fake.country()"
   ]
  },
  {
   "cell_type": "code",
   "execution_count": 57,
   "metadata": {
    "collapsed": false
   },
   "outputs": [
    {
     "data": {
      "text/plain": [
       "u'33955'"
      ]
     },
     "execution_count": 57,
     "metadata": {},
     "output_type": "execute_result"
    }
   ],
   "source": [
    "fake.zipcode()"
   ]
  },
  {
   "cell_type": "code",
   "execution_count": 58,
   "metadata": {
    "collapsed": false
   },
   "outputs": [
    {
     "data": {
      "text/plain": [
       "u'Benjamin'"
      ]
     },
     "execution_count": 58,
     "metadata": {},
     "output_type": "execute_result"
    }
   ],
   "source": [
    "fake.first_name()"
   ]
  },
  {
   "cell_type": "code",
   "execution_count": 59,
   "metadata": {
    "collapsed": false
   },
   "outputs": [
    {
     "data": {
      "text/plain": [
       "u'Fuller'"
      ]
     },
     "execution_count": 59,
     "metadata": {},
     "output_type": "execute_result"
    }
   ],
   "source": [
    "fake.last_name()"
   ]
  },
  {
   "cell_type": "code",
   "execution_count": 60,
   "metadata": {
    "collapsed": false
   },
   "outputs": [
    {
     "data": {
      "text/plain": [
       "u'Jeremy Robinson'"
      ]
     },
     "execution_count": 60,
     "metadata": {},
     "output_type": "execute_result"
    }
   ],
   "source": [
    "fake.name()"
   ]
  },
  {
   "cell_type": "code",
   "execution_count": 61,
   "metadata": {
    "collapsed": false
   },
   "outputs": [],
   "source": [
    "LabData = \"../SedimentLabData/LabData.xls\""
   ]
  },
  {
   "cell_type": "code",
   "execution_count": 16,
   "metadata": {
    "collapsed": false
   },
   "outputs": [],
   "source": [
    "import pandas as pd\n",
    "import numpy as np"
   ]
  },
  {
   "cell_type": "code",
   "execution_count": 63,
   "metadata": {
    "collapsed": false
   },
   "outputs": [],
   "source": [
    "LabData = pd.ExcelFile(\"../SedimentLabData/LabData.xls\")\n",
    "\n",
    "dfs = {sheet_name: LabData.parse(sheet_name) \n",
    "          for sheet_name in LabData.sheet_names}"
   ]
  },
  {
   "cell_type": "code",
   "execution_count": 64,
   "metadata": {
    "collapsed": false
   },
   "outputs": [
    {
     "ename": "NameError",
     "evalue": "name 'BG2a' is not defined",
     "output_type": "error",
     "traceback": [
      "\u001b[0;31m\u001b[0m",
      "\u001b[0;31mNameError\u001b[0mTraceback (most recent call last)",
      "\u001b[0;32m<ipython-input-64-85dd98b734d8>\u001b[0m in \u001b[0;36m<module>\u001b[0;34m()\u001b[0m\n\u001b[0;32m----> 1\u001b[0;31m \u001b[0mBG2a\u001b[0m\u001b[1;33m.\u001b[0m\u001b[0mhead\u001b[0m\u001b[1;33m(\u001b[0m\u001b[1;33m)\u001b[0m\u001b[1;33m\u001b[0m\u001b[0m\n\u001b[0m",
      "\u001b[0;31mNameError\u001b[0m: name 'BG2a' is not defined"
     ]
    }
   ],
   "source": [
    "BG2a.head()"
   ]
  },
  {
   "cell_type": "code",
   "execution_count": 4,
   "metadata": {
    "collapsed": false
   },
   "outputs": [
    {
     "name": "stdout",
     "output_type": "stream",
     "text": [
      "/c/Users/Amber/Documents/GitHub/DataSciCourse\n"
     ]
    }
   ],
   "source": [
    "!pwd"
   ]
  },
  {
   "cell_type": "code",
   "execution_count": 5,
   "metadata": {
    "collapsed": false
   },
   "outputs": [],
   "source": [
    "LabDataWL3a = pd.read_csv(\"SedimentLabData/WL3a.csv\")\n",
    "LabDataWL3b = pd.read_csv(\"SedimentLabData/WL3b.csv\")\n",
    "LabDataWL4a = pd.read_csv(\"SedimentLabData/WL4a.csv\")\n",
    "LabDataWL5a = pd.read_csv(\"SedimentLabData/WL5a.csv\")\n",
    "LabDataWL5b = pd.read_csv(\"SedimentLabData/WL5b.csv\")\n",
    "LabDataWL5c = pd.read_csv(\"SedimentLabData/WL5c.csv\")"
   ]
  },
  {
   "cell_type": "code",
   "execution_count": 7,
   "metadata": {
    "collapsed": false
   },
   "outputs": [
    {
     "data": {
      "text/html": [
       "<div>\n",
       "<table border=\"1\" class=\"dataframe\">\n",
       "  <thead>\n",
       "    <tr style=\"text-align: right;\">\n",
       "      <th></th>\n",
       "      <th>Num</th>\n",
       "      <th>Empty</th>\n",
       "      <th>Wet</th>\n",
       "      <th>105C</th>\n",
       "      <th>550C</th>\n",
       "      <th>1000C</th>\n",
       "      <th>BaseWeight</th>\n",
       "      <th>Water</th>\n",
       "      <th>PctWater</th>\n",
       "      <th>OrganicMatter</th>\n",
       "      <th>PctOrganic</th>\n",
       "      <th>Carbonates</th>\n",
       "      <th>PctCarbon</th>\n",
       "      <th>Ash</th>\n",
       "      <th>PctAshOxides</th>\n",
       "    </tr>\n",
       "  </thead>\n",
       "  <tbody>\n",
       "    <tr>\n",
       "      <th>0</th>\n",
       "      <td>1</td>\n",
       "      <td>4.5581</td>\n",
       "      <td>5.7046</td>\n",
       "      <td>4.8539</td>\n",
       "      <td>4.64590</td>\n",
       "      <td>4.6451</td>\n",
       "      <td>1.1465</td>\n",
       "      <td>0.8507</td>\n",
       "      <td>0.741997</td>\n",
       "      <td>0.20800</td>\n",
       "      <td>0.181422</td>\n",
       "      <td>0.0008</td>\n",
       "      <td>0.000698</td>\n",
       "      <td>0.0870</td>\n",
       "      <td>0.075883</td>\n",
       "    </tr>\n",
       "    <tr>\n",
       "      <th>1</th>\n",
       "      <td>2</td>\n",
       "      <td>6.0636</td>\n",
       "      <td>6.8480</td>\n",
       "      <td>6.2318</td>\n",
       "      <td>6.09160</td>\n",
       "      <td>6.0900</td>\n",
       "      <td>0.7844</td>\n",
       "      <td>0.6162</td>\n",
       "      <td>0.785569</td>\n",
       "      <td>0.14020</td>\n",
       "      <td>0.178735</td>\n",
       "      <td>0.0016</td>\n",
       "      <td>0.002040</td>\n",
       "      <td>0.0264</td>\n",
       "      <td>0.033656</td>\n",
       "    </tr>\n",
       "    <tr>\n",
       "      <th>2</th>\n",
       "      <td>3</td>\n",
       "      <td>4.3505</td>\n",
       "      <td>4.8886</td>\n",
       "      <td>4.4667</td>\n",
       "      <td>4.37480</td>\n",
       "      <td>4.3728</td>\n",
       "      <td>0.5381</td>\n",
       "      <td>0.4219</td>\n",
       "      <td>0.784055</td>\n",
       "      <td>0.09190</td>\n",
       "      <td>0.170786</td>\n",
       "      <td>0.0020</td>\n",
       "      <td>0.003717</td>\n",
       "      <td>0.0223</td>\n",
       "      <td>0.041442</td>\n",
       "    </tr>\n",
       "    <tr>\n",
       "      <th>3</th>\n",
       "      <td>4</td>\n",
       "      <td>4.8683</td>\n",
       "      <td>5.2294</td>\n",
       "      <td>4.9396</td>\n",
       "      <td>4.88060</td>\n",
       "      <td>4.8809</td>\n",
       "      <td>0.3611</td>\n",
       "      <td>0.2898</td>\n",
       "      <td>0.802548</td>\n",
       "      <td>0.05900</td>\n",
       "      <td>0.163390</td>\n",
       "      <td>-0.0003</td>\n",
       "      <td>-0.000831</td>\n",
       "      <td>0.0126</td>\n",
       "      <td>0.034893</td>\n",
       "    </tr>\n",
       "    <tr>\n",
       "      <th>4</th>\n",
       "      <td>5</td>\n",
       "      <td>5.3771</td>\n",
       "      <td>5.9840</td>\n",
       "      <td>5.5150</td>\n",
       "      <td>5.34189</td>\n",
       "      <td>5.4194</td>\n",
       "      <td>0.6069</td>\n",
       "      <td>0.4690</td>\n",
       "      <td>0.772780</td>\n",
       "      <td>0.17311</td>\n",
       "      <td>0.285236</td>\n",
       "      <td>-0.0775</td>\n",
       "      <td>-0.127715</td>\n",
       "      <td>0.0423</td>\n",
       "      <td>0.069698</td>\n",
       "    </tr>\n",
       "  </tbody>\n",
       "</table>\n",
       "</div>"
      ],
      "text/plain": [
       "   Num   Empty     Wet    105C     550C   1000C  BaseWeight   Water  PctWater  \\\n",
       "0    1  4.5581  5.7046  4.8539  4.64590  4.6451      1.1465  0.8507  0.741997   \n",
       "1    2  6.0636  6.8480  6.2318  6.09160  6.0900      0.7844  0.6162  0.785569   \n",
       "2    3  4.3505  4.8886  4.4667  4.37480  4.3728      0.5381  0.4219  0.784055   \n",
       "3    4  4.8683  5.2294  4.9396  4.88060  4.8809      0.3611  0.2898  0.802548   \n",
       "4    5  5.3771  5.9840  5.5150  5.34189  5.4194      0.6069  0.4690  0.772780   \n",
       "\n",
       "   OrganicMatter  PctOrganic  Carbonates  PctCarbon     Ash  PctAshOxides  \n",
       "0        0.20800    0.181422      0.0008   0.000698  0.0870      0.075883  \n",
       "1        0.14020    0.178735      0.0016   0.002040  0.0264      0.033656  \n",
       "2        0.09190    0.170786      0.0020   0.003717  0.0223      0.041442  \n",
       "3        0.05900    0.163390     -0.0003  -0.000831  0.0126      0.034893  \n",
       "4        0.17311    0.285236     -0.0775  -0.127715  0.0423      0.069698  "
      ]
     },
     "execution_count": 7,
     "metadata": {},
     "output_type": "execute_result"
    }
   ],
   "source": [
    "LabDataWL3a.head()"
   ]
  },
  {
   "cell_type": "code",
   "execution_count": 8,
   "metadata": {
    "collapsed": false
   },
   "outputs": [
    {
     "data": {
      "text/html": [
       "<div>\n",
       "<table border=\"1\" class=\"dataframe\">\n",
       "  <thead>\n",
       "    <tr style=\"text-align: right;\">\n",
       "      <th></th>\n",
       "      <th>Num</th>\n",
       "      <th>Empty</th>\n",
       "      <th>Wet</th>\n",
       "      <th>105C</th>\n",
       "      <th>550C</th>\n",
       "      <th>1000C</th>\n",
       "      <th>BaseWeight</th>\n",
       "      <th>Water</th>\n",
       "      <th>PctWater</th>\n",
       "      <th>OrganicMatter</th>\n",
       "      <th>PctOrganic</th>\n",
       "      <th>Carbonates</th>\n",
       "      <th>PctCarbon</th>\n",
       "      <th>Ash</th>\n",
       "      <th>PctAshOxides</th>\n",
       "    </tr>\n",
       "  </thead>\n",
       "  <tbody>\n",
       "    <tr>\n",
       "      <th>0</th>\n",
       "      <td>1</td>\n",
       "      <td>4.5581</td>\n",
       "      <td>5.7046</td>\n",
       "      <td>4.8539</td>\n",
       "      <td>4.64590</td>\n",
       "      <td>4.6451</td>\n",
       "      <td>1.1465</td>\n",
       "      <td>0.8507</td>\n",
       "      <td>0.741997</td>\n",
       "      <td>0.20800</td>\n",
       "      <td>0.181422</td>\n",
       "      <td>0.0008</td>\n",
       "      <td>0.000698</td>\n",
       "      <td>0.0870</td>\n",
       "      <td>0.075883</td>\n",
       "    </tr>\n",
       "    <tr>\n",
       "      <th>1</th>\n",
       "      <td>2</td>\n",
       "      <td>6.0636</td>\n",
       "      <td>6.8480</td>\n",
       "      <td>6.2318</td>\n",
       "      <td>6.09160</td>\n",
       "      <td>6.0900</td>\n",
       "      <td>0.7844</td>\n",
       "      <td>0.6162</td>\n",
       "      <td>0.785569</td>\n",
       "      <td>0.14020</td>\n",
       "      <td>0.178735</td>\n",
       "      <td>0.0016</td>\n",
       "      <td>0.002040</td>\n",
       "      <td>0.0264</td>\n",
       "      <td>0.033656</td>\n",
       "    </tr>\n",
       "    <tr>\n",
       "      <th>2</th>\n",
       "      <td>3</td>\n",
       "      <td>4.3505</td>\n",
       "      <td>4.8886</td>\n",
       "      <td>4.4667</td>\n",
       "      <td>4.37480</td>\n",
       "      <td>4.3728</td>\n",
       "      <td>0.5381</td>\n",
       "      <td>0.4219</td>\n",
       "      <td>0.784055</td>\n",
       "      <td>0.09190</td>\n",
       "      <td>0.170786</td>\n",
       "      <td>0.0020</td>\n",
       "      <td>0.003717</td>\n",
       "      <td>0.0223</td>\n",
       "      <td>0.041442</td>\n",
       "    </tr>\n",
       "    <tr>\n",
       "      <th>3</th>\n",
       "      <td>4</td>\n",
       "      <td>4.8683</td>\n",
       "      <td>5.2294</td>\n",
       "      <td>4.9396</td>\n",
       "      <td>4.88060</td>\n",
       "      <td>4.8809</td>\n",
       "      <td>0.3611</td>\n",
       "      <td>0.2898</td>\n",
       "      <td>0.802548</td>\n",
       "      <td>0.05900</td>\n",
       "      <td>0.163390</td>\n",
       "      <td>-0.0003</td>\n",
       "      <td>-0.000831</td>\n",
       "      <td>0.0126</td>\n",
       "      <td>0.034893</td>\n",
       "    </tr>\n",
       "    <tr>\n",
       "      <th>4</th>\n",
       "      <td>5</td>\n",
       "      <td>5.3771</td>\n",
       "      <td>5.9840</td>\n",
       "      <td>5.5150</td>\n",
       "      <td>5.34189</td>\n",
       "      <td>5.4194</td>\n",
       "      <td>0.6069</td>\n",
       "      <td>0.4690</td>\n",
       "      <td>0.772780</td>\n",
       "      <td>0.17311</td>\n",
       "      <td>0.285236</td>\n",
       "      <td>-0.0775</td>\n",
       "      <td>-0.127715</td>\n",
       "      <td>0.0423</td>\n",
       "      <td>0.069698</td>\n",
       "    </tr>\n",
       "  </tbody>\n",
       "</table>\n",
       "</div>"
      ],
      "text/plain": [
       "   Num   Empty     Wet    105C     550C   1000C  BaseWeight   Water  PctWater  \\\n",
       "0    1  4.5581  5.7046  4.8539  4.64590  4.6451      1.1465  0.8507  0.741997   \n",
       "1    2  6.0636  6.8480  6.2318  6.09160  6.0900      0.7844  0.6162  0.785569   \n",
       "2    3  4.3505  4.8886  4.4667  4.37480  4.3728      0.5381  0.4219  0.784055   \n",
       "3    4  4.8683  5.2294  4.9396  4.88060  4.8809      0.3611  0.2898  0.802548   \n",
       "4    5  5.3771  5.9840  5.5150  5.34189  5.4194      0.6069  0.4690  0.772780   \n",
       "\n",
       "   OrganicMatter  PctOrganic  Carbonates  PctCarbon     Ash  PctAshOxides  \n",
       "0        0.20800    0.181422      0.0008   0.000698  0.0870      0.075883  \n",
       "1        0.14020    0.178735      0.0016   0.002040  0.0264      0.033656  \n",
       "2        0.09190    0.170786      0.0020   0.003717  0.0223      0.041442  \n",
       "3        0.05900    0.163390     -0.0003  -0.000831  0.0126      0.034893  \n",
       "4        0.17311    0.285236     -0.0775  -0.127715  0.0423      0.069698  "
      ]
     },
     "execution_count": 8,
     "metadata": {},
     "output_type": "execute_result"
    }
   ],
   "source": [
    "pieces3 = [LabDataWL3a, LabDataWL3b]\n",
    "WL3 = pd.concat(pieces3)\n",
    "WL3.head()"
   ]
  },
  {
   "cell_type": "code",
   "execution_count": 69,
   "metadata": {
    "collapsed": false
   },
   "outputs": [
    {
     "data": {
      "text/html": [
       "<div>\n",
       "<table border=\"1\" class=\"dataframe\">\n",
       "  <thead>\n",
       "    <tr style=\"text-align: right;\">\n",
       "      <th></th>\n",
       "      <th>Num</th>\n",
       "      <th>Empty</th>\n",
       "      <th>Wet</th>\n",
       "      <th>105C</th>\n",
       "      <th>550C</th>\n",
       "      <th>1000C</th>\n",
       "      <th>Unnamed: 6</th>\n",
       "      <th>Unnamed: 7</th>\n",
       "    </tr>\n",
       "  </thead>\n",
       "  <tbody>\n",
       "    <tr>\n",
       "      <th>0</th>\n",
       "      <td>1</td>\n",
       "      <td>4.4990</td>\n",
       "      <td>5.2421</td>\n",
       "      <td>4.7189</td>\n",
       "      <td>4.5181</td>\n",
       "      <td>4.5172</td>\n",
       "      <td>NaN</td>\n",
       "      <td>NaN</td>\n",
       "    </tr>\n",
       "    <tr>\n",
       "      <th>1</th>\n",
       "      <td>2</td>\n",
       "      <td>5.9866</td>\n",
       "      <td>6.6951</td>\n",
       "      <td>6.1841</td>\n",
       "      <td>6.0040</td>\n",
       "      <td>6.0032</td>\n",
       "      <td>NaN</td>\n",
       "      <td>2-42cm</td>\n",
       "    </tr>\n",
       "    <tr>\n",
       "      <th>2</th>\n",
       "      <td>3</td>\n",
       "      <td>4.2969</td>\n",
       "      <td>5.2410</td>\n",
       "      <td>4.5078</td>\n",
       "      <td>4.3664</td>\n",
       "      <td>4.3675</td>\n",
       "      <td>NaN</td>\n",
       "      <td>NaN</td>\n",
       "    </tr>\n",
       "    <tr>\n",
       "      <th>3</th>\n",
       "      <td>4</td>\n",
       "      <td>4.8050</td>\n",
       "      <td>5.5610</td>\n",
       "      <td>4.9540</td>\n",
       "      <td>4.8146</td>\n",
       "      <td>4.8131</td>\n",
       "      <td>NaN</td>\n",
       "      <td>NaN</td>\n",
       "    </tr>\n",
       "    <tr>\n",
       "      <th>4</th>\n",
       "      <td>5</td>\n",
       "      <td>5.3057</td>\n",
       "      <td>6.0431</td>\n",
       "      <td>5.4030</td>\n",
       "      <td>5.3168</td>\n",
       "      <td>5.3159</td>\n",
       "      <td>NaN</td>\n",
       "      <td>NaN</td>\n",
       "    </tr>\n",
       "  </tbody>\n",
       "</table>\n",
       "</div>"
      ],
      "text/plain": [
       "   Num   Empty     Wet    105C    550C   1000C  Unnamed: 6 Unnamed: 7\n",
       "0    1  4.4990  5.2421  4.7189  4.5181  4.5172         NaN        NaN\n",
       "1    2  5.9866  6.6951  6.1841  6.0040  6.0032         NaN     2-42cm\n",
       "2    3  4.2969  5.2410  4.5078  4.3664  4.3675         NaN        NaN\n",
       "3    4  4.8050  5.5610  4.9540  4.8146  4.8131         NaN        NaN\n",
       "4    5  5.3057  6.0431  5.4030  5.3168  5.3159         NaN        NaN"
      ]
     },
     "execution_count": 69,
     "metadata": {},
     "output_type": "execute_result"
    }
   ],
   "source": [
    "WL4 = LabDataWL4a\n",
    "WL4.head()"
   ]
  },
  {
   "cell_type": "code",
   "execution_count": 70,
   "metadata": {
    "collapsed": false
   },
   "outputs": [
    {
     "data": {
      "text/html": [
       "<div>\n",
       "<table border=\"1\" class=\"dataframe\">\n",
       "  <thead>\n",
       "    <tr style=\"text-align: right;\">\n",
       "      <th></th>\n",
       "      <th>Num</th>\n",
       "      <th>Empty</th>\n",
       "      <th>Wet</th>\n",
       "      <th>105C</th>\n",
       "      <th>550C</th>\n",
       "      <th>1000C</th>\n",
       "      <th>Unnamed: 6</th>\n",
       "      <th>Unnamed: 7</th>\n",
       "    </tr>\n",
       "  </thead>\n",
       "  <tbody>\n",
       "    <tr>\n",
       "      <th>0</th>\n",
       "      <td>1</td>\n",
       "      <td>4.4983</td>\n",
       "      <td>5.5914</td>\n",
       "      <td>4.6364</td>\n",
       "      <td>4.5184</td>\n",
       "      <td>4.5182</td>\n",
       "      <td>NaN</td>\n",
       "      <td>NaN</td>\n",
       "    </tr>\n",
       "    <tr>\n",
       "      <th>1</th>\n",
       "      <td>2</td>\n",
       "      <td>5.9860</td>\n",
       "      <td>7.4326</td>\n",
       "      <td>6.1553</td>\n",
       "      <td>5.0041</td>\n",
       "      <td>6.0028</td>\n",
       "      <td>NaN</td>\n",
       "      <td>3-42cm</td>\n",
       "    </tr>\n",
       "    <tr>\n",
       "      <th>2</th>\n",
       "      <td>3</td>\n",
       "      <td>4.2962</td>\n",
       "      <td>6.3133</td>\n",
       "      <td>4.6370</td>\n",
       "      <td>4.4221</td>\n",
       "      <td>4.4190</td>\n",
       "      <td>NaN</td>\n",
       "      <td>NaN</td>\n",
       "    </tr>\n",
       "    <tr>\n",
       "      <th>3</th>\n",
       "      <td>4</td>\n",
       "      <td>4.8042</td>\n",
       "      <td>7.1530</td>\n",
       "      <td>5.7472</td>\n",
       "      <td>5.5349</td>\n",
       "      <td>5.5314</td>\n",
       "      <td>NaN</td>\n",
       "      <td>NaN</td>\n",
       "    </tr>\n",
       "    <tr>\n",
       "      <th>4</th>\n",
       "      <td>5</td>\n",
       "      <td>5.3054</td>\n",
       "      <td>8.0300</td>\n",
       "      <td>5.5701</td>\n",
       "      <td>6.3646</td>\n",
       "      <td>6.3491</td>\n",
       "      <td>NaN</td>\n",
       "      <td>NaN</td>\n",
       "    </tr>\n",
       "  </tbody>\n",
       "</table>\n",
       "</div>"
      ],
      "text/plain": [
       "   Num   Empty     Wet    105C    550C   1000C  Unnamed: 6 Unnamed: 7\n",
       "0    1  4.4983  5.5914  4.6364  4.5184  4.5182         NaN        NaN\n",
       "1    2  5.9860  7.4326  6.1553  5.0041  6.0028         NaN     3-42cm\n",
       "2    3  4.2962  6.3133  4.6370  4.4221  4.4190         NaN        NaN\n",
       "3    4  4.8042  7.1530  5.7472  5.5349  5.5314         NaN        NaN\n",
       "4    5  5.3054  8.0300  5.5701  6.3646  6.3491         NaN        NaN"
      ]
     },
     "execution_count": 70,
     "metadata": {},
     "output_type": "execute_result"
    }
   ],
   "source": [
    "pieces5 = [LabDataWL5a, LabDataWL5b, LabDataWL5c]\n",
    "WL5 = pd.concat(pieces5)\n",
    "WL5.head()"
   ]
  },
  {
   "cell_type": "code",
   "execution_count": 15,
   "metadata": {
    "collapsed": true
   },
   "outputs": [],
   "source": [
    "import plotly.plotly as py\n",
    "import plotly.graph_objs as go"
   ]
  },
  {
   "cell_type": "code",
   "execution_count": 17,
   "metadata": {
    "collapsed": true
   },
   "outputs": [],
   "source": [
    "import plotly \n",
    "plotly.tools.set_credentials_file(username='akell47', api_key='vk5wgdfotc')\n",
    "\n",
    "py.sign_in(\"akell47\", \"vk5wgdfotc\")"
   ]
  },
  {
   "cell_type": "code",
   "execution_count": 18,
   "metadata": {
    "collapsed": false
   },
   "outputs": [
    {
     "data": {
      "text/html": [
       "<iframe id=\"igraph\" scrolling=\"no\" style=\"border:none;\" seamless=\"seamless\" src=\"https://plot.ly/~akell47/80.embed\" height=\"525px\" width=\"100%\"></iframe>"
      ],
      "text/plain": [
       "<plotly.tools.PlotlyDisplay object>"
      ]
     },
     "execution_count": 18,
     "metadata": {},
     "output_type": "execute_result"
    }
   ],
   "source": [
    "y0a = WL3.PctWater\n",
    "y0b = WL3.PctOrganic\n",
    "y0c = WL3.PctCarbon\n",
    "y0d = WL3.PctAshOxides\n",
    "\n",
    "A = go.Box(\n",
    "    y = y0a,\n",
    "    name = 'WL3 Percent Water',\n",
    "    marker = dict(\n",
    "        color = 'rgb(214, 12, 140)',\n",
    "    )\n",
    ")\n",
    "B = go.Box(\n",
    "    y = y0b,\n",
    "    name = 'WL3 Percent Organic',\n",
    "    marker = dict(\n",
    "        color = 'rgb(0, 128, 128)',\n",
    "    )\n",
    ")\n",
    "C = go.Box(\n",
    "    y = y0c,\n",
    "    name = 'WL3 Percent Carbonates',\n",
    "    marker = dict(\n",
    "        color = 'rgb(50, 30, 110)'\n",
    "    )\n",
    ")\n",
    "D = go.Box(\n",
    "    y = y0d,\n",
    "    name = 'WL3 Percent Ash and Oxides',\n",
    "    marker = dict(\n",
    "        color = 'rgb(32, 178, 170)'\n",
    "    )\n",
    ")\n",
    "\n",
    "data = [A, B, C]\n",
    "py.iplot(data)"
   ]
  },
  {
   "cell_type": "code",
   "execution_count": 34,
   "metadata": {
    "collapsed": false
   },
   "outputs": [
    {
     "ename": "PlotlyError",
     "evalue": "Hey there! You've hit one of our API request limits. \n\nTo get unlimited API calls(10,000/day), please upgrade to a paid plan. \n\nUPGRADE HERE: https://goo.gl/i7glmM \n\nThanks for using Plotly! Happy Plotting!",
     "output_type": "error",
     "traceback": [
      "\u001b[0;31m\u001b[0m",
      "\u001b[0;31mPlotlyError\u001b[0mTraceback (most recent call last)",
      "\u001b[0;32m<ipython-input-34-238d042ca78b>\u001b[0m in \u001b[0;36m<module>\u001b[0;34m()\u001b[0m\n\u001b[1;32m     41\u001b[0m \u001b[1;33m\u001b[0m\u001b[0m\n\u001b[1;32m     42\u001b[0m \u001b[1;31m# py.iplot(data, filename='line-mode')\u001b[0m\u001b[1;33m\u001b[0m\u001b[1;33m\u001b[0m\u001b[0m\n\u001b[0;32m---> 43\u001b[0;31m \u001b[0mpy\u001b[0m\u001b[1;33m.\u001b[0m\u001b[0miplot\u001b[0m\u001b[1;33m(\u001b[0m\u001b[0mdata\u001b[0m\u001b[1;33m)\u001b[0m\u001b[1;33m\u001b[0m\u001b[0m\n\u001b[0m",
      "\u001b[0;32mC:\\Users\\Amber\\Anaconda2\\lib\\site-packages\\plotly\\plotly\\plotly.pyc\u001b[0m in \u001b[0;36miplot\u001b[0;34m(figure_or_data, **plot_options)\u001b[0m\n\u001b[1;32m    149\u001b[0m     \u001b[1;32mif\u001b[0m \u001b[1;34m'auto_open'\u001b[0m \u001b[1;32mnot\u001b[0m \u001b[1;32min\u001b[0m \u001b[0mplot_options\u001b[0m\u001b[1;33m:\u001b[0m\u001b[1;33m\u001b[0m\u001b[0m\n\u001b[1;32m    150\u001b[0m         \u001b[0mplot_options\u001b[0m\u001b[1;33m[\u001b[0m\u001b[1;34m'auto_open'\u001b[0m\u001b[1;33m]\u001b[0m \u001b[1;33m=\u001b[0m \u001b[0mFalse\u001b[0m\u001b[1;33m\u001b[0m\u001b[0m\n\u001b[0;32m--> 151\u001b[0;31m     \u001b[0murl\u001b[0m \u001b[1;33m=\u001b[0m \u001b[0mplot\u001b[0m\u001b[1;33m(\u001b[0m\u001b[0mfigure_or_data\u001b[0m\u001b[1;33m,\u001b[0m \u001b[1;33m**\u001b[0m\u001b[0mplot_options\u001b[0m\u001b[1;33m)\u001b[0m\u001b[1;33m\u001b[0m\u001b[0m\n\u001b[0m\u001b[1;32m    152\u001b[0m \u001b[1;33m\u001b[0m\u001b[0m\n\u001b[1;32m    153\u001b[0m     \u001b[1;32mif\u001b[0m \u001b[0misinstance\u001b[0m\u001b[1;33m(\u001b[0m\u001b[0mfigure_or_data\u001b[0m\u001b[1;33m,\u001b[0m \u001b[0mdict\u001b[0m\u001b[1;33m)\u001b[0m\u001b[1;33m:\u001b[0m\u001b[1;33m\u001b[0m\u001b[0m\n",
      "\u001b[0;32mC:\\Users\\Amber\\Anaconda2\\lib\\site-packages\\plotly\\plotly\\plotly.pyc\u001b[0m in \u001b[0;36mplot\u001b[0;34m(figure_or_data, validate, **plot_options)\u001b[0m\n\u001b[1;32m    239\u001b[0m \u001b[1;33m\u001b[0m\u001b[0m\n\u001b[1;32m    240\u001b[0m     \u001b[0mplot_options\u001b[0m \u001b[1;33m=\u001b[0m \u001b[0m_plot_option_logic\u001b[0m\u001b[1;33m(\u001b[0m\u001b[0mplot_options\u001b[0m\u001b[1;33m)\u001b[0m\u001b[1;33m\u001b[0m\u001b[0m\n\u001b[0;32m--> 241\u001b[0;31m     \u001b[0mres\u001b[0m \u001b[1;33m=\u001b[0m \u001b[0m_send_to_plotly\u001b[0m\u001b[1;33m(\u001b[0m\u001b[0mfigure\u001b[0m\u001b[1;33m,\u001b[0m \u001b[1;33m**\u001b[0m\u001b[0mplot_options\u001b[0m\u001b[1;33m)\u001b[0m\u001b[1;33m\u001b[0m\u001b[0m\n\u001b[0m\u001b[1;32m    242\u001b[0m     \u001b[1;32mif\u001b[0m \u001b[0mres\u001b[0m\u001b[1;33m[\u001b[0m\u001b[1;34m'error'\u001b[0m\u001b[1;33m]\u001b[0m \u001b[1;33m==\u001b[0m \u001b[1;34m''\u001b[0m\u001b[1;33m:\u001b[0m\u001b[1;33m\u001b[0m\u001b[0m\n\u001b[1;32m    243\u001b[0m         \u001b[1;32mif\u001b[0m \u001b[0mplot_options\u001b[0m\u001b[1;33m[\u001b[0m\u001b[1;34m'auto_open'\u001b[0m\u001b[1;33m]\u001b[0m\u001b[1;33m:\u001b[0m\u001b[1;33m\u001b[0m\u001b[0m\n",
      "\u001b[0;32mC:\\Users\\Amber\\Anaconda2\\lib\\site-packages\\plotly\\plotly\\plotly.pyc\u001b[0m in \u001b[0;36m_send_to_plotly\u001b[0;34m(figure, **plot_options)\u001b[0m\n\u001b[1;32m   1429\u001b[0m \u001b[1;33m\u001b[0m\u001b[0m\n\u001b[1;32m   1430\u001b[0m     \u001b[1;32mif\u001b[0m \u001b[1;34m'error'\u001b[0m \u001b[1;32min\u001b[0m \u001b[0mr\u001b[0m \u001b[1;32mand\u001b[0m \u001b[0mr\u001b[0m\u001b[1;33m[\u001b[0m\u001b[1;34m'error'\u001b[0m\u001b[1;33m]\u001b[0m \u001b[1;33m!=\u001b[0m \u001b[1;34m''\u001b[0m\u001b[1;33m:\u001b[0m\u001b[1;33m\u001b[0m\u001b[0m\n\u001b[0;32m-> 1431\u001b[0;31m         \u001b[1;32mraise\u001b[0m \u001b[0mexceptions\u001b[0m\u001b[1;33m.\u001b[0m\u001b[0mPlotlyError\u001b[0m\u001b[1;33m(\u001b[0m\u001b[0mr\u001b[0m\u001b[1;33m[\u001b[0m\u001b[1;34m'error'\u001b[0m\u001b[1;33m]\u001b[0m\u001b[1;33m)\u001b[0m\u001b[1;33m\u001b[0m\u001b[0m\n\u001b[0m\u001b[1;32m   1432\u001b[0m \u001b[1;33m\u001b[0m\u001b[0m\n\u001b[1;32m   1433\u001b[0m     \u001b[1;31m# Check if the url needs a secret key\u001b[0m\u001b[1;33m\u001b[0m\u001b[1;33m\u001b[0m\u001b[0m\n",
      "\u001b[0;31mPlotlyError\u001b[0m: Hey there! You've hit one of our API request limits. \n\nTo get unlimited API calls(10,000/day), please upgrade to a paid plan. \n\nUPGRADE HERE: https://goo.gl/i7glmM \n\nThanks for using Plotly! Happy Plotting!"
     ]
    }
   ],
   "source": [
    "y0a = WL3.PctWater\n",
    "y0b = WL3.PctOrganic\n",
    "y0c = WL3.PctCarbon\n",
    "y0d = WL3.PctAshOxides\n",
    "\n",
    "\n",
    "A = go.Scatter(\n",
    "    y = y0a,\n",
    "    mode = 'lines+markers',\n",
    "    name = 'Percent Water',\n",
    "    marker = dict(\n",
    "        color = 'rgb(214, 12, 140)'\n",
    "    )\n",
    ")\n",
    "B = go.Scatter(\n",
    "    y = y0b,\n",
    "    mode = 'lines+markers',\n",
    "    name = 'Percent Organic Matter',\n",
    "    marker = dict(\n",
    "        color = 'rgb(0, 128, 128)'\n",
    "    )\n",
    ")\n",
    "C = go.Scatter(\n",
    "    y= y0c,\n",
    "    mode = 'lines+markers',\n",
    "    name = 'Percent Carbonites',\n",
    "    marker = dict(\n",
    "        color = 'rgb(50, 30, 110)'\n",
    "    )\n",
    ")\n",
    "D = go.Scatter(\n",
    "    y= y0c,\n",
    "    mode = 'lines+markers',\n",
    "    name = 'Percent Ash and Oxides',\n",
    "    marker = dict(\n",
    "        color = 'rgb(32, 178, 170)'\n",
    "    )\n",
    ")\n",
    "\n",
    "data = [A, B, C, D]\n",
    "\n",
    "# py.iplot(data, filename='line-mode')\n",
    "py.iplot(data)"
   ]
  },
  {
   "cell_type": "code",
   "execution_count": null,
   "metadata": {
    "collapsed": true
   },
   "outputs": [],
   "source": []
  }
 ],
 "metadata": {
  "anaconda-cloud": {},
  "kernelspec": {
   "display_name": "Python [conda root]",
   "language": "python",
   "name": "conda-root-py"
  },
  "language_info": {
   "codemirror_mode": {
    "name": "ipython",
    "version": 2
   },
   "file_extension": ".py",
   "mimetype": "text/x-python",
   "name": "python",
   "nbconvert_exporter": "python",
   "pygments_lexer": "ipython2",
   "version": "2.7.12"
  }
 },
 "nbformat": 4,
 "nbformat_minor": 1
}
