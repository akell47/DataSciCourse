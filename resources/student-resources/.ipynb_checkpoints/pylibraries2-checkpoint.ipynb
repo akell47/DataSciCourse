{
 "cells": [
  {
   "cell_type": "markdown",
   "metadata": {},
   "source": [
    "# Dictionary of Python Libaries"
   ]
  },
  {
   "cell_type": "markdown",
   "metadata": {},
   "source": [
    "many already included with Anaconda install"
   ]
  },
  {
   "cell_type": "markdown",
   "metadata": {},
   "source": [
    "import | as | API\n",
    ":---: | :---: | --- |\n",
    "pandas | pd | http://pandas.pydata.org/pandas-docs/stable/api.html \n",
    "math | math | https://docs.python.org/2/library/math.html\n",
    "numpy | np | http://scipy.github.io/old-wiki/pages/Tentative_NumPy_Tutorial\n",
    "matplotlib.pyplot | plt | http://matplotlib.org/api/pyplot_api.html\n",
    "matplotlib | mpl | http://matplotlib.org/api/ \n",
    "sklearn | sk? | http://scikit-learn.org/stable/modules/classes.html\n",
    "scipy | stats | https://docs.scipy.org/doc/scipy/reference/\n",
    "seaborn | sns | http://seaborn.pydata.org/api.html\n",
    "statsmodels.formula.api | smf | http://statsmodels.sourceforge.net/devel/"
   ]
  },
  {
   "cell_type": "markdown",
   "metadata": {},
   "source": [
    "Standard Library imports | module\n",
    "--- | --- | \n",
    "os | Operating System\n",
    "shutil | directory management\n",
    "re | advanced string processing\n",
    "math | floating point math \n",
    "random | random selections\n",
    "statistics |  basics statistics\n",
    "urlib.request | retrieving data from a URL\n",
    "smtplib | sending mail\n",
    "datetime | classes for manipulating dates\n",
    "timeit | Timer - how fast code runs\n",
    "sqllite3 | wrap SQL\n",
    "csv | read/ write CSV files "
   ]
  },
  {
   "cell_type": "markdown",
   "metadata": {},
   "source": [
    "Matplotlib modules"
   ]
  },
  {
   "cell_type": "markdown",
   "metadata": {
    "collapsed": true
   },
   "source": [
    "More | link | do\n",
    ":---:| --- |\n",
    "psycopg2 | https://pypi.python.org/pypi/psycopg2 | connect with SQL database\n",
    "py.code | http://pylib.readthedocs.io/en/1.4.3/code.html | higher level python?\n",
    "arcpy | http://pro.arcgis.com/en/pro-app/arcpy/get-started/importing-arcpy.htm | GIS Esri py"
   ]
  },
  {
   "cell_type": "code",
   "execution_count": null,
   "metadata": {
    "collapsed": true
   },
   "outputs": [],
   "source": []
  }
 ],
 "metadata": {
  "anaconda-cloud": {},
  "kernelspec": {
   "display_name": "Python [default]",
   "language": "python",
   "name": "python2"
  },
  "language_info": {
   "codemirror_mode": {
    "name": "ipython",
    "version": 2
   },
   "file_extension": ".py",
   "mimetype": "text/x-python",
   "name": "python",
   "nbconvert_exporter": "python",
   "pygments_lexer": "ipython2",
   "version": "2.7.12"
  }
 },
 "nbformat": 4,
 "nbformat_minor": 1
}
