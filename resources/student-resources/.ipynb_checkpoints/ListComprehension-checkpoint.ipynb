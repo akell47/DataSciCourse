{
 "cells": [
  {
   "cell_type": "markdown",
   "metadata": {},
   "source": [
    "# for loops are so 2016"
   ]
  },
  {
   "cell_type": "markdown",
   "metadata": {},
   "source": [
    "some List Comprehension examples from a few resources.<br/>\n",
    " * https://www.youtube.com/watch?v=3dt4OGnU5sM\n",
    " * https://www.youtube.com/watch?v=VBokjWj_cEA\n",
    " * http://treyhunner.com/2015/12/python-list-comprehensions-now-in-color/ "
   ]
  },
  {
   "cell_type": "code",
   "execution_count": 1,
   "metadata": {
    "collapsed": true
   },
   "outputs": [],
   "source": [
    "nums = [1,2,3,4,5,6,7,8,9,10]"
   ]
  },
  {
   "cell_type": "markdown",
   "metadata": {},
   "source": [
    "start with a a list of numbers"
   ]
  },
  {
   "cell_type": "code",
   "execution_count": 2,
   "metadata": {
    "collapsed": false
   },
   "outputs": [
    {
     "data": {
      "text/plain": [
       "[1, 2, 3, 4, 5, 6, 7, 8, 9, 10]"
      ]
     },
     "execution_count": 2,
     "metadata": {},
     "output_type": "execute_result"
    }
   ],
   "source": [
    "nums"
   ]
  },
  {
   "cell_type": "code",
   "execution_count": 3,
   "metadata": {
    "collapsed": true
   },
   "outputs": [],
   "source": [
    "import numpy as np"
   ]
  },
  {
   "cell_type": "code",
   "execution_count": 4,
   "metadata": {
    "collapsed": false
   },
   "outputs": [
    {
     "name": "stdout",
     "output_type": "stream",
     "text": [
      "[8 9 5 2 5 2 3 8 2 2]\n"
     ]
    }
   ],
   "source": [
    "randomNums = np.random.randint(0, 10, 10)\n",
    "print randomNums\n",
    "# different set everytime!"
   ]
  },
  {
   "cell_type": "markdown",
   "metadata": {},
   "source": [
    "some random numbers - use numpy.random.randint(start, end, howmany) <br/>\n",
    "first you have to import the numpy library"
   ]
  },
  {
   "cell_type": "markdown",
   "metadata": {},
   "source": [
    "#### first example put your set of numbers into another list "
   ]
  },
  {
   "cell_type": "markdown",
   "metadata": {},
   "source": [
    "the \"bad\" way"
   ]
  },
  {
   "cell_type": "code",
   "execution_count": 5,
   "metadata": {
    "collapsed": false
   },
   "outputs": [
    {
     "name": "stdout",
     "output_type": "stream",
     "text": [
      "[1, 2, 3, 4, 5, 6, 7, 8, 9, 10]\n"
     ]
    }
   ],
   "source": [
    "a_list = []\n",
    "for n in nums:\n",
    "    a_list.append(n)\n",
    "    \n",
    "print a_list"
   ]
  },
  {
   "cell_type": "markdown",
   "metadata": {},
   "source": [
    "list comp looks cleaner is easier to read so they say. Notice that you don't need `.append` and don't neeed to set a initalize an empty list."
   ]
  },
  {
   "cell_type": "code",
   "execution_count": 6,
   "metadata": {
    "collapsed": false
   },
   "outputs": [
    {
     "name": "stdout",
     "output_type": "stream",
     "text": [
      "[1, 2, 3, 4, 5, 6, 7, 8, 9, 10]\n"
     ]
    }
   ],
   "source": [
    "a_list = [n for n in nums]\n",
    "print a_list"
   ]
  },
  {
   "cell_type": "markdown",
   "metadata": {},
   "source": [
    "#### another example with `n*n`"
   ]
  },
  {
   "cell_type": "markdown",
   "metadata": {},
   "source": [
    "for loop way"
   ]
  },
  {
   "cell_type": "code",
   "execution_count": 7,
   "metadata": {
    "collapsed": false
   },
   "outputs": [
    {
     "name": "stdout",
     "output_type": "stream",
     "text": [
      "[1, 4, 9, 16, 25, 36, 49, 64, 81, 100]\n"
     ]
    }
   ],
   "source": [
    "a_list2 = []\n",
    "for n in nums:\n",
    "    a_list2.append(n * n)\n",
    "print a_list2"
   ]
  },
  {
   "cell_type": "markdown",
   "metadata": {},
   "source": [
    "list comp way"
   ]
  },
  {
   "cell_type": "markdown",
   "metadata": {},
   "source": [
    "see the *action* of `n * n` comes first then for each thing in your list of things all enclosed with `[]`"
   ]
  },
  {
   "cell_type": "code",
   "execution_count": 8,
   "metadata": {
    "collapsed": false
   },
   "outputs": [
    {
     "name": "stdout",
     "output_type": "stream",
     "text": [
      "[1, 4, 9, 16, 25, 36, 49, 64, 81, 100]\n"
     ]
    }
   ],
   "source": [
    "a_list2 = [n * n for n in nums]\n",
    "print a_list2"
   ]
  },
  {
   "cell_type": "markdown",
   "metadata": {},
   "source": [
    "map lambda way"
   ]
  },
  {
   "cell_type": "code",
   "execution_count": 9,
   "metadata": {
    "collapsed": false
   },
   "outputs": [
    {
     "name": "stdout",
     "output_type": "stream",
     "text": [
      "[1, 4, 9, 16, 25, 36, 49, 64, 81, 100]\n"
     ]
    }
   ],
   "source": [
    "a_list2 = map(lambda n: n * n ,nums)\n",
    "print a_list2"
   ]
  },
  {
   "cell_type": "markdown",
   "metadata": {},
   "source": [
    "#### print number for each number if number is even"
   ]
  },
  {
   "cell_type": "markdown",
   "metadata": {},
   "source": [
    "the bad way"
   ]
  },
  {
   "cell_type": "code",
   "execution_count": 10,
   "metadata": {
    "collapsed": false
   },
   "outputs": [
    {
     "name": "stdout",
     "output_type": "stream",
     "text": [
      "[2, 4, 6, 8, 10]\n"
     ]
    }
   ],
   "source": [
    "a_list3 = []\n",
    "for n in nums:\n",
    "    if n % 2 == 0:\n",
    "        a_list3.append(n)\n",
    "print a_list3"
   ]
  },
  {
   "cell_type": "markdown",
   "metadata": {},
   "source": [
    "the good way: list comprehension"
   ]
  },
  {
   "cell_type": "markdown",
   "metadata": {},
   "source": [
    "first part is what you want to return n, but the condition of the even numbers is with the if statement. Kinda like the WHERE in SQL"
   ]
  },
  {
   "cell_type": "code",
   "execution_count": 11,
   "metadata": {
    "collapsed": false
   },
   "outputs": [
    {
     "name": "stdout",
     "output_type": "stream",
     "text": [
      "[2, 4, 6, 8, 10]\n"
     ]
    }
   ],
   "source": [
    "a_list3 = [n for n in nums if n % 2 == 0]\n",
    "print a_list3"
   ]
  },
  {
   "cell_type": "markdown",
   "metadata": {},
   "source": [
    "filter lambda way:"
   ]
  },
  {
   "cell_type": "markdown",
   "metadata": {},
   "source": [
    "filter - pretty neat"
   ]
  },
  {
   "cell_type": "code",
   "execution_count": 12,
   "metadata": {
    "collapsed": false
   },
   "outputs": [
    {
     "name": "stdout",
     "output_type": "stream",
     "text": [
      "[2, 4, 6, 8, 10]\n"
     ]
    }
   ],
   "source": [
    "a_list3lambda = filter(lambda n: n % 2 == 0, nums)\n",
    "print a_list3lambda"
   ]
  },
  {
   "cell_type": "markdown",
   "metadata": {},
   "source": [
    "#### print letter number pair in \"abcd\" and \"1234\" (all possible pairs)"
   ]
  },
  {
   "cell_type": "markdown",
   "metadata": {},
   "source": [
    "for loop many line way "
   ]
  },
  {
   "cell_type": "code",
   "execution_count": 13,
   "metadata": {
    "collapsed": false
   },
   "outputs": [
    {
     "name": "stdout",
     "output_type": "stream",
     "text": [
      "[('a', 1), ('a', 2), ('a', 3), ('a', 4), ('b', 1), ('b', 2), ('b', 3), ('b', 4), ('c', 1), ('c', 2), ('c', 3), ('c', 4), ('d', 1), ('d', 2), ('d', 3), ('d', 4)]\n"
     ]
    }
   ],
   "source": [
    "a_list4 = []\n",
    "for letter in \"abcd\":\n",
    "    for num in range(1,5):\n",
    "        a_list4.append((letter,num))\n",
    "print a_list4"
   ]
  },
  {
   "cell_type": "markdown",
   "metadata": {},
   "source": [
    "list comp way: <br/>\n",
    "want a letter and number pair for each abcd and with numbers from 1 to 5 <br/>\n",
    "range works like range(start, end) but end is the number before"
   ]
  },
  {
   "cell_type": "code",
   "execution_count": 14,
   "metadata": {
    "collapsed": false
   },
   "outputs": [
    {
     "name": "stdout",
     "output_type": "stream",
     "text": [
      "[('a', 1), ('a', 2), ('a', 3), ('a', 4), ('a', 5), ('b', 1), ('b', 2), ('b', 3), ('b', 4), ('b', 5), ('c', 1), ('c', 2), ('c', 3), ('c', 4), ('c', 5), ('d', 1), ('d', 2), ('d', 3), ('d', 4), ('d', 5)]\n"
     ]
    }
   ],
   "source": [
    "a_list4 = [(letter, number) for letter in \"abcd\" for number in range(1,6)]\n",
    "print a_list4"
   ]
  },
  {
   "cell_type": "markdown",
   "metadata": {},
   "source": [
    "### alright a step up - Dictionary Comprehension"
   ]
  },
  {
   "cell_type": "markdown",
   "metadata": {},
   "source": [
    "superheroes! "
   ]
  },
  {
   "cell_type": "markdown",
   "metadata": {},
   "source": [
    "**--The Dictionary--**"
   ]
  },
  {
   "cell_type": "code",
   "execution_count": 15,
   "metadata": {
    "collapsed": false
   },
   "outputs": [
    {
     "name": "stdout",
     "output_type": "stream",
     "text": [
      "[('Bruce', 'Batman', 55), ('Clark', 'Superman', 200), ('Peter', 'Spiderman', 22), ('Logan', 'Wolverine', 1000), ('David', 'Hulk', 40)]\n"
     ]
    }
   ],
   "source": [
    "names = [\"Bruce\", \"Clark\", \"Peter\", \"Logan\", \"David\"]\n",
    "heroes = [\"Batman\", \"Superman\", \"Spiderman\", \"Wolverine\", \"Hulk\"]\n",
    "ages = [55, 200, 22, 1000, 40]\n",
    "print zip(names, heroes, ages)\n",
    "\n",
    "# zip!!!"
   ]
  },
  {
   "cell_type": "markdown",
   "metadata": {},
   "source": [
    "the bad way:"
   ]
  },
  {
   "cell_type": "code",
   "execution_count": 16,
   "metadata": {
    "collapsed": false
   },
   "outputs": [
    {
     "name": "stdout",
     "output_type": "stream",
     "text": [
      "names heroes dictionary\n",
      "{'Bruce': 'Batman', 'Logan': 'Wolverine', 'Peter': 'Spiderman', 'Clark': 'Superman', 'David': 'Hulk'}\n"
     ]
    }
   ],
   "source": [
    "a_dictionary = {}\n",
    "for name, hero, in zip(names, heroes):\n",
    "    a_dictionary[name] = hero\n",
    "print \"names heroes dictionary\"\n",
    "print a_dictionary"
   ]
  },
  {
   "cell_type": "markdown",
   "metadata": {},
   "source": [
    "Dictionary Comp notice the `{}`! this is different from list comp with lists with `[]`<br/>\n",
    "* in the first part notice `*`**:**`*`  `{name : hero`\n",
    "* `zip(key1, key2)}`"
   ]
  },
  {
   "cell_type": "code",
   "execution_count": 17,
   "metadata": {
    "collapsed": false
   },
   "outputs": [
    {
     "name": "stdout",
     "output_type": "stream",
     "text": [
      "{'Bruce': 'Batman', 'Logan': 'Wolverine', 'Peter': 'Spiderman', 'Clark': 'Superman', 'David': 'Hulk'}\n"
     ]
    }
   ],
   "source": [
    "a_dictionary = {name: hero for name, hero in zip(names, heroes)}\n",
    "print a_dictionary"
   ]
  },
  {
   "cell_type": "markdown",
   "metadata": {},
   "source": [
    "can add an `if` statement to filter <br/>\n",
    "here returned the age of Bruce"
   ]
  },
  {
   "cell_type": "code",
   "execution_count": 18,
   "metadata": {
    "collapsed": false
   },
   "outputs": [
    {
     "name": "stdout",
     "output_type": "stream",
     "text": [
      "{'Bruce': 55}\n"
     ]
    }
   ],
   "source": [
    "bruce_age = {name : age for name, age in zip(names, ages) if name == 'Bruce'}\n",
    "print bruce_age"
   ]
  },
  {
   "cell_type": "markdown",
   "metadata": {},
   "source": [
    "the same thing again but with *Superhero Names* and *ages* <br/>\n",
    "notice the two different to combine text and what values you are printing <br/>\n",
    "* `{} with some text\" then .format(funcName)` is for printing the function *within* some text \n",
    "* `some tex\" then ,comma funcName` is for printing the function *after* some text. \n",
    "        * {} . format will always work"
   ]
  },
  {
   "cell_type": "code",
   "execution_count": 19,
   "metadata": {
    "collapsed": false
   },
   "outputs": [
    {
     "name": "stdout",
     "output_type": "stream",
     "text": [
      "superhero ages: {'Bruce': 55, 'Logan': 1000, 'Peter': 22, 'Clark': 200, 'David': 40}\n",
      "superhero ages: {'Bruce': 55, 'Logan': 1000, 'Peter': 22, 'Clark': 200, 'David': 40}\n"
     ]
    }
   ],
   "source": [
    "a_dicComp_age = {name : age for name, age in zip(names, ages)}\n",
    "print \"superhero ages: {}\".format(a_dicComp_age)\n",
    "print \"superhero ages:\", a_dicComp_age "
   ]
  },
  {
   "cell_type": "markdown",
   "metadata": {},
   "source": [
    "### Dictionary"
   ]
  },
  {
   "cell_type": "code",
   "execution_count": 20,
   "metadata": {
    "collapsed": false
   },
   "outputs": [
    {
     "ename": "ValueError",
     "evalue": "dictionary update sequence element #0 has length 3; 2 is required",
     "output_type": "error",
     "traceback": [
      "\u001b[0;31m\u001b[0m",
      "\u001b[0;31mValueError\u001b[0mTraceback (most recent call last)",
      "\u001b[0;32m<ipython-input-20-1a940b4b7a45>\u001b[0m in \u001b[0;36m<module>\u001b[0;34m()\u001b[0m\n\u001b[1;32m      1\u001b[0m \u001b[1;31m# pd.DataFrame(dictionary, index = range(5))\u001b[0m\u001b[1;33m\u001b[0m\u001b[1;33m\u001b[0m\u001b[0m\n\u001b[0;32m----> 2\u001b[0;31m \u001b[0ma_dictionary\u001b[0m \u001b[1;33m=\u001b[0m \u001b[0mdict\u001b[0m\u001b[1;33m(\u001b[0m\u001b[0mzip\u001b[0m\u001b[1;33m(\u001b[0m\u001b[0mnames\u001b[0m\u001b[1;33m,\u001b[0m \u001b[0mheroes\u001b[0m\u001b[1;33m,\u001b[0m \u001b[0mages\u001b[0m\u001b[1;33m)\u001b[0m\u001b[1;33m)\u001b[0m\u001b[1;33m\u001b[0m\u001b[0m\n\u001b[0m\u001b[1;32m      3\u001b[0m \u001b[1;32mprint\u001b[0m \u001b[0ma_dictionary\u001b[0m\u001b[1;33m\u001b[0m\u001b[0m\n",
      "\u001b[0;31mValueError\u001b[0m: dictionary update sequence element #0 has length 3; 2 is required"
     ]
    }
   ],
   "source": [
    "# pd.DataFrame(dictionary, index = range(5))\n",
    "a_dictionary = dict(zip(names, heroes, ages))\n",
    "print a_dictionary"
   ]
  },
  {
   "cell_type": "code",
   "execution_count": 31,
   "metadata": {
    "collapsed": false
   },
   "outputs": [],
   "source": [
    "columnA = [\"nameA\", \"nameB\", \"nameC\", \"nameD\", \"nameE\"]\n",
    "columnB = [\"lastA\", \"lastB\", \"lastC\", \"lastD\", \"lastE\"]\n",
    "columnC = [\"middleA\", \"middleB\", \"middleC\", \"middleD\", \"middleE\"]\n",
    "# but zip works here with a list of strings\n",
    "\n",
    "#my_dictionary = {columnA : columnB for columnA, columnB in zip(columnA, columnB)}\n",
    "# zip(seq1 [, seq2 [...]]) -> [(seq1[0], seq2[0] ...), (...)]\n",
    "# my_dictionary2 = dict(zip(c"
   ]
  },
  {
   "cell_type": "code",
   "execution_count": 32,
   "metadata": {
    "collapsed": true
   },
   "outputs": [],
   "source": [
    "columns = [columnA, columnB, columnC]"
   ]
  },
  {
   "cell_type": "code",
   "execution_count": 37,
   "metadata": {
    "collapsed": false
   },
   "outputs": [
    {
     "name": "stdout",
     "output_type": "stream",
     "text": [
      "[['nameA', 'nameB', 'nameC', 'nameD', 'nameE']]\n"
     ]
    }
   ],
   "source": [
    "query = filter(lambda x: 'name' in x[0], columns)\n",
    "print query"
   ]
  },
  {
   "cell_type": "code",
   "execution_count": null,
   "metadata": {
    "collapsed": false
   },
   "outputs": [],
   "source": [
    "import pandas as pd\n",
    "df = pd.DataFrame(a_dictionary)\n",
    "# how do I turn a dictionary into a Data Frame??\n",
    "# df = pd.DataFrame( objects ) "
   ]
  },
  {
   "cell_type": "markdown",
   "metadata": {},
   "source": [
    "## Enumerate "
   ]
  },
  {
   "cell_type": "code",
   "execution_count": null,
   "metadata": {
    "collapsed": false
   },
   "outputs": [],
   "source": [
    "for i, name in enumerate(names):\n",
    "    print(i, name)"
   ]
  },
  {
   "cell_type": "markdown",
   "metadata": {},
   "source": [
    "### More doing things to numbers"
   ]
  },
  {
   "cell_type": "code",
   "execution_count": null,
   "metadata": {
    "collapsed": true
   },
   "outputs": [],
   "source": [
    "my_List = range(0,101)"
   ]
  },
  {
   "cell_type": "code",
   "execution_count": null,
   "metadata": {
    "collapsed": false
   },
   "outputs": [],
   "source": [
    "print my_List"
   ]
  },
  {
   "cell_type": "markdown",
   "metadata": {},
   "source": [
    "range works like `(start, end(n-1), step)` go from start to end by how many"
   ]
  },
  {
   "cell_type": "code",
   "execution_count": null,
   "metadata": {
    "collapsed": false
   },
   "outputs": [],
   "source": [
    "my_List_by2 = range(0,101, 2)\n",
    "print my_List_by2\n",
    "# if someone asks to return a list of even values from 0 to 100 - this does it!"
   ]
  },
  {
   "cell_type": "markdown",
   "metadata": {},
   "source": [
    "but for random numbers though..."
   ]
  },
  {
   "cell_type": "markdown",
   "metadata": {},
   "source": [
    "`random.randint()`"
   ]
  },
  {
   "cell_type": "code",
   "execution_count": null,
   "metadata": {
    "collapsed": false
   },
   "outputs": [],
   "source": [
    "random_Nums = np.random.randint(0, 101, 50)\n",
    "print random_Nums"
   ]
  },
  {
   "cell_type": "markdown",
   "metadata": {},
   "source": [
    "make functions to use again - to do do one list or to another list - to do the same action"
   ]
  },
  {
   "cell_type": "code",
   "execution_count": null,
   "metadata": {
    "collapsed": false
   },
   "outputs": [],
   "source": [
    "def timesIT (parameter, List):\n",
    "    return [parameter * num for num in List]\n",
    "print timesIT(.5, my_List)"
   ]
  },
  {
   "cell_type": "code",
   "execution_count": null,
   "metadata": {
    "collapsed": false
   },
   "outputs": [],
   "source": [
    "print timesIT(.5, my_List_by2)"
   ]
  },
  {
   "cell_type": "code",
   "execution_count": null,
   "metadata": {
    "collapsed": false
   },
   "outputs": [],
   "source": [
    "print timesIT(.5, random_Nums)"
   ]
  },
  {
   "cell_type": "code",
   "execution_count": null,
   "metadata": {
    "collapsed": false
   },
   "outputs": [],
   "source": [
    "print timesIT(.2, my_List)"
   ]
  },
  {
   "cell_type": "code",
   "execution_count": null,
   "metadata": {
    "collapsed": false
   },
   "outputs": [],
   "source": [
    "print timesIT(1000, random_Nums)"
   ]
  },
  {
   "cell_type": "markdown",
   "metadata": {},
   "source": [
    "Function - multiply all the numbers in your list by a parameter then filter by another parameter <br/>\n"
   ]
  },
  {
   "cell_type": "code",
   "execution_count": null,
   "metadata": {
    "collapsed": false
   },
   "outputs": [],
   "source": [
    "def filtertimesIT(List, m, b):\n",
    "    filterIT = [num for num in List if num > b]\n",
    "    times = [m * num for num in filterIT]\n",
    "    return times\n",
    "print filtertimesIT(my_List, 2, 20)"
   ]
  },
  {
   "cell_type": "code",
   "execution_count": null,
   "metadata": {
    "collapsed": true
   },
   "outputs": [],
   "source": []
  }
 ],
 "metadata": {
  "anaconda-cloud": {},
  "kernelspec": {
   "display_name": "Python [conda root]",
   "language": "python",
   "name": "conda-root-py"
  },
  "language_info": {
   "codemirror_mode": {
    "name": "ipython",
    "version": 2
   },
   "file_extension": ".py",
   "mimetype": "text/x-python",
   "name": "python",
   "nbconvert_exporter": "python",
   "pygments_lexer": "ipython2",
   "version": "2.7.12"
  }
 },
 "nbformat": 4,
 "nbformat_minor": 1
}
