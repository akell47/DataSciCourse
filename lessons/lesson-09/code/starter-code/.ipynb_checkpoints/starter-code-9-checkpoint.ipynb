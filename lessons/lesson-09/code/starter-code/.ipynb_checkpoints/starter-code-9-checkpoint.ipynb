{
 "cells": [
  {
   "cell_type": "markdown",
   "metadata": {},
   "source": [
    "### Guided Practice: Logit Function and Odds"
   ]
  },
  {
   "cell_type": "code",
   "execution_count": 1,
   "metadata": {
    "collapsed": true
   },
   "outputs": [],
   "source": [
    "import numpy as np"
   ]
  },
  {
   "cell_type": "code",
   "execution_count": 2,
   "metadata": {
    "collapsed": true
   },
   "outputs": [],
   "source": [
    "odds_set = [\n",
    "    5./1,\n",
    "    20./1,\n",
    "    1.1/1,\n",
    "    1.8/1,\n",
    "    1.6/1\n",
    "]"
   ]
  },
  {
   "cell_type": "code",
   "execution_count": 8,
   "metadata": {
    "collapsed": false
   },
   "outputs": [
    {
     "data": {
      "text/plain": [
       "array([ 1.60943791,  2.99573227,  0.09531018,  0.58778666,  0.47000363])"
      ]
     },
     "execution_count": 8,
     "metadata": {},
     "output_type": "execute_result"
    }
   ],
   "source": [
    "def logit_func(odds):\n",
    "    # uses a float (odds) and returns back the log odds (logit)\n",
    "    return np.log(odds)\n",
    "\n",
    "logit_func(odds_set)"
   ]
  },
  {
   "cell_type": "markdown",
   "metadata": {},
   "source": []
  },
  {
   "cell_type": "code",
   "execution_count": 11,
   "metadata": {
    "collapsed": false
   },
   "outputs": [
    {
     "name": "stdout",
     "output_type": "stream",
     "text": [
      "0.833333333333\n",
      "0.952380952381\n",
      "0.52380952381\n",
      "0.642857142857\n",
      "0.615384615385\n"
     ]
    }
   ],
   "source": [
    "def sigmoid_func(logit):\n",
    "    # uses a float (logit) and returns back the probability\n",
    "#     same as model.predict(x)\n",
    "    return 1. / (1 + np.exp(-logit))\n",
    "\n",
    "for odds in odds_set:\n",
    "    log_odds = logit_func(odds)\n",
    "    print sigmoid_func(log_odds)"
   ]
  },
  {
   "cell_type": "code",
   "execution_count": null,
   "metadata": {
    "collapsed": true
   },
   "outputs": [],
   "source": []
  },
  {
   "cell_type": "code",
   "execution_count": 13,
   "metadata": {
    "collapsed": true
   },
   "outputs": [],
   "source": [
    "import pandas as pd\n",
    "from sklearn.linear_model import LogisticRegression"
   ]
  },
  {
   "cell_type": "code",
<<<<<<< Updated upstream
   "execution_count": 15,
   "metadata": {
    "collapsed": false
   },
   "outputs": [],
=======
   "execution_count": 1,
   "metadata": {
    "collapsed": false
   },
   "outputs": [
    {
     "ename": "NameError",
     "evalue": "name 'LogisticRegression' is not defined",
     "output_type": "error",
     "traceback": [
      "\u001b[0;31m\u001b[0m",
      "\u001b[0;31mNameError\u001b[0mTraceback (most recent call last)",
      "\u001b[0;32m<ipython-input-1-9bb1d6a81ee4>\u001b[0m in \u001b[0;36m<module>\u001b[0;34m()\u001b[0m\n\u001b[0;32m----> 1\u001b[0;31m \u001b[0mlm\u001b[0m \u001b[1;33m=\u001b[0m \u001b[0mLogisticRegression\u001b[0m\u001b[1;33m(\u001b[0m\u001b[1;33m)\u001b[0m\u001b[1;33m\u001b[0m\u001b[0m\n\u001b[0m\u001b[1;32m      2\u001b[0m \u001b[1;33m\u001b[0m\u001b[0m\n\u001b[1;32m      3\u001b[0m \u001b[0mdf\u001b[0m \u001b[1;33m=\u001b[0m \u001b[0mpd\u001b[0m\u001b[1;33m.\u001b[0m\u001b[0mread_csv\u001b[0m\u001b[1;33m(\u001b[0m\u001b[1;34m'../../assets/dataset/collegeadmissions.csv'\u001b[0m\u001b[1;33m)\u001b[0m\u001b[1;33m\u001b[0m\u001b[0m\n",
      "\u001b[0;31mNameError\u001b[0m: name 'LogisticRegression' is not defined"
     ]
    }
   ],
>>>>>>> Stashed changes
   "source": [
    "lm = LogisticRegression()\n",
    "\n",
    "df = pd.read_csv('../../assets/dataset/collegeadmissions.csv')"
   ]
  },
  {
   "cell_type": "code",
   "execution_count": 16,
   "metadata": {
    "collapsed": false
   },
   "outputs": [
    {
     "data": {
      "text/html": [
       "<div>\n",
       "<table border=\"1\" class=\"dataframe\">\n",
       "  <thead>\n",
       "    <tr style=\"text-align: right;\">\n",
       "      <th></th>\n",
       "      <th>admit</th>\n",
       "      <th>gre</th>\n",
       "      <th>gpa</th>\n",
       "      <th>rank</th>\n",
       "    </tr>\n",
       "  </thead>\n",
       "  <tbody>\n",
       "    <tr>\n",
       "      <th>0</th>\n",
       "      <td>0</td>\n",
       "      <td>380</td>\n",
       "      <td>3.61</td>\n",
       "      <td>3</td>\n",
       "    </tr>\n",
       "    <tr>\n",
       "      <th>1</th>\n",
       "      <td>1</td>\n",
       "      <td>660</td>\n",
       "      <td>3.67</td>\n",
       "      <td>3</td>\n",
       "    </tr>\n",
       "    <tr>\n",
       "      <th>2</th>\n",
       "      <td>1</td>\n",
       "      <td>800</td>\n",
       "      <td>4.00</td>\n",
       "      <td>1</td>\n",
       "    </tr>\n",
       "    <tr>\n",
       "      <th>3</th>\n",
       "      <td>1</td>\n",
       "      <td>640</td>\n",
       "      <td>3.19</td>\n",
       "      <td>4</td>\n",
       "    </tr>\n",
       "    <tr>\n",
       "      <th>4</th>\n",
       "      <td>0</td>\n",
       "      <td>520</td>\n",
       "      <td>2.93</td>\n",
       "      <td>4</td>\n",
       "    </tr>\n",
       "  </tbody>\n",
       "</table>\n",
       "</div>"
      ],
      "text/plain": [
       "   admit  gre   gpa  rank\n",
       "0      0  380  3.61     3\n",
       "1      1  660  3.67     3\n",
       "2      1  800  4.00     1\n",
       "3      1  640  3.19     4\n",
       "4      0  520  2.93     4"
      ]
     },
     "execution_count": 16,
     "metadata": {},
     "output_type": "execute_result"
    }
   ],
   "source": [
    "df.head()"
   ]
  },
  {
   "cell_type": "code",
   "execution_count": 17,
   "metadata": {
    "collapsed": false
   },
   "outputs": [],
   "source": [
    "df = df.join(pd.get_dummies(df['rank']))"
   ]
  },
  {
   "cell_type": "code",
   "execution_count": 18,
   "metadata": {
    "collapsed": false
   },
   "outputs": [
    {
     "data": {
      "text/html": [
       "<div>\n",
       "<table border=\"1\" class=\"dataframe\">\n",
       "  <thead>\n",
       "    <tr style=\"text-align: right;\">\n",
       "      <th></th>\n",
       "      <th>admit</th>\n",
       "      <th>gre</th>\n",
       "      <th>gpa</th>\n",
       "      <th>rank</th>\n",
       "      <th>1</th>\n",
       "      <th>2</th>\n",
       "      <th>3</th>\n",
       "      <th>4</th>\n",
       "    </tr>\n",
       "  </thead>\n",
       "  <tbody>\n",
       "    <tr>\n",
       "      <th>0</th>\n",
       "      <td>0</td>\n",
       "      <td>380</td>\n",
       "      <td>3.61</td>\n",
       "      <td>3</td>\n",
       "      <td>0.0</td>\n",
       "      <td>0.0</td>\n",
       "      <td>1.0</td>\n",
       "      <td>0.0</td>\n",
       "    </tr>\n",
       "    <tr>\n",
       "      <th>1</th>\n",
       "      <td>1</td>\n",
       "      <td>660</td>\n",
       "      <td>3.67</td>\n",
       "      <td>3</td>\n",
       "      <td>0.0</td>\n",
       "      <td>0.0</td>\n",
       "      <td>1.0</td>\n",
       "      <td>0.0</td>\n",
       "    </tr>\n",
       "    <tr>\n",
       "      <th>2</th>\n",
       "      <td>1</td>\n",
       "      <td>800</td>\n",
       "      <td>4.00</td>\n",
       "      <td>1</td>\n",
       "      <td>1.0</td>\n",
       "      <td>0.0</td>\n",
       "      <td>0.0</td>\n",
       "      <td>0.0</td>\n",
       "    </tr>\n",
       "    <tr>\n",
       "      <th>3</th>\n",
       "      <td>1</td>\n",
       "      <td>640</td>\n",
       "      <td>3.19</td>\n",
       "      <td>4</td>\n",
       "      <td>0.0</td>\n",
       "      <td>0.0</td>\n",
       "      <td>0.0</td>\n",
       "      <td>1.0</td>\n",
       "    </tr>\n",
       "    <tr>\n",
       "      <th>4</th>\n",
       "      <td>0</td>\n",
       "      <td>520</td>\n",
       "      <td>2.93</td>\n",
       "      <td>4</td>\n",
       "      <td>0.0</td>\n",
       "      <td>0.0</td>\n",
       "      <td>0.0</td>\n",
       "      <td>1.0</td>\n",
       "    </tr>\n",
       "  </tbody>\n",
       "</table>\n",
       "</div>"
      ],
      "text/plain": [
       "   admit  gre   gpa  rank    1    2    3    4\n",
       "0      0  380  3.61     3  0.0  0.0  1.0  0.0\n",
       "1      1  660  3.67     3  0.0  0.0  1.0  0.0\n",
       "2      1  800  4.00     1  1.0  0.0  0.0  0.0\n",
       "3      1  640  3.19     4  0.0  0.0  0.0  1.0\n",
       "4      0  520  2.93     4  0.0  0.0  0.0  1.0"
      ]
     },
     "execution_count": 18,
     "metadata": {},
     "output_type": "execute_result"
    }
   ],
   "source": [
    "df.head()"
   ]
  },
  {
   "cell_type": "code",
   "execution_count": 37,
   "metadata": {
    "collapsed": false
   },
   "outputs": [
    {
     "data": {
      "text/plain": [
       "LogisticRegression(C=1.0, class_weight=None, dual=False, fit_intercept=True,\n",
       "          intercept_scaling=1, max_iter=100, multi_class='ovr', n_jobs=1,\n",
       "          penalty='l2', random_state=None, solver='liblinear', tol=0.0001,\n",
       "          verbose=0, warm_start=False)"
      ]
     },
     "execution_count": 37,
     "metadata": {},
     "output_type": "execute_result"
    }
   ],
   "source": [
    "lm.fit(df[['gre', 'gpa', 1, 2, 3,]], df['admit'])\n",
    "# all the data"
   ]
  },
  {
   "cell_type": "code",
   "execution_count": 29,
   "metadata": {
    "collapsed": false
   },
   "outputs": [
    {
     "name": "stdout",
     "output_type": "stream",
     "text": [
      "[[  1.63913356e-03   4.33355414e-04   1.15220976e+00   5.14395668e-01\n",
      "   -3.62326166e-02]]\n",
      "[-2.09315184]\n",
      "0.3175\n"
     ]
    }
   ],
   "source": [
    "print lm.coef_\n",
    "print lm.intercept_\n",
    "print df.admit.mean()"
   ]
  },
  {
   "cell_type": "markdown",
   "metadata": {},
   "source": [
    "Below is some code to walk through confusion matrices. It'll be useful for working through the Titanic problem."
   ]
  },
  {
   "cell_type": "code",
<<<<<<< Updated upstream
   "execution_count": 63,
   "metadata": {
    "collapsed": true
=======
   "execution_count": 52,
   "metadata": {
    "collapsed": false
>>>>>>> Stashed changes
   },
   "outputs": [],
   "source": [
    "%matplotlib inline\n",
    "import matplotlib.pyplot as plt\n",
<<<<<<< Updated upstream
    "from sklearn.metrics import roc_curve, roc_auc_score,"
=======
    "from sklearn.metrics import roc_curve, roc_auc_score"
>>>>>>> Stashed changes
   ]
  },
  {
   "cell_type": "markdown",
   "metadata": {},
   "source": [
    "Below the ROC curve is based on various thresholds: it shows with a false positive rate (x-axis) ~0, it also expects a true positive rate (y-axis) ~0 (the same, ish, for the top right hand of the figure).\n",
    "\n",
    "The second chart, which does not play with thesholds, shows the one true TPR and FPR point, joined to 0,0 and 1,1.\n",
    "\n",
    "The first chart will be more effective as you compare models and determine where the decision line should exist for the data. The second simplifies the first in case this idea of thresholds is confusing."
   ]
  },
  {
   "cell_type": "code",
<<<<<<< Updated upstream
   "execution_count": 26,
=======
   "execution_count": 99,
>>>>>>> Stashed changes
   "metadata": {
    "collapsed": false
   },
   "outputs": [],
   "source": [
    "import sklearn.cross_validation\n",
    "from sklearn.cross_validation import train_test_split"
   ]
  },
  {
   "cell_type": "code",
<<<<<<< Updated upstream
   "execution_count": 35,
=======
   "execution_count": 115,
>>>>>>> Stashed changes
   "metadata": {
    "collapsed": false
   },
   "outputs": [
    {
     "data": {
      "text/plain": [
<<<<<<< Updated upstream
       "list"
      ]
     },
     "execution_count": 35,
=======
       "admit    400\n",
       "gre      400\n",
       "gpa      400\n",
       "rank     400\n",
       "1        400\n",
       "2        400\n",
       "3        400\n",
       "4        400\n",
       "dtype: int64"
      ]
     },
     "execution_count": 115,
>>>>>>> Stashed changes
     "metadata": {},
     "output_type": "execute_result"
    }
   ],
   "source": [
<<<<<<< Updated upstream
    "dfTest = train_test_split(df)\n",
    "type(dfTest)"
   ]
  },
  {
   "cell_type": "markdown",
   "metadata": {},
   "source": []
  },
  {
   "cell_type": "code",
   "execution_count": 75,
=======
    "df.count()"
   ]
  },
  {
   "cell_type": "code",
   "execution_count": 114,
   "metadata": {
    "collapsed": false
   },
   "outputs": [],
   "source": [
    "df.dropna(inplace = True)"
   ]
  },
  {
   "cell_type": "code",
   "execution_count": 100,
>>>>>>> Stashed changes
   "metadata": {
    "collapsed": false
   },
   "outputs": [
    {
     "data": {
<<<<<<< Updated upstream
      "text/plain": [
       "[<matplotlib.lines.Line2D at 0x10996c310>]"
      ]
     },
     "execution_count": 75,
     "metadata": {},
     "output_type": "execute_result"
    },
    {
     "data": {
      "image/png": "iVBORw0KGgoAAAANSUhEUgAAAXcAAAEACAYAAABI5zaHAAAABHNCSVQICAgIfAhkiAAAAAlwSFlz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\n",
      "text/plain": [
       "<matplotlib.figure.Figure at 0x10c1fe850>"
      ]
     },
     "metadata": {},
     "output_type": "display_data"
    }
   ],
   "source": [
    "actuals = lm.predict(feature_set) \n",
    "probas = lm.predict_proba(feature_set)\n",
    "plt.plot(roc_curve(df[['admit']], probas[:,1])[0], roc_curve(df[['admit']], probas[:,1])[1])"
=======
      "text/html": [
       "<div>\n",
       "<table border=\"1\" class=\"dataframe\">\n",
       "  <thead>\n",
       "    <tr style=\"text-align: right;\">\n",
       "      <th></th>\n",
       "      <th>admit</th>\n",
       "      <th>gre</th>\n",
       "      <th>gpa</th>\n",
       "      <th>rank</th>\n",
       "      <th>1</th>\n",
       "      <th>2</th>\n",
       "      <th>3</th>\n",
       "      <th>4</th>\n",
       "    </tr>\n",
       "  </thead>\n",
       "  <tbody>\n",
       "    <tr>\n",
       "      <th>0</th>\n",
       "      <td>0</td>\n",
       "      <td>380</td>\n",
       "      <td>3.61</td>\n",
       "      <td>3</td>\n",
       "      <td>0.0</td>\n",
       "      <td>0.0</td>\n",
       "      <td>1.0</td>\n",
       "      <td>0.0</td>\n",
       "    </tr>\n",
       "    <tr>\n",
       "      <th>1</th>\n",
       "      <td>1</td>\n",
       "      <td>660</td>\n",
       "      <td>3.67</td>\n",
       "      <td>3</td>\n",
       "      <td>0.0</td>\n",
       "      <td>0.0</td>\n",
       "      <td>1.0</td>\n",
       "      <td>0.0</td>\n",
       "    </tr>\n",
       "    <tr>\n",
       "      <th>2</th>\n",
       "      <td>1</td>\n",
       "      <td>800</td>\n",
       "      <td>4.00</td>\n",
       "      <td>1</td>\n",
       "      <td>1.0</td>\n",
       "      <td>0.0</td>\n",
       "      <td>0.0</td>\n",
       "      <td>0.0</td>\n",
       "    </tr>\n",
       "    <tr>\n",
       "      <th>3</th>\n",
       "      <td>1</td>\n",
       "      <td>640</td>\n",
       "      <td>3.19</td>\n",
       "      <td>4</td>\n",
       "      <td>0.0</td>\n",
       "      <td>0.0</td>\n",
       "      <td>0.0</td>\n",
       "      <td>1.0</td>\n",
       "    </tr>\n",
       "    <tr>\n",
       "      <th>4</th>\n",
       "      <td>0</td>\n",
       "      <td>520</td>\n",
       "      <td>2.93</td>\n",
       "      <td>4</td>\n",
       "      <td>0.0</td>\n",
       "      <td>0.0</td>\n",
       "      <td>0.0</td>\n",
       "      <td>1.0</td>\n",
       "    </tr>\n",
       "  </tbody>\n",
       "</table>\n",
       "</div>"
      ],
      "text/plain": [
       "   admit  gre   gpa  rank    1    2    3    4\n",
       "0      0  380  3.61     3  0.0  0.0  1.0  0.0\n",
       "1      1  660  3.67     3  0.0  0.0  1.0  0.0\n",
       "2      1  800  4.00     1  1.0  0.0  0.0  0.0\n",
       "3      1  640  3.19     4  0.0  0.0  0.0  1.0\n",
       "4      0  520  2.93     4  0.0  0.0  0.0  1.0"
      ]
     },
     "execution_count": 100,
     "metadata": {},
     "output_type": "execute_result"
    }
   ],
   "source": [
    "df.head()"
   ]
  },
  {
   "cell_type": "code",
   "execution_count": 101,
   "metadata": {
    "collapsed": false
   },
   "outputs": [],
   "source": [
    "keepColumns = ['gre', 'gpa', 2, 3, 4]"
   ]
  },
  {
   "cell_type": "code",
   "execution_count": 102,
   "metadata": {
    "collapsed": true
   },
   "outputs": [],
   "source": [
    "X = df[keepColumns]\n",
    "y = df.admit\n",
    "# Y is actual\n",
    "\n",
    "X_train, X_test, Y_train, Y_test = train_test_split(X, Y, test_size = 0.3, random_state = 42)"
   ]
  },
  {
   "cell_type": "code",
   "execution_count": 103,
   "metadata": {
    "collapsed": false
   },
   "outputs": [
    {
     "data": {
      "text/plain": [
       "pandas.core.frame.DataFrame"
      ]
     },
     "execution_count": 103,
     "metadata": {},
     "output_type": "execute_result"
    }
   ],
   "source": [
    "type(X_train)"
   ]
  },
  {
   "cell_type": "code",
   "execution_count": 104,
   "metadata": {
    "collapsed": false
   },
   "outputs": [
    {
     "data": {
      "text/plain": [
       "LogisticRegression(C=1.0, class_weight=None, dual=False, fit_intercept=True,\n",
       "          intercept_scaling=1, max_iter=100, multi_class='ovr', n_jobs=1,\n",
       "          penalty='l2', random_state=None, solver='liblinear', tol=0.0001,\n",
       "          verbose=0, warm_start=False)"
      ]
     },
     "execution_count": 104,
     "metadata": {},
     "output_type": "execute_result"
    }
   ],
   "source": [
    "lm.fit(X_train, y_train)"
   ]
  },
  {
   "cell_type": "code",
   "execution_count": 105,
   "metadata": {
    "collapsed": false
   },
   "outputs": [
    {
     "name": "stdout",
     "output_type": "stream",
     "text": [
      "[[  8.83365826e-04   2.72839403e-01  -2.83183206e-01  -1.15040823e+00\n",
      "   -1.05589564e+00]]\n",
      "[-1.61633704]\n",
      "0.3175\n"
     ]
    }
   ],
   "source": [
    "print lm.coef_\n",
    "print lm.intercept_\n",
    "print df.admit.mean()"
   ]
  },
  {
   "cell_type": "code",
   "execution_count": 106,
   "metadata": {
    "collapsed": false
   },
   "outputs": [
    {
     "data": {
      "text/plain": [
       "array([0, 0, 0, 0, 0, 0, 0, 0, 0, 0, 0, 0, 0, 0, 0, 0, 0, 0, 0, 0, 0, 0, 0,\n",
       "       0, 0, 0, 0, 0, 0, 0, 0, 0, 0, 0, 0, 0, 0, 0, 0, 0, 0, 0, 0, 1, 0, 0,\n",
       "       0, 0, 0, 0, 0, 0, 0, 0, 0, 0, 0, 0, 0, 0, 0, 0, 0, 0, 0, 0, 0, 0, 0,\n",
       "       0, 0, 0, 0, 0, 0, 0, 0, 0, 0, 0, 0, 0, 1, 0, 0, 0, 0, 0, 0, 0, 0, 0,\n",
       "       1, 0, 0, 0, 0, 0, 0, 0, 0, 0, 0, 0, 0, 0, 0, 0, 0, 0, 0, 0, 0, 0, 0,\n",
       "       0, 1, 0, 0, 0], dtype=int64)"
      ]
     },
     "execution_count": 106,
     "metadata": {},
     "output_type": "execute_result"
    }
   ],
   "source": [
    "actuals = lm.predict(X_test) \n",
    "actuals"
   ]
  },
  {
   "cell_type": "code",
   "execution_count": 107,
   "metadata": {
    "collapsed": false
   },
   "outputs": [
    {
     "data": {
      "text/plain": [
       "array([ 0.39359392,  0.43991388,  0.27514069,  0.24838237,  0.35715159,\n",
       "        0.20704333,  0.19292263,  0.40662595,  0.21525285,  0.46991985,\n",
       "        0.44728817,  0.4533585 ,  0.19754606,  0.21027119,  0.3871011 ,\n",
       "        0.37518025,  0.22217681,  0.41061432,  0.20721215,  0.39619413,\n",
       "        0.27514069,  0.19715648,  0.43588445,  0.20082075,  0.19060004,\n",
       "        0.19113862,  0.25293521,  0.2358111 ,  0.19200455,  0.44058624,\n",
       "        0.43524674,  0.20471851,  0.34267521,  0.16397858,  0.34487499,\n",
       "        0.3613422 ,  0.4482424 ,  0.2399718 ,  0.40992165,  0.25096318,\n",
       "        0.38454685,  0.26469699,  0.20500198,  0.52222231,  0.32773604,\n",
       "        0.38583912,  0.40170672,  0.23650578,  0.20216686,  0.43610416,\n",
       "        0.39099214,  0.3736928 ,  0.43383202,  0.24786464,  0.40769498,\n",
       "        0.1713364 ,  0.2472562 ,  0.22853968,  0.23796259,  0.43556557,\n",
       "        0.25500298,  0.37834449,  0.21629675,  0.42847874,  0.21748956,\n",
       "        0.23480501,  0.19731924,  0.41221719,  0.21895479,  0.42658197,\n",
       "        0.18187712,  0.43489492,  0.39899748,  0.19480255,  0.38479017,\n",
       "        0.40430774,  0.20241956,  0.46717669,  0.32622019,  0.15648705,\n",
       "        0.22504216,  0.45768153,  0.52332721,  0.23395488,  0.35688474,\n",
       "        0.24682374,  0.23632739,  0.23120813,  0.16603685,  0.44122566,\n",
       "        0.15879111,  0.48589973,  0.52494463,  0.19864026,  0.23366597,\n",
       "        0.22249407,  0.46277365,  0.42915481,  0.23021577,  0.26127268,\n",
       "        0.3439054 ,  0.22597172,  0.28346898,  0.26291676,  0.21242514,\n",
       "        0.33052123,  0.47507035,  0.25787713,  0.45554264,  0.36025878,\n",
       "        0.36055775,  0.38451502,  0.42816896,  0.45198109,  0.34173882,\n",
       "        0.38125987,  0.5056766 ,  0.22459011,  0.22866651,  0.17414244])"
      ]
     },
     "execution_count": 107,
     "metadata": {},
     "output_type": "execute_result"
    }
   ],
   "source": [
    "probas = lm.predict_proba(X_test)\n",
    "probas[:,1]\n",
    "# [:,1] positive probs = 1\n",
    "# first element probability of predicting 0 second elements "
   ]
  },
  {
   "cell_type": "code",
   "execution_count": 108,
   "metadata": {
    "collapsed": false
   },
   "outputs": [
    {
     "data": {
      "text/plain": [
       "array([ 0.        ,  0.        ,  0.01234568,  0.01234568,  0.02469136,\n",
       "        0.02469136,  0.0617284 ,  0.0617284 ,  0.07407407,  0.07407407,\n",
       "        0.16049383,  0.16049383,  0.19753086,  0.19753086,  0.20987654,\n",
       "        0.20987654,  0.2345679 ,  0.2345679 ,  0.27160494,  0.27160494,\n",
       "        0.28395062,  0.28395062,  0.2962963 ,  0.2962963 ,  0.30864198,\n",
       "        0.30864198,  0.45679012,  0.45679012,  0.45679012,  0.51851852,\n",
       "        0.51851852,  0.55555556,  0.55555556,  0.60493827,  0.60493827,\n",
       "        0.64197531,  0.64197531,  0.69135802,  0.69135802,  0.71604938,\n",
       "        0.71604938,  0.79012346,  0.79012346,  0.87654321,  0.87654321,\n",
       "        0.88888889,  0.88888889,  0.90123457,  0.90123457,  0.95061728,\n",
       "        0.95061728,  1.        ])"
      ]
     },
     "execution_count": 108,
     "metadata": {},
     "output_type": "execute_result"
    }
   ],
   "source": [
    "roc_curve(y_test, probas[:,1])[0]\n",
    "# false positive rate"
>>>>>>> Stashed changes
   ]
  },
  {
   "cell_type": "code",
<<<<<<< Updated upstream
   "execution_count": 71,
=======
   "execution_count": 109,
>>>>>>> Stashed changes
   "metadata": {
    "collapsed": false
   },
   "outputs": [
    {
     "data": {
      "text/plain": [
<<<<<<< Updated upstream
       "[<matplotlib.lines.Line2D at 0x10c1fe7d0>]"
      ]
     },
     "execution_count": 71,
=======
       "array([ 0.02564103,  0.17948718,  0.17948718,  0.20512821,  0.20512821,\n",
       "        0.28205128,  0.28205128,  0.30769231,  0.30769231,  0.38461538,\n",
       "        0.38461538,  0.41025641,  0.41025641,  0.43589744,  0.43589744,\n",
       "        0.48717949,  0.48717949,  0.51282051,  0.51282051,  0.53846154,\n",
       "        0.53846154,  0.56410256,  0.56410256,  0.58974359,  0.58974359,\n",
       "        0.61538462,  0.61538462,  0.66666667,  0.69230769,  0.69230769,\n",
       "        0.71794872,  0.71794872,  0.74358974,  0.74358974,  0.76923077,\n",
       "        0.76923077,  0.79487179,  0.79487179,  0.82051282,  0.82051282,\n",
       "        0.87179487,  0.87179487,  0.8974359 ,  0.8974359 ,  0.92307692,\n",
       "        0.92307692,  0.94871795,  0.94871795,  0.97435897,  0.97435897,\n",
       "        1.        ,  1.        ])"
      ]
     },
     "execution_count": 109,
     "metadata": {},
     "output_type": "execute_result"
    }
   ],
   "source": [
    "roc_curve(Y_test, probas[:,1])[1]\n",
    "# true positive rate"
   ]
  },
  {
   "cell_type": "code",
   "execution_count": 110,
   "metadata": {
    "collapsed": false
   },
   "outputs": [
    {
     "data": {
      "text/plain": [
       "[<matplotlib.lines.Line2D at 0xc414ac8>]"
      ]
     },
     "execution_count": 110,
>>>>>>> Stashed changes
     "metadata": {},
     "output_type": "execute_result"
    },
    {
     "data": {
<<<<<<< Updated upstream
      "image/png": "iVBORw0KGgoAAAANSUhEUgAAAXcAAAEACAYAAABI5zaHAAAABHNCSVQICAgIfAhkiAAAAAlwSFlz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\nuUtSB/r/88y6JqZtoiIAAAAASUVORK5CYII=\n",
      "text/plain": [
       "<matplotlib.figure.Figure at 0x10c76a510>"
=======
      "image/png": "iVBORw0KGgoAAAANSUhEUgAAAgsAAAFkCAYAAACuFXjcAAAABHNCSVQICAgIfAhkiAAAAAlwSFlz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\nw4IkSSoyLEiSpKL/D92W7/Q3/zWSAAAAAElFTkSuQmCC\n",
      "text/plain": [
       "<matplotlib.figure.Figure at 0xbe549b0>"
>>>>>>> Stashed changes
      ]
     },
     "metadata": {},
     "output_type": "display_data"
    }
   ],
   "source": [
<<<<<<< Updated upstream
    "plt.plot(roc_curve(df[['admit']], actuals)[0], roc_curve(df[['admit']], actuals)[1])"
   ]
  },
  {
   "cell_type": "markdown",
   "metadata": {},
   "source": [
    "Finally, you can use the `roc_auc_score` function to calculate the area under these curves (AUC)."
=======
    "actuals = lm.predict(X_test) \n",
    "probas = lm.predict_proba(X_test)\n",
    "plt.plot(roc_curve(y_test, probas[:,1])[0], roc_curve(Y_test, probas[:,1])[1])\n",
    "# roc curve if not perfect 45 angle better want to be closer to upper left"
   ]
  },
  {
   "cell_type": "code",
   "execution_count": 111,
   "metadata": {
    "collapsed": false
   },
   "outputs": [
    {
     "data": {
      "text/plain": [
       "209    0\n",
       "280    0\n",
       "33     1\n",
       "210    0\n",
       "93     0\n",
       "Name: admit, dtype: object"
      ]
     },
     "execution_count": 111,
     "metadata": {},
     "output_type": "execute_result"
    }
   ],
   "source": [
    "y_test[\"predicted_prob\"] = probas\n",
    "y_test.head()"
>>>>>>> Stashed changes
   ]
  },
  {
   "cell_type": "code",
<<<<<<< Updated upstream
   "execution_count": 72,
=======
   "execution_count": 95,
>>>>>>> Stashed changes
   "metadata": {
    "collapsed": false
   },
   "outputs": [
    {
     "data": {
      "text/plain": [
<<<<<<< Updated upstream
       "0.55914164575581893"
      ]
     },
     "execution_count": 72,
=======
       "numpy.ndarray"
      ]
     },
     "execution_count": 95,
>>>>>>> Stashed changes
     "metadata": {},
     "output_type": "execute_result"
    }
   ],
   "source": [
<<<<<<< Updated upstream
    "roc_auc_score(df['admit'], lm.predict(feature_set)"
=======
    "type(probas)"
   ]
  },
  {
   "cell_type": "code",
   "execution_count": null,
   "metadata": {
    "collapsed": false
   },
   "outputs": [],
   "source": [
    "np.array(probas)"
   ]
  },
  {
   "cell_type": "code",
   "execution_count": 97,
   "metadata": {
    "collapsed": false
   },
   "outputs": [
    {
     "ename": "ValueError",
     "evalue": "array length 120 does not match index length 121",
     "output_type": "error",
     "traceback": [
      "\u001b[0;31m\u001b[0m",
      "\u001b[0;31mValueError\u001b[0mTraceback (most recent call last)",
      "\u001b[0;32m<ipython-input-97-2ab0d535ef1b>\u001b[0m in \u001b[0;36m<module>\u001b[0;34m()\u001b[0m\n\u001b[0;32m----> 1\u001b[0;31m \u001b[0mpredictionDF\u001b[0m \u001b[1;33m=\u001b[0m \u001b[0mpd\u001b[0m\u001b[1;33m.\u001b[0m\u001b[0mDataFrame\u001b[0m\u001b[1;33m(\u001b[0m\u001b[1;33m{\u001b[0m\u001b[1;34m\"actual\"\u001b[0m\u001b[1;33m:\u001b[0m \u001b[0mY_test\u001b[0m\u001b[1;33m,\u001b[0m \u001b[1;34m\"predicted\"\u001b[0m\u001b[1;33m:\u001b[0m \u001b[0mnp\u001b[0m\u001b[1;33m.\u001b[0m\u001b[0marray\u001b[0m\u001b[1;33m(\u001b[0m\u001b[0mprobas\u001b[0m\u001b[1;33m[\u001b[0m\u001b[1;33m:\u001b[0m\u001b[1;33m,\u001b[0m\u001b[1;36m1\u001b[0m\u001b[1;33m]\u001b[0m\u001b[1;33m)\u001b[0m\u001b[1;33m}\u001b[0m\u001b[1;33m)\u001b[0m\u001b[1;33m\u001b[0m\u001b[0m\n\u001b[0m\u001b[1;32m      2\u001b[0m \u001b[0mpredictionDF\u001b[0m\u001b[1;33m\u001b[0m\u001b[0m\n",
      "\u001b[0;32mC:\\Users\\Amber\\Anaconda2\\lib\\site-packages\\pandas\\core\\frame.pyc\u001b[0m in \u001b[0;36m__init__\u001b[0;34m(self, data, index, columns, dtype, copy)\u001b[0m\n\u001b[1;32m    222\u001b[0m                                  dtype=dtype, copy=copy)\n\u001b[1;32m    223\u001b[0m         \u001b[1;32melif\u001b[0m \u001b[0misinstance\u001b[0m\u001b[1;33m(\u001b[0m\u001b[0mdata\u001b[0m\u001b[1;33m,\u001b[0m \u001b[0mdict\u001b[0m\u001b[1;33m)\u001b[0m\u001b[1;33m:\u001b[0m\u001b[1;33m\u001b[0m\u001b[0m\n\u001b[0;32m--> 224\u001b[0;31m             \u001b[0mmgr\u001b[0m \u001b[1;33m=\u001b[0m \u001b[0mself\u001b[0m\u001b[1;33m.\u001b[0m\u001b[0m_init_dict\u001b[0m\u001b[1;33m(\u001b[0m\u001b[0mdata\u001b[0m\u001b[1;33m,\u001b[0m \u001b[0mindex\u001b[0m\u001b[1;33m,\u001b[0m \u001b[0mcolumns\u001b[0m\u001b[1;33m,\u001b[0m \u001b[0mdtype\u001b[0m\u001b[1;33m=\u001b[0m\u001b[0mdtype\u001b[0m\u001b[1;33m)\u001b[0m\u001b[1;33m\u001b[0m\u001b[0m\n\u001b[0m\u001b[1;32m    225\u001b[0m         \u001b[1;32melif\u001b[0m \u001b[0misinstance\u001b[0m\u001b[1;33m(\u001b[0m\u001b[0mdata\u001b[0m\u001b[1;33m,\u001b[0m \u001b[0mma\u001b[0m\u001b[1;33m.\u001b[0m\u001b[0mMaskedArray\u001b[0m\u001b[1;33m)\u001b[0m\u001b[1;33m:\u001b[0m\u001b[1;33m\u001b[0m\u001b[0m\n\u001b[1;32m    226\u001b[0m             \u001b[1;32mimport\u001b[0m \u001b[0mnumpy\u001b[0m\u001b[1;33m.\u001b[0m\u001b[0mma\u001b[0m\u001b[1;33m.\u001b[0m\u001b[0mmrecords\u001b[0m \u001b[1;32mas\u001b[0m \u001b[0mmrecords\u001b[0m\u001b[1;33m\u001b[0m\u001b[0m\n",
      "\u001b[0;32mC:\\Users\\Amber\\Anaconda2\\lib\\site-packages\\pandas\\core\\frame.pyc\u001b[0m in \u001b[0;36m_init_dict\u001b[0;34m(self, data, index, columns, dtype)\u001b[0m\n\u001b[1;32m    358\u001b[0m             \u001b[0marrays\u001b[0m \u001b[1;33m=\u001b[0m \u001b[1;33m[\u001b[0m\u001b[0mdata\u001b[0m\u001b[1;33m[\u001b[0m\u001b[0mk\u001b[0m\u001b[1;33m]\u001b[0m \u001b[1;32mfor\u001b[0m \u001b[0mk\u001b[0m \u001b[1;32min\u001b[0m \u001b[0mkeys\u001b[0m\u001b[1;33m]\u001b[0m\u001b[1;33m\u001b[0m\u001b[0m\n\u001b[1;32m    359\u001b[0m \u001b[1;33m\u001b[0m\u001b[0m\n\u001b[0;32m--> 360\u001b[0;31m         \u001b[1;32mreturn\u001b[0m \u001b[0m_arrays_to_mgr\u001b[0m\u001b[1;33m(\u001b[0m\u001b[0marrays\u001b[0m\u001b[1;33m,\u001b[0m \u001b[0mdata_names\u001b[0m\u001b[1;33m,\u001b[0m \u001b[0mindex\u001b[0m\u001b[1;33m,\u001b[0m \u001b[0mcolumns\u001b[0m\u001b[1;33m,\u001b[0m \u001b[0mdtype\u001b[0m\u001b[1;33m=\u001b[0m\u001b[0mdtype\u001b[0m\u001b[1;33m)\u001b[0m\u001b[1;33m\u001b[0m\u001b[0m\n\u001b[0m\u001b[1;32m    361\u001b[0m \u001b[1;33m\u001b[0m\u001b[0m\n\u001b[1;32m    362\u001b[0m     \u001b[1;32mdef\u001b[0m \u001b[0m_init_ndarray\u001b[0m\u001b[1;33m(\u001b[0m\u001b[0mself\u001b[0m\u001b[1;33m,\u001b[0m \u001b[0mvalues\u001b[0m\u001b[1;33m,\u001b[0m \u001b[0mindex\u001b[0m\u001b[1;33m,\u001b[0m \u001b[0mcolumns\u001b[0m\u001b[1;33m,\u001b[0m \u001b[0mdtype\u001b[0m\u001b[1;33m=\u001b[0m\u001b[0mNone\u001b[0m\u001b[1;33m,\u001b[0m \u001b[0mcopy\u001b[0m\u001b[1;33m=\u001b[0m\u001b[0mFalse\u001b[0m\u001b[1;33m)\u001b[0m\u001b[1;33m:\u001b[0m\u001b[1;33m\u001b[0m\u001b[0m\n",
      "\u001b[0;32mC:\\Users\\Amber\\Anaconda2\\lib\\site-packages\\pandas\\core\\frame.pyc\u001b[0m in \u001b[0;36m_arrays_to_mgr\u001b[0;34m(arrays, arr_names, index, columns, dtype)\u001b[0m\n\u001b[1;32m   5229\u001b[0m     \u001b[1;31m# figure out the index, if necessary\u001b[0m\u001b[1;33m\u001b[0m\u001b[1;33m\u001b[0m\u001b[0m\n\u001b[1;32m   5230\u001b[0m     \u001b[1;32mif\u001b[0m \u001b[0mindex\u001b[0m \u001b[1;32mis\u001b[0m \u001b[0mNone\u001b[0m\u001b[1;33m:\u001b[0m\u001b[1;33m\u001b[0m\u001b[0m\n\u001b[0;32m-> 5231\u001b[0;31m         \u001b[0mindex\u001b[0m \u001b[1;33m=\u001b[0m \u001b[0mextract_index\u001b[0m\u001b[1;33m(\u001b[0m\u001b[0marrays\u001b[0m\u001b[1;33m)\u001b[0m\u001b[1;33m\u001b[0m\u001b[0m\n\u001b[0m\u001b[1;32m   5232\u001b[0m     \u001b[1;32melse\u001b[0m\u001b[1;33m:\u001b[0m\u001b[1;33m\u001b[0m\u001b[0m\n\u001b[1;32m   5233\u001b[0m         \u001b[0mindex\u001b[0m \u001b[1;33m=\u001b[0m \u001b[0m_ensure_index\u001b[0m\u001b[1;33m(\u001b[0m\u001b[0mindex\u001b[0m\u001b[1;33m)\u001b[0m\u001b[1;33m\u001b[0m\u001b[0m\n",
      "\u001b[0;32mC:\\Users\\Amber\\Anaconda2\\lib\\site-packages\\pandas\\core\\frame.pyc\u001b[0m in \u001b[0;36mextract_index\u001b[0;34m(data)\u001b[0m\n\u001b[1;32m   5287\u001b[0m                     msg = ('array length %d does not match index length %d' %\n\u001b[1;32m   5288\u001b[0m                            (lengths[0], len(index)))\n\u001b[0;32m-> 5289\u001b[0;31m                     \u001b[1;32mraise\u001b[0m \u001b[0mValueError\u001b[0m\u001b[1;33m(\u001b[0m\u001b[0mmsg\u001b[0m\u001b[1;33m)\u001b[0m\u001b[1;33m\u001b[0m\u001b[0m\n\u001b[0m\u001b[1;32m   5290\u001b[0m             \u001b[1;32melse\u001b[0m\u001b[1;33m:\u001b[0m\u001b[1;33m\u001b[0m\u001b[0m\n\u001b[1;32m   5291\u001b[0m                 \u001b[0mindex\u001b[0m \u001b[1;33m=\u001b[0m \u001b[0m_default_index\u001b[0m\u001b[1;33m(\u001b[0m\u001b[0mlengths\u001b[0m\u001b[1;33m[\u001b[0m\u001b[1;36m0\u001b[0m\u001b[1;33m]\u001b[0m\u001b[1;33m)\u001b[0m\u001b[1;33m\u001b[0m\u001b[0m\n",
      "\u001b[0;31mValueError\u001b[0m: array length 120 does not match index length 121"
     ]
    }
   ],
   "source": [
    "predictionDF = pd.DataFrame({\"actual\": Y_test, \"predicted\": np.array(probas[:,1])})\n",
    "predictionDF"
   ]
  },
  {
   "cell_type": "code",
   "execution_count": 74,
   "metadata": {
    "collapsed": false
   },
   "outputs": [
    {
     "ename": "ValueError",
     "evalue": "array length 120 does not match index length 121",
     "output_type": "error",
     "traceback": [
      "\u001b[0;31m\u001b[0m",
      "\u001b[0;31mValueError\u001b[0mTraceback (most recent call last)",
      "\u001b[0;32m<ipython-input-74-ff11f86e5759>\u001b[0m in \u001b[0;36m<module>\u001b[0;34m()\u001b[0m\n\u001b[0;32m----> 1\u001b[0;31m \u001b[0mpredictionDF\u001b[0m \u001b[1;33m=\u001b[0m \u001b[0mpd\u001b[0m\u001b[1;33m.\u001b[0m\u001b[0mDataFrame\u001b[0m\u001b[1;33m(\u001b[0m\u001b[1;33m{\u001b[0m\u001b[1;34m\"actual\"\u001b[0m\u001b[1;33m:\u001b[0m \u001b[0mY_test\u001b[0m\u001b[1;33m,\u001b[0m \u001b[1;34m\"predicted\"\u001b[0m\u001b[1;33m:\u001b[0m \u001b[0mnp\u001b[0m\u001b[1;33m.\u001b[0m\u001b[0marray\u001b[0m\u001b[1;33m(\u001b[0m\u001b[0mprobas\u001b[0m\u001b[1;33m[\u001b[0m\u001b[1;33m:\u001b[0m\u001b[1;33m,\u001b[0m\u001b[1;36m1\u001b[0m\u001b[1;33m]\u001b[0m\u001b[1;33m)\u001b[0m\u001b[1;33m}\u001b[0m\u001b[1;33m)\u001b[0m\u001b[1;33m\u001b[0m\u001b[0m\n\u001b[0m",
      "\u001b[0;32mC:\\Users\\Amber\\Anaconda2\\lib\\site-packages\\pandas\\core\\frame.pyc\u001b[0m in \u001b[0;36m__init__\u001b[0;34m(self, data, index, columns, dtype, copy)\u001b[0m\n\u001b[1;32m    222\u001b[0m                                  dtype=dtype, copy=copy)\n\u001b[1;32m    223\u001b[0m         \u001b[1;32melif\u001b[0m \u001b[0misinstance\u001b[0m\u001b[1;33m(\u001b[0m\u001b[0mdata\u001b[0m\u001b[1;33m,\u001b[0m \u001b[0mdict\u001b[0m\u001b[1;33m)\u001b[0m\u001b[1;33m:\u001b[0m\u001b[1;33m\u001b[0m\u001b[0m\n\u001b[0;32m--> 224\u001b[0;31m             \u001b[0mmgr\u001b[0m \u001b[1;33m=\u001b[0m \u001b[0mself\u001b[0m\u001b[1;33m.\u001b[0m\u001b[0m_init_dict\u001b[0m\u001b[1;33m(\u001b[0m\u001b[0mdata\u001b[0m\u001b[1;33m,\u001b[0m \u001b[0mindex\u001b[0m\u001b[1;33m,\u001b[0m \u001b[0mcolumns\u001b[0m\u001b[1;33m,\u001b[0m \u001b[0mdtype\u001b[0m\u001b[1;33m=\u001b[0m\u001b[0mdtype\u001b[0m\u001b[1;33m)\u001b[0m\u001b[1;33m\u001b[0m\u001b[0m\n\u001b[0m\u001b[1;32m    225\u001b[0m         \u001b[1;32melif\u001b[0m \u001b[0misinstance\u001b[0m\u001b[1;33m(\u001b[0m\u001b[0mdata\u001b[0m\u001b[1;33m,\u001b[0m \u001b[0mma\u001b[0m\u001b[1;33m.\u001b[0m\u001b[0mMaskedArray\u001b[0m\u001b[1;33m)\u001b[0m\u001b[1;33m:\u001b[0m\u001b[1;33m\u001b[0m\u001b[0m\n\u001b[1;32m    226\u001b[0m             \u001b[1;32mimport\u001b[0m \u001b[0mnumpy\u001b[0m\u001b[1;33m.\u001b[0m\u001b[0mma\u001b[0m\u001b[1;33m.\u001b[0m\u001b[0mmrecords\u001b[0m \u001b[1;32mas\u001b[0m \u001b[0mmrecords\u001b[0m\u001b[1;33m\u001b[0m\u001b[0m\n",
      "\u001b[0;32mC:\\Users\\Amber\\Anaconda2\\lib\\site-packages\\pandas\\core\\frame.pyc\u001b[0m in \u001b[0;36m_init_dict\u001b[0;34m(self, data, index, columns, dtype)\u001b[0m\n\u001b[1;32m    358\u001b[0m             \u001b[0marrays\u001b[0m \u001b[1;33m=\u001b[0m \u001b[1;33m[\u001b[0m\u001b[0mdata\u001b[0m\u001b[1;33m[\u001b[0m\u001b[0mk\u001b[0m\u001b[1;33m]\u001b[0m \u001b[1;32mfor\u001b[0m \u001b[0mk\u001b[0m \u001b[1;32min\u001b[0m \u001b[0mkeys\u001b[0m\u001b[1;33m]\u001b[0m\u001b[1;33m\u001b[0m\u001b[0m\n\u001b[1;32m    359\u001b[0m \u001b[1;33m\u001b[0m\u001b[0m\n\u001b[0;32m--> 360\u001b[0;31m         \u001b[1;32mreturn\u001b[0m \u001b[0m_arrays_to_mgr\u001b[0m\u001b[1;33m(\u001b[0m\u001b[0marrays\u001b[0m\u001b[1;33m,\u001b[0m \u001b[0mdata_names\u001b[0m\u001b[1;33m,\u001b[0m \u001b[0mindex\u001b[0m\u001b[1;33m,\u001b[0m \u001b[0mcolumns\u001b[0m\u001b[1;33m,\u001b[0m \u001b[0mdtype\u001b[0m\u001b[1;33m=\u001b[0m\u001b[0mdtype\u001b[0m\u001b[1;33m)\u001b[0m\u001b[1;33m\u001b[0m\u001b[0m\n\u001b[0m\u001b[1;32m    361\u001b[0m \u001b[1;33m\u001b[0m\u001b[0m\n\u001b[1;32m    362\u001b[0m     \u001b[1;32mdef\u001b[0m \u001b[0m_init_ndarray\u001b[0m\u001b[1;33m(\u001b[0m\u001b[0mself\u001b[0m\u001b[1;33m,\u001b[0m \u001b[0mvalues\u001b[0m\u001b[1;33m,\u001b[0m \u001b[0mindex\u001b[0m\u001b[1;33m,\u001b[0m \u001b[0mcolumns\u001b[0m\u001b[1;33m,\u001b[0m \u001b[0mdtype\u001b[0m\u001b[1;33m=\u001b[0m\u001b[0mNone\u001b[0m\u001b[1;33m,\u001b[0m \u001b[0mcopy\u001b[0m\u001b[1;33m=\u001b[0m\u001b[0mFalse\u001b[0m\u001b[1;33m)\u001b[0m\u001b[1;33m:\u001b[0m\u001b[1;33m\u001b[0m\u001b[0m\n",
      "\u001b[0;32mC:\\Users\\Amber\\Anaconda2\\lib\\site-packages\\pandas\\core\\frame.pyc\u001b[0m in \u001b[0;36m_arrays_to_mgr\u001b[0;34m(arrays, arr_names, index, columns, dtype)\u001b[0m\n\u001b[1;32m   5229\u001b[0m     \u001b[1;31m# figure out the index, if necessary\u001b[0m\u001b[1;33m\u001b[0m\u001b[1;33m\u001b[0m\u001b[0m\n\u001b[1;32m   5230\u001b[0m     \u001b[1;32mif\u001b[0m \u001b[0mindex\u001b[0m \u001b[1;32mis\u001b[0m \u001b[0mNone\u001b[0m\u001b[1;33m:\u001b[0m\u001b[1;33m\u001b[0m\u001b[0m\n\u001b[0;32m-> 5231\u001b[0;31m         \u001b[0mindex\u001b[0m \u001b[1;33m=\u001b[0m \u001b[0mextract_index\u001b[0m\u001b[1;33m(\u001b[0m\u001b[0marrays\u001b[0m\u001b[1;33m)\u001b[0m\u001b[1;33m\u001b[0m\u001b[0m\n\u001b[0m\u001b[1;32m   5232\u001b[0m     \u001b[1;32melse\u001b[0m\u001b[1;33m:\u001b[0m\u001b[1;33m\u001b[0m\u001b[0m\n\u001b[1;32m   5233\u001b[0m         \u001b[0mindex\u001b[0m \u001b[1;33m=\u001b[0m \u001b[0m_ensure_index\u001b[0m\u001b[1;33m(\u001b[0m\u001b[0mindex\u001b[0m\u001b[1;33m)\u001b[0m\u001b[1;33m\u001b[0m\u001b[0m\n",
      "\u001b[0;32mC:\\Users\\Amber\\Anaconda2\\lib\\site-packages\\pandas\\core\\frame.pyc\u001b[0m in \u001b[0;36mextract_index\u001b[0;34m(data)\u001b[0m\n\u001b[1;32m   5287\u001b[0m                     msg = ('array length %d does not match index length %d' %\n\u001b[1;32m   5288\u001b[0m                            (lengths[0], len(index)))\n\u001b[0;32m-> 5289\u001b[0;31m                     \u001b[1;32mraise\u001b[0m \u001b[0mValueError\u001b[0m\u001b[1;33m(\u001b[0m\u001b[0mmsg\u001b[0m\u001b[1;33m)\u001b[0m\u001b[1;33m\u001b[0m\u001b[0m\n\u001b[0m\u001b[1;32m   5290\u001b[0m             \u001b[1;32melse\u001b[0m\u001b[1;33m:\u001b[0m\u001b[1;33m\u001b[0m\u001b[0m\n\u001b[1;32m   5291\u001b[0m                 \u001b[0mindex\u001b[0m \u001b[1;33m=\u001b[0m \u001b[0m_default_index\u001b[0m\u001b[1;33m(\u001b[0m\u001b[0mlengths\u001b[0m\u001b[1;33m[\u001b[0m\u001b[1;36m0\u001b[0m\u001b[1;33m]\u001b[0m\u001b[1;33m)\u001b[0m\u001b[1;33m\u001b[0m\u001b[0m\n",
      "\u001b[0;31mValueError\u001b[0m: array length 120 does not match index length 121"
     ]
    }
   ],
   "source": [
    "predictionDF = pd.DataFrame({\"actual\": Y_test, \"predicted\": np.array(probas[:,1])})\n",
    "predictionDF\n",
    "\n",
    "for threshold in [0.10, 0.20, 0.30, 0.40]:\n",
    "    columnName = \"predicted_class_{}\".format(threshold)\n",
    "    predictionDF[columnName] = predictionDF.predicted.apply(\n",
    "    lambda prob: 1 if prob > threshold else 0)\n",
    "    pd.crosstab(predictionDF.actual, predictionDF[columnName])"
   ]
  },
  {
   "cell_type": "code",
   "execution_count": null,
   "metadata": {
    "collapsed": true
   },
   "outputs": [],
   "source": []
  },
  {
   "cell_type": "code",
   "execution_count": 62,
   "metadata": {
    "collapsed": false
   },
   "outputs": [
    {
     "data": {
      "text/plain": [
       "[<matplotlib.lines.Line2D at 0xbfecf98>]"
      ]
     },
     "execution_count": 62,
     "metadata": {},
     "output_type": "execute_result"
    },
    {
     "data": {
      "image/png": "iVBORw0KGgoAAAANSUhEUgAAAgsAAAFkCAYAAACuFXjcAAAABHNCSVQICAgIfAhkiAAAAAlwSFlz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\nERFpkJoFERERaZCaBREREWnQ/wNbAs6ybVmQpAAAAABJRU5ErkJggg==\n",
      "text/plain": [
       "<matplotlib.figure.Figure at 0xc3dc860>"
      ]
     },
     "metadata": {},
     "output_type": "display_data"
    }
   ],
   "source": [
    "plt.plot(roc_curve(Y_test, actuals)[0], roc_curve(Y_test, actuals)[1])"
   ]
  },
  {
   "cell_type": "markdown",
   "metadata": {},
   "source": [
    "Finally, you can use the `roc_auc_score` function to calculate the area under these curves (AUC)."
   ]
  },
  {
   "cell_type": "code",
   "execution_count": 68,
   "metadata": {
    "collapsed": false
   },
   "outputs": [
    {
     "ename": "ValueError",
     "evalue": "unknown format is not supported",
     "output_type": "error",
     "traceback": [
      "\u001b[0;31m\u001b[0m",
      "\u001b[0;31mValueError\u001b[0mTraceback (most recent call last)",
      "\u001b[0;32m<ipython-input-68-83a11e5fbe4c>\u001b[0m in \u001b[0;36m<module>\u001b[0;34m()\u001b[0m\n\u001b[0;32m----> 1\u001b[0;31m \u001b[0mroc_auc_score\u001b[0m\u001b[1;33m(\u001b[0m\u001b[0mY_test\u001b[0m\u001b[1;33m,\u001b[0m \u001b[0mlm\u001b[0m\u001b[1;33m.\u001b[0m\u001b[0mpredict\u001b[0m\u001b[1;33m(\u001b[0m\u001b[0mX_test\u001b[0m\u001b[1;33m)\u001b[0m\u001b[1;33m)\u001b[0m\u001b[1;33m\u001b[0m\u001b[0m\n\u001b[0m",
      "\u001b[0;32mC:\\Users\\Amber\\Anaconda2\\lib\\site-packages\\sklearn\\metrics\\ranking.pyc\u001b[0m in \u001b[0;36mroc_auc_score\u001b[0;34m(y_true, y_score, average, sample_weight)\u001b[0m\n\u001b[1;32m    255\u001b[0m     return _average_binary_score(\n\u001b[1;32m    256\u001b[0m         \u001b[0m_binary_roc_auc_score\u001b[0m\u001b[1;33m,\u001b[0m \u001b[0my_true\u001b[0m\u001b[1;33m,\u001b[0m \u001b[0my_score\u001b[0m\u001b[1;33m,\u001b[0m \u001b[0maverage\u001b[0m\u001b[1;33m,\u001b[0m\u001b[1;33m\u001b[0m\u001b[0m\n\u001b[0;32m--> 257\u001b[0;31m         sample_weight=sample_weight)\n\u001b[0m\u001b[1;32m    258\u001b[0m \u001b[1;33m\u001b[0m\u001b[0m\n\u001b[1;32m    259\u001b[0m \u001b[1;33m\u001b[0m\u001b[0m\n",
      "\u001b[0;32mC:\\Users\\Amber\\Anaconda2\\lib\\site-packages\\sklearn\\metrics\\base.pyc\u001b[0m in \u001b[0;36m_average_binary_score\u001b[0;34m(binary_metric, y_true, y_score, average, sample_weight)\u001b[0m\n\u001b[1;32m     74\u001b[0m     \u001b[0my_type\u001b[0m \u001b[1;33m=\u001b[0m \u001b[0mtype_of_target\u001b[0m\u001b[1;33m(\u001b[0m\u001b[0my_true\u001b[0m\u001b[1;33m)\u001b[0m\u001b[1;33m\u001b[0m\u001b[0m\n\u001b[1;32m     75\u001b[0m     \u001b[1;32mif\u001b[0m \u001b[0my_type\u001b[0m \u001b[1;32mnot\u001b[0m \u001b[1;32min\u001b[0m \u001b[1;33m(\u001b[0m\u001b[1;34m\"binary\"\u001b[0m\u001b[1;33m,\u001b[0m \u001b[1;34m\"multilabel-indicator\"\u001b[0m\u001b[1;33m)\u001b[0m\u001b[1;33m:\u001b[0m\u001b[1;33m\u001b[0m\u001b[0m\n\u001b[0;32m---> 76\u001b[0;31m         \u001b[1;32mraise\u001b[0m \u001b[0mValueError\u001b[0m\u001b[1;33m(\u001b[0m\u001b[1;34m\"{0} format is not supported\"\u001b[0m\u001b[1;33m.\u001b[0m\u001b[0mformat\u001b[0m\u001b[1;33m(\u001b[0m\u001b[0my_type\u001b[0m\u001b[1;33m)\u001b[0m\u001b[1;33m)\u001b[0m\u001b[1;33m\u001b[0m\u001b[0m\n\u001b[0m\u001b[1;32m     77\u001b[0m \u001b[1;33m\u001b[0m\u001b[0m\n\u001b[1;32m     78\u001b[0m     \u001b[1;32mif\u001b[0m \u001b[0my_type\u001b[0m \u001b[1;33m==\u001b[0m \u001b[1;34m\"binary\"\u001b[0m\u001b[1;33m:\u001b[0m\u001b[1;33m\u001b[0m\u001b[0m\n",
      "\u001b[0;31mValueError\u001b[0m: unknown format is not supported"
     ]
    }
   ],
   "source": [
    "roc_auc_score(Y_test, lm.predict(X_test))"
>>>>>>> Stashed changes
   ]
  },
  {
   "cell_type": "markdown",
   "metadata": {},
   "source": [
    "### Titanic Problem"
   ]
  },
  {
   "cell_type": "markdown",
   "metadata": {},
   "source": [
    "** Goals **\n",
    "\n",
    "1. Spend a few minutes determining which data would be most important to use in the prediction problem. You may need to create new features based on the data available. Consider using a feature selection aide in sklearn. But a worst case scenario; identify one or two strong features that would be useful to include in the model.\n",
    "2. Spend 1-2 minutes considering which _metric_ makes the most sense to optimize. Accuracy? FPR or TPR? AUC? Given the business problem (understanding survival rate aboard the Titanic), why should you use this metric?\n",
    "3. Build a tuned Logistic model. Be prepared to explain your design (including regularization), metric, and feature set in predicting survival using the tools necessary (such as a fit chart)."
   ]
  },
  {
   "cell_type": "code",
   "execution_count": null,
   "metadata": {
    "collapsed": true
   },
   "outputs": [],
   "source": []
  }
 ],
 "metadata": {
  "anaconda-cloud": {},
  "kernelspec": {
   "display_name": "Python [conda root]",
   "language": "python",
   "name": "conda-root-py"
  },
  "language_info": {
   "codemirror_mode": {
    "name": "ipython",
    "version": 2
   },
   "file_extension": ".py",
   "mimetype": "text/x-python",
   "name": "python",
   "nbconvert_exporter": "python",
   "pygments_lexer": "ipython2",
   "version": "2.7.12"
  }
 },
 "nbformat": 4,
 "nbformat_minor": 0
}
