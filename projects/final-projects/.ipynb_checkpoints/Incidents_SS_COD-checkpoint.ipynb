{
 "cells": [
  {
   "cell_type": "code",
   "execution_count": 95,
   "metadata": {
    "collapsed": true
   },
   "outputs": [],
   "source": [
    "import pandas as pd"
   ]
  },
  {
   "cell_type": "code",
   "execution_count": 96,
   "metadata": {
    "collapsed": false
   },
   "outputs": [
    {
     "data": {
      "text/html": [
       "<div>\n",
       "<table border=\"1\" class=\"dataframe\">\n",
       "  <thead>\n",
       "    <tr style=\"text-align: right;\">\n",
       "      <th></th>\n",
       "      <th>Unnamed: 0</th>\n",
       "      <th>FID</th>\n",
       "      <th>Join_Count</th>\n",
       "      <th>TARGET_FID</th>\n",
       "      <th>Join_Cou_1</th>\n",
       "      <th>TARGET_F_1</th>\n",
       "      <th>incident_i</th>\n",
       "      <th>case_numbe</th>\n",
       "      <th>incident_d</th>\n",
       "      <th>incident_t</th>\n",
       "      <th>...</th>\n",
       "      <th>MEAN_TEMPERATUREF</th>\n",
       "      <th>PRECIPITATIONIN</th>\n",
       "      <th>EVENTS</th>\n",
       "      <th>MEAN_VISIBILITYMILES</th>\n",
       "      <th>CityName</th>\n",
       "      <th>IncidentGroup2</th>\n",
       "      <th>TotalPoverty</th>\n",
       "      <th>Weatherstr</th>\n",
       "      <th>weatherEventGroup</th>\n",
       "      <th>ZoningGroup</th>\n",
       "    </tr>\n",
       "  </thead>\n",
       "  <tbody>\n",
       "    <tr>\n",
       "      <th>0</th>\n",
       "      <td>0</td>\n",
       "      <td>0</td>\n",
       "      <td>1</td>\n",
       "      <td>0</td>\n",
       "      <td>1</td>\n",
       "      <td>1</td>\n",
       "      <td>787108492</td>\n",
       "      <td>59881</td>\n",
       "      <td>12/30/2016 01:49:00 PM</td>\n",
       "      <td>INFORMATION REPORT</td>\n",
       "      <td>...</td>\n",
       "      <td>41.0</td>\n",
       "      <td>0.00</td>\n",
       "      <td>NaN</td>\n",
       "      <td>10.0</td>\n",
       "      <td>DUNWOODY</td>\n",
       "      <td>Other</td>\n",
       "      <td>598.0</td>\n",
       "      <td>NaN</td>\n",
       "      <td>NaN</td>\n",
       "      <td>Office</td>\n",
       "    </tr>\n",
       "    <tr>\n",
       "      <th>1</th>\n",
       "      <td>1</td>\n",
       "      <td>1</td>\n",
       "      <td>1</td>\n",
       "      <td>1</td>\n",
       "      <td>1</td>\n",
       "      <td>2</td>\n",
       "      <td>787300346</td>\n",
       "      <td>59906</td>\n",
       "      <td>01/01/2017 01:00:00 AM</td>\n",
       "      <td>INFORMATION REPORT</td>\n",
       "      <td>...</td>\n",
       "      <td>NaN</td>\n",
       "      <td>NaN</td>\n",
       "      <td>NaN</td>\n",
       "      <td>NaN</td>\n",
       "      <td>DUNWOODY</td>\n",
       "      <td>Other</td>\n",
       "      <td>874.0</td>\n",
       "      <td>NaN</td>\n",
       "      <td>NaN</td>\n",
       "      <td>Office</td>\n",
       "    </tr>\n",
       "    <tr>\n",
       "      <th>2</th>\n",
       "      <td>2</td>\n",
       "      <td>2</td>\n",
       "      <td>1</td>\n",
       "      <td>2</td>\n",
       "      <td>0</td>\n",
       "      <td>3</td>\n",
       "      <td>787147954</td>\n",
       "      <td>59892</td>\n",
       "      <td>12/31/2016 02:12:00 AM</td>\n",
       "      <td>FAMILY OFFENSE-NO VIOLENCE</td>\n",
       "      <td>...</td>\n",
       "      <td>38.0</td>\n",
       "      <td>0.17</td>\n",
       "      <td>Rain</td>\n",
       "      <td>9.0</td>\n",
       "      <td>DUNWOODY</td>\n",
       "      <td>Family Offense</td>\n",
       "      <td>66.5</td>\n",
       "      <td>Rain</td>\n",
       "      <td>Rain</td>\n",
       "      <td></td>\n",
       "    </tr>\n",
       "    <tr>\n",
       "      <th>3</th>\n",
       "      <td>3</td>\n",
       "      <td>3</td>\n",
       "      <td>1</td>\n",
       "      <td>3</td>\n",
       "      <td>0</td>\n",
       "      <td>4</td>\n",
       "      <td>787174660</td>\n",
       "      <td>59898</td>\n",
       "      <td>12/31/2016 09:39:00 AM</td>\n",
       "      <td>SPEEDING</td>\n",
       "      <td>...</td>\n",
       "      <td>38.0</td>\n",
       "      <td>0.17</td>\n",
       "      <td>Rain</td>\n",
       "      <td>9.0</td>\n",
       "      <td>DUNWOODY</td>\n",
       "      <td>Traffic</td>\n",
       "      <td>12.0</td>\n",
       "      <td>Rain</td>\n",
       "      <td>Rain</td>\n",
       "      <td></td>\n",
       "    </tr>\n",
       "    <tr>\n",
       "      <th>4</th>\n",
       "      <td>4</td>\n",
       "      <td>4</td>\n",
       "      <td>1</td>\n",
       "      <td>4</td>\n",
       "      <td>0</td>\n",
       "      <td>5</td>\n",
       "      <td>762180594</td>\n",
       "      <td>54597</td>\n",
       "      <td>06/13/2016 06:07:00 PM</td>\n",
       "      <td>FAIL TO YIELD TURNING LEFT</td>\n",
       "      <td>...</td>\n",
       "      <td>87.0</td>\n",
       "      <td>0.00</td>\n",
       "      <td>NaN</td>\n",
       "      <td>10.0</td>\n",
       "      <td>DUNWOODY</td>\n",
       "      <td>Traffic</td>\n",
       "      <td>272.0</td>\n",
       "      <td>NaN</td>\n",
       "      <td>NaN</td>\n",
       "      <td></td>\n",
       "    </tr>\n",
       "  </tbody>\n",
       "</table>\n",
       "<p>5 rows × 54 columns</p>\n",
       "</div>"
      ],
      "text/plain": [
       "   Unnamed: 0  FID  Join_Count  TARGET_FID  Join_Cou_1  TARGET_F_1  \\\n",
       "0           0    0           1           0           1           1   \n",
       "1           1    1           1           1           1           2   \n",
       "2           2    2           1           2           0           3   \n",
       "3           3    3           1           3           0           4   \n",
       "4           4    4           1           4           0           5   \n",
       "\n",
       "   incident_i  case_numbe              incident_d                  incident_t  \\\n",
       "0   787108492       59881  12/30/2016 01:49:00 PM          INFORMATION REPORT   \n",
       "1   787300346       59906  01/01/2017 01:00:00 AM          INFORMATION REPORT   \n",
       "2   787147954       59892  12/31/2016 02:12:00 AM  FAMILY OFFENSE-NO VIOLENCE   \n",
       "3   787174660       59898  12/31/2016 09:39:00 AM                    SPEEDING   \n",
       "4   762180594       54597  06/13/2016 06:07:00 PM  FAIL TO YIELD TURNING LEFT   \n",
       "\n",
       "      ...     MEAN_TEMPERATUREF PRECIPITATIONIN EVENTS MEAN_VISIBILITYMILES  \\\n",
       "0     ...                  41.0            0.00    NaN                 10.0   \n",
       "1     ...                   NaN             NaN    NaN                  NaN   \n",
       "2     ...                  38.0            0.17   Rain                  9.0   \n",
       "3     ...                  38.0            0.17   Rain                  9.0   \n",
       "4     ...                  87.0            0.00    NaN                 10.0   \n",
       "\n",
       "   CityName  IncidentGroup2  TotalPoverty  Weatherstr weatherEventGroup  \\\n",
       "0  DUNWOODY           Other         598.0         NaN               NaN   \n",
       "1  DUNWOODY           Other         874.0         NaN               NaN   \n",
       "2  DUNWOODY  Family Offense          66.5        Rain              Rain   \n",
       "3  DUNWOODY         Traffic          12.0        Rain              Rain   \n",
       "4  DUNWOODY         Traffic         272.0         NaN               NaN   \n",
       "\n",
       "  ZoningGroup  \n",
       "0      Office  \n",
       "1      Office  \n",
       "2              \n",
       "3              \n",
       "4              \n",
       "\n",
       "[5 rows x 54 columns]"
      ]
     },
     "execution_count": 96,
     "metadata": {},
     "output_type": "execute_result"
    }
   ],
   "source": [
    "INC = pd.read_csv('Data/Incidents.csv')\n",
    "INC.head()"
   ]
  },
  {
   "cell_type": "code",
   "execution_count": 97,
   "metadata": {
    "collapsed": false
   },
   "outputs": [
    {
     "data": {
      "text/plain": [
       "(93014, 54)"
      ]
     },
     "execution_count": 97,
     "metadata": {},
     "output_type": "execute_result"
    }
   ],
   "source": [
    "INC.shape"
   ]
  },
  {
   "cell_type": "code",
   "execution_count": 98,
   "metadata": {
    "collapsed": false
   },
   "outputs": [
    {
     "data": {
      "text/plain": [
       "Unnamed: 0                int64\n",
       "FID                       int64\n",
       "Join_Count                int64\n",
       "TARGET_FID                int64\n",
       "Join_Cou_1                int64\n",
       "TARGET_F_1                int64\n",
       "incident_i                int64\n",
       "case_numbe                int64\n",
       "incident_d               object\n",
       "incident_t               object\n",
       "incident_1               object\n",
       "address                  object\n",
       "city                     object\n",
       "state                    object\n",
       "zip                       int64\n",
       "latitude                float64\n",
       "longitude               float64\n",
       "hour_of_da                int64\n",
       "day_of_wee               object\n",
       "parent_inc               object\n",
       "date_incid               object\n",
       "SOURCE_ID                 int64\n",
       "Gi_Bin                    int64\n",
       "B25057e1                float64\n",
       "B25058e1                float64\n",
       "B25059e1                float64\n",
       "B25076e1                float64\n",
       "B25077e1                float64\n",
       "B25078e1                float64\n",
       "B25018e1                float64\n",
       "B25001e1                float64\n",
       "B25002e1                float64\n",
       "B25002e2                float64\n",
       "B25002e3                float64\n",
       "B19013e1                float64\n",
       "C17002e1                float64\n",
       "C17002e2                float64\n",
       "C17002e3                float64\n",
       "OBJECTID_1                int64\n",
       "Zoning_Cla               object\n",
       "ZoningLabe               object\n",
       "dateShort                object\n",
       "EST                      object\n",
       "MAX_TEMPERATUREF        float64\n",
       "MEAN_TEMPERATUREF       float64\n",
       "PRECIPITATIONIN          object\n",
       "EVENTS                   object\n",
       "MEAN_VISIBILITYMILES    float64\n",
       "CityName                 object\n",
       "IncidentGroup2           object\n",
       "TotalPoverty            float64\n",
       "Weatherstr               object\n",
       "weatherEventGroup        object\n",
       "ZoningGroup              object\n",
       "dtype: object"
      ]
     },
     "execution_count": 98,
     "metadata": {},
     "output_type": "execute_result"
    }
   ],
   "source": [
    "INC.dtypes"
   ]
  },
  {
   "cell_type": "code",
   "execution_count": 105,
   "metadata": {
    "collapsed": false
   },
   "outputs": [
    {
     "data": {
      "text/html": [
       "<div>\n",
       "<table border=\"1\" class=\"dataframe\">\n",
       "  <thead>\n",
       "    <tr style=\"text-align: right;\">\n",
       "      <th></th>\n",
       "      <th>incident_d</th>\n",
       "      <th>zip</th>\n",
       "      <th>latitude</th>\n",
       "      <th>longitude</th>\n",
       "      <th>hour_of_da</th>\n",
       "      <th>day_of_wee</th>\n",
       "      <th>date_incid</th>\n",
       "      <th>B25057e1</th>\n",
       "      <th>B25058e1</th>\n",
       "      <th>B25059e1</th>\n",
       "      <th>...</th>\n",
       "      <th>B19013e1</th>\n",
       "      <th>EST</th>\n",
       "      <th>MAX_TEMPERATUREF</th>\n",
       "      <th>PRECIPITATIONIN</th>\n",
       "      <th>MEAN_VISIBILITYMILES</th>\n",
       "      <th>CityName</th>\n",
       "      <th>IncidentGroup2</th>\n",
       "      <th>TotalPoverty</th>\n",
       "      <th>weatherEventGroup</th>\n",
       "      <th>ZoningGroup</th>\n",
       "    </tr>\n",
       "  </thead>\n",
       "  <tbody>\n",
       "    <tr>\n",
       "      <th>0</th>\n",
       "      <td>12/30/2016 01:49:00 PM</td>\n",
       "      <td>30346</td>\n",
       "      <td>33.927104</td>\n",
       "      <td>-84.331795</td>\n",
       "      <td>13</td>\n",
       "      <td>Friday</td>\n",
       "      <td>2016-12-30 00:00:00</td>\n",
       "      <td>938.5</td>\n",
       "      <td>1083.0</td>\n",
       "      <td>1305.5</td>\n",
       "      <td>...</td>\n",
       "      <td>55712.5</td>\n",
       "      <td>2016-12-30</td>\n",
       "      <td>50.0</td>\n",
       "      <td>0.00</td>\n",
       "      <td>10.0</td>\n",
       "      <td>DUNWOODY</td>\n",
       "      <td>Other</td>\n",
       "      <td>598.0</td>\n",
       "      <td>NaN</td>\n",
       "      <td>Office</td>\n",
       "    </tr>\n",
       "    <tr>\n",
       "      <th>1</th>\n",
       "      <td>01/01/2017 01:00:00 AM</td>\n",
       "      <td>30346</td>\n",
       "      <td>33.930271</td>\n",
       "      <td>-84.332347</td>\n",
       "      <td>1</td>\n",
       "      <td>Sunday</td>\n",
       "      <td>2017-01-01 00:00:00</td>\n",
       "      <td>911.0</td>\n",
       "      <td>1041.0</td>\n",
       "      <td>1298.0</td>\n",
       "      <td>...</td>\n",
       "      <td>67422.0</td>\n",
       "      <td>NaN</td>\n",
       "      <td>NaN</td>\n",
       "      <td>NaN</td>\n",
       "      <td>NaN</td>\n",
       "      <td>DUNWOODY</td>\n",
       "      <td>Other</td>\n",
       "      <td>874.0</td>\n",
       "      <td>NaN</td>\n",
       "      <td>Office</td>\n",
       "    </tr>\n",
       "    <tr>\n",
       "      <th>2</th>\n",
       "      <td>12/31/2016 02:12:00 AM</td>\n",
       "      <td>30338</td>\n",
       "      <td>33.925571</td>\n",
       "      <td>-84.315793</td>\n",
       "      <td>2</td>\n",
       "      <td>Saturday</td>\n",
       "      <td>2016-12-31 00:00:00</td>\n",
       "      <td>472.0</td>\n",
       "      <td>527.0</td>\n",
       "      <td>601.0</td>\n",
       "      <td>...</td>\n",
       "      <td>85000.5</td>\n",
       "      <td>2016-12-31</td>\n",
       "      <td>47.0</td>\n",
       "      <td>0.17</td>\n",
       "      <td>9.0</td>\n",
       "      <td>DUNWOODY</td>\n",
       "      <td>Family Offense</td>\n",
       "      <td>66.5</td>\n",
       "      <td>Rain</td>\n",
       "      <td></td>\n",
       "    </tr>\n",
       "    <tr>\n",
       "      <th>3</th>\n",
       "      <td>12/31/2016 09:39:00 AM</td>\n",
       "      <td>0</td>\n",
       "      <td>33.943571</td>\n",
       "      <td>-84.331624</td>\n",
       "      <td>9</td>\n",
       "      <td>Saturday</td>\n",
       "      <td>2016-12-31 00:00:00</td>\n",
       "      <td>951.0</td>\n",
       "      <td>1046.5</td>\n",
       "      <td>1244.0</td>\n",
       "      <td>...</td>\n",
       "      <td>111182.0</td>\n",
       "      <td>2016-12-31</td>\n",
       "      <td>47.0</td>\n",
       "      <td>0.17</td>\n",
       "      <td>9.0</td>\n",
       "      <td>DUNWOODY</td>\n",
       "      <td>Traffic</td>\n",
       "      <td>12.0</td>\n",
       "      <td>Rain</td>\n",
       "      <td></td>\n",
       "    </tr>\n",
       "    <tr>\n",
       "      <th>4</th>\n",
       "      <td>06/13/2016 06:07:00 PM</td>\n",
       "      <td>30346</td>\n",
       "      <td>33.926443</td>\n",
       "      <td>-84.337153</td>\n",
       "      <td>18</td>\n",
       "      <td>Monday</td>\n",
       "      <td>2016-06-13 00:00:00</td>\n",
       "      <td>922.5</td>\n",
       "      <td>1108.0</td>\n",
       "      <td>1329.0</td>\n",
       "      <td>...</td>\n",
       "      <td>67008.5</td>\n",
       "      <td>2016-6-13</td>\n",
       "      <td>99.0</td>\n",
       "      <td>0.00</td>\n",
       "      <td>10.0</td>\n",
       "      <td>DUNWOODY</td>\n",
       "      <td>Traffic</td>\n",
       "      <td>272.0</td>\n",
       "      <td>NaN</td>\n",
       "      <td></td>\n",
       "    </tr>\n",
       "  </tbody>\n",
       "</table>\n",
       "<p>5 rows × 28 columns</p>\n",
       "</div>"
      ],
      "text/plain": [
       "               incident_d    zip   latitude  longitude  hour_of_da day_of_wee  \\\n",
       "0  12/30/2016 01:49:00 PM  30346  33.927104 -84.331795          13     Friday   \n",
       "1  01/01/2017 01:00:00 AM  30346  33.930271 -84.332347           1     Sunday   \n",
       "2  12/31/2016 02:12:00 AM  30338  33.925571 -84.315793           2   Saturday   \n",
       "3  12/31/2016 09:39:00 AM      0  33.943571 -84.331624           9   Saturday   \n",
       "4  06/13/2016 06:07:00 PM  30346  33.926443 -84.337153          18     Monday   \n",
       "\n",
       "            date_incid  B25057e1  B25058e1  B25059e1     ...      B19013e1  \\\n",
       "0  2016-12-30 00:00:00     938.5    1083.0    1305.5     ...       55712.5   \n",
       "1  2017-01-01 00:00:00     911.0    1041.0    1298.0     ...       67422.0   \n",
       "2  2016-12-31 00:00:00     472.0     527.0     601.0     ...       85000.5   \n",
       "3  2016-12-31 00:00:00     951.0    1046.5    1244.0     ...      111182.0   \n",
       "4  2016-06-13 00:00:00     922.5    1108.0    1329.0     ...       67008.5   \n",
       "\n",
       "          EST  MAX_TEMPERATUREF  PRECIPITATIONIN  MEAN_VISIBILITYMILES  \\\n",
       "0  2016-12-30              50.0             0.00                  10.0   \n",
       "1         NaN               NaN              NaN                   NaN   \n",
       "2  2016-12-31              47.0             0.17                   9.0   \n",
       "3  2016-12-31              47.0             0.17                   9.0   \n",
       "4   2016-6-13              99.0             0.00                  10.0   \n",
       "\n",
       "   CityName  IncidentGroup2  TotalPoverty  weatherEventGroup ZoningGroup  \n",
       "0  DUNWOODY           Other         598.0                NaN      Office  \n",
       "1  DUNWOODY           Other         874.0                NaN      Office  \n",
       "2  DUNWOODY  Family Offense          66.5               Rain              \n",
       "3  DUNWOODY         Traffic          12.0               Rain              \n",
       "4  DUNWOODY         Traffic         272.0                NaN              \n",
       "\n",
       "[5 rows x 28 columns]"
      ]
     },
     "execution_count": 105,
     "metadata": {},
     "output_type": "execute_result"
    }
   ],
   "source": [
    "ColstoKeep = ['incident_d', 'zip', 'latitude', 'longitude', 'hour_of_da', 'day_of_wee', 'date_incid', \n",
    "              'B25057e1', 'B25058e1', 'B25059e1', 'B25076e1', 'B25077e1', 'B25078e1', 'B25018e1', 'B25001e1', 'B25002e1', 'B25002e2', 'B25002e3', 'B19013e1',\n",
    "              'EST', 'MAX_TEMPERATUREF', 'PRECIPITATIONIN', 'MEAN_VISIBILITYMILES', \n",
    "              'CityName', 'IncidentGroup2', 'TotalPoverty', 'weatherEventGroup', 'ZoningGroup']\n",
    "df = INC[ColstoKeep]\n",
    "df.head()"
   ]
  },
  {
   "cell_type": "code",
   "execution_count": 63,
   "metadata": {
    "collapsed": false
   },
   "outputs": [
    {
     "data": {
      "text/plain": [
       "(93014, 11)"
      ]
     },
     "execution_count": 63,
     "metadata": {},
     "output_type": "execute_result"
    }
   ],
   "source": [
    "# Categorical Columns to keep \n",
    "# INC.keepCols = keepCols = [u'hour_of_da', \n",
    "#                            u'day_of_wee', \n",
    "#                            u'weatherEventGroup',\n",
    "#                            u'city', \n",
    "#                            u'zip', \n",
    "#                            u'ZoningGroup', \n",
    "#                            u'IncidentGroup2', \n",
    "#                            u'EST', \n",
    "#                            u'incident_d', \n",
    "#                            u'latitude', \n",
    "#                            u'longitude']\n",
    "\n",
    "\n",
    "# df = INC[keepCols] \n",
    "# df.shape"
   ]
  },
  {
   "cell_type": "code",
   "execution_count": 99,
   "metadata": {
    "collapsed": false
   },
   "outputs": [
    {
     "data": {
      "text/plain": [
       "1    93012\n",
       "2        2\n",
       "Name: Join_Count, dtype: int64"
      ]
     },
     "execution_count": 99,
     "metadata": {},
     "output_type": "execute_result"
    }
   ],
   "source": [
    "INC['Join_Count'].value_counts()"
   ]
  },
  {
   "cell_type": "code",
   "execution_count": 100,
   "metadata": {
    "collapsed": false
   },
   "outputs": [
    {
     "data": {
      "text/plain": [
       "1    93014\n",
       "Name: Join_Count, dtype: int64"
      ]
     },
     "execution_count": 100,
     "metadata": {},
     "output_type": "execute_result"
    }
   ],
   "source": [
    "def Make1(value):\n",
    "    if value == 2.0:\n",
    "        return 1\n",
    "    else:\n",
    "        return value\n",
    "INC['Join_Count'] = INC['Join_Count'].apply(Make1)\n",
    "INC['Join_Count'].value_counts()"
   ]
  },
  {
   "cell_type": "code",
   "execution_count": 101,
   "metadata": {
    "collapsed": false
   },
   "outputs": [
    {
     "data": {
      "text/plain": [
       "(93014, 54)"
      ]
     },
     "execution_count": 101,
     "metadata": {},
     "output_type": "execute_result"
    }
   ],
   "source": [
    "INC.shape"
   ]
  },
  {
   "cell_type": "code",
   "execution_count": 106,
   "metadata": {
    "collapsed": false
   },
   "outputs": [
    {
     "data": {
      "text/plain": [
       "0        60779\n",
       "30338    12492\n",
       "30346    11146\n",
       "30360     2864\n",
       "30328     2364\n",
       "30350     2070\n",
       "30342      889\n",
       "30327      212\n",
       "30339       84\n",
       "30341       38\n",
       "30071       23\n",
       "30092       23\n",
       "30319       15\n",
       "30728        5\n",
       "30324        3\n",
       "30337        2\n",
       "30340        1\n",
       "30068        1\n",
       "30294        1\n",
       "30062        1\n",
       "30076        1\n",
       "Name: zip, dtype: int64"
      ]
     },
     "execution_count": 106,
     "metadata": {},
     "output_type": "execute_result"
    }
   ],
   "source": [
    "df['zip'].value_counts()"
   ]
  },
  {
   "cell_type": "code",
   "execution_count": 107,
   "metadata": {
    "collapsed": false
   },
   "outputs": [
    {
     "data": {
      "text/plain": [
       "Theft                   25150\n",
       "Traffic                 17968\n",
       "Other                   13026\n",
       "Property Crime          11218\n",
       "Breaking & Entering      5537\n",
       "Disorder                 5316\n",
       "Assault                  5201\n",
       "Traffic - DUI            2826\n",
       "Family Offense           2709\n",
       "Drugs                    1481\n",
       "Robbery                   831\n",
       "Missing Person            686\n",
       "Vehicle Recovery          278\n",
       "Quality of Life           277\n",
       "Death                     159\n",
       "Weapons Offense           154\n",
       "Other Sexual Offense       72\n",
       "Liquor                     53\n",
       "Arson                      37\n",
       "Homicide                   18\n",
       "Sexual Offense             16\n",
       "Proactive Policing          1\n",
       "Name: IncidentGroup2, dtype: int64"
      ]
     },
     "execution_count": 107,
     "metadata": {},
     "output_type": "execute_result"
    }
   ],
   "source": [
    "INC['IncidentGroup2'].value_counts()"
   ]
  },
  {
   "cell_type": "code",
   "execution_count": 108,
   "metadata": {
    "collapsed": false
   },
   "outputs": [
    {
     "data": {
      "text/html": [
       "<div>\n",
       "<table border=\"1\" class=\"dataframe\">\n",
       "  <thead>\n",
       "    <tr style=\"text-align: right;\">\n",
       "      <th></th>\n",
       "      <th>hour_of_da</th>\n",
       "      <th>day_of_wee</th>\n",
       "      <th>weatherEventGroup</th>\n",
       "      <th>city</th>\n",
       "      <th>zip</th>\n",
       "      <th>ZoningGroup</th>\n",
       "      <th>IncidentGroup2</th>\n",
       "      <th>EST</th>\n",
       "      <th>incident_d</th>\n",
       "      <th>latitude</th>\n",
       "      <th>longitude</th>\n",
       "    </tr>\n",
       "  </thead>\n",
       "  <tbody>\n",
       "    <tr>\n",
       "      <th>0</th>\n",
       "      <td>13</td>\n",
       "      <td>Friday</td>\n",
       "      <td>NaN</td>\n",
       "      <td>DUNWOODY</td>\n",
       "      <td>30346</td>\n",
       "      <td>Office</td>\n",
       "      <td>Other</td>\n",
       "      <td>2016-12-30</td>\n",
       "      <td>12/30/2016 01:49:00 PM</td>\n",
       "      <td>33.927104</td>\n",
       "      <td>-84.331795</td>\n",
       "    </tr>\n",
       "    <tr>\n",
       "      <th>1</th>\n",
       "      <td>1</td>\n",
       "      <td>Sunday</td>\n",
       "      <td>NaN</td>\n",
       "      <td>DUNWOODY</td>\n",
       "      <td>30346</td>\n",
       "      <td>Office</td>\n",
       "      <td>Other</td>\n",
       "      <td>NaN</td>\n",
       "      <td>01/01/2017 01:00:00 AM</td>\n",
       "      <td>33.930271</td>\n",
       "      <td>-84.332347</td>\n",
       "    </tr>\n",
       "  </tbody>\n",
       "</table>\n",
       "</div>"
      ],
      "text/plain": [
       "   hour_of_da day_of_wee weatherEventGroup      city    zip ZoningGroup  \\\n",
       "0          13     Friday               NaN  DUNWOODY  30346      Office   \n",
       "1           1     Sunday               NaN  DUNWOODY  30346      Office   \n",
       "\n",
       "  IncidentGroup2         EST              incident_d   latitude  longitude  \n",
       "0          Other  2016-12-30  12/30/2016 01:49:00 PM  33.927104 -84.331795  \n",
       "1          Other         NaN  01/01/2017 01:00:00 AM  33.930271 -84.332347  "
      ]
     },
     "execution_count": 108,
     "metadata": {},
     "output_type": "execute_result"
    }
   ],
   "source": [
    "Categories.head(2)"
   ]
  },
  {
   "cell_type": "code",
   "execution_count": 109,
   "metadata": {
    "collapsed": false
   },
   "outputs": [
    {
     "data": {
      "text/plain": [
       "(93014, 28)"
      ]
     },
     "execution_count": 109,
     "metadata": {},
     "output_type": "execute_result"
    }
   ],
   "source": [
    "df.shape"
   ]
  },
  {
   "cell_type": "markdown",
   "metadata": {},
   "source": [
    "https://www.youtube.com/watch?v=YPItfQ87qjM"
   ]
  },
  {
   "cell_type": "code",
   "execution_count": 120,
   "metadata": {
    "collapsed": false
   },
   "outputs": [
    {
     "data": {
      "text/plain": [
       "array(['Family Offense', 'Traffic', 'Disorder', 'Theft', 'Assault',\n",
       "       'Property Crime', 'Breaking & Entering', 'Drugs', 'Traffic - DUI'], dtype=object)"
      ]
     },
     "execution_count": 120,
     "metadata": {},
     "output_type": "execute_result"
    }
   ],
   "source": [
    "\n",
    "# Categories[\n",
    "#            (Categories.IncidentGroup2 == \"Theft\") | \n",
    "#            (Categories.IncidentGroup2 == \"Traffic\") |\n",
    "#            (Categories.IncidentGroup2 == \"Property Crime\") |\n",
    "#            (Categories.IncidentGroup2 == \"Breaking & Entering\") |\n",
    "#            (Categories.IncidentGroup2 == \"Disorder\") | \n",
    "#            (Categories.IncidentGroup2 == \"Assault\") |\n",
    "#            (Categories.IncidentGroup2 == \"Traffic - DUI\") |\n",
    "#            (Categories.IncidentGroup2 == \"Family Offense\") |\n",
    "#            (Categories.IncidentGroup2 == \"Drugs\")\n",
    "# ].head(20)\n",
    "\n",
    "valuesToKeep = [\"Theft\",\"Traffic\",\"Property Crime\",\"Breaking & Entering\",\"Disorder\",\"Assault\",\n",
    "               \"Traffic - DUI\", \"Family Offense\",\"Drugs\"]\n",
    "\n",
    "dfCats = df[ df.IncidentGroup2.isin(valuesToKeep) ]\n",
    "dfCats.IncidentGroup2.unique()\n",
    "\n"
   ]
  },
  {
   "cell_type": "code",
   "execution_count": 121,
   "metadata": {
    "collapsed": false
   },
   "outputs": [
    {
     "name": "stdout",
     "output_type": "stream",
     "text": [
      "(93014, 28)\n",
      "(77406, 28)\n"
     ]
    }
   ],
   "source": [
    "print df.shape\n",
    "print dfCats.shape"
   ]
  },
  {
   "cell_type": "code",
   "execution_count": 122,
   "metadata": {
    "collapsed": false
   },
   "outputs": [
    {
     "data": {
      "text/plain": [
       "Rain    24012\n",
       "Fog      4610\n",
       "Snow      448\n",
       "Name: weatherEventGroup, dtype: int64"
      ]
     },
     "execution_count": 122,
     "metadata": {},
     "output_type": "execute_result"
    }
   ],
   "source": [
    "dfCats.weatherEventGroup.value_counts()"
   ]
  },
  {
   "cell_type": "code",
   "execution_count": 123,
   "metadata": {
    "collapsed": false
   },
   "outputs": [
    {
     "name": "stdout",
     "output_type": "stream",
     "text": [
      "ORIGINAL 58068 no weather Event\n",
      "new df 48336 no weather Event\n"
     ]
    }
   ],
   "source": [
    "print \"ORIGINAL {} no weather Event\".format(93014 - (28900 + 5514 + 532))\n",
    "print \"new df {} no weather Event\".format(77406 - (24012 + 4610 + 448))"
   ]
  },
  {
   "cell_type": "code",
   "execution_count": 124,
   "metadata": {
    "collapsed": false
   },
   "outputs": [
    {
     "name": "stdout",
     "output_type": "stream",
     "text": [
      "ORGINAL 62.4293117165% incidents no weather event\n",
      "new df 62.4447717231% incidents no weather event\n"
     ]
    }
   ],
   "source": [
    "print \"ORGINAL {}% incidents no weather event\".format((58068.0/93014)*100)\n",
    "print \"new df {}% incidents no weather event\".format((48336.0/77406)*100)"
   ]
  },
  {
   "cell_type": "code",
   "execution_count": 125,
   "metadata": {
    "collapsed": false
   },
   "outputs": [
    {
     "data": {
      "text/plain": [
       "                  26561\n",
       "Commercial        16605\n",
       "Multi-Dwelling    11654\n",
       "Office             6943\n",
       "Multi-Family       6312\n",
       "Single-Family      4923\n",
       "MIX                2272\n",
       "CUP                 915\n",
       "Townhouse           790\n",
       "Industrial          198\n",
       "Agriculture         175\n",
       "NUP                  58\n",
       "Name: ZoningGroup, dtype: int64"
      ]
     },
     "execution_count": 125,
     "metadata": {},
     "output_type": "execute_result"
    }
   ],
   "source": [
    "dfCats.ZoningGroup.value_counts()"
   ]
  },
  {
   "cell_type": "code",
   "execution_count": 126,
   "metadata": {
    "collapsed": false
   },
   "outputs": [
    {
     "name": "stdout",
     "output_type": "stream",
     "text": [
      "ORIGINAL 34.2593588062% incidents point landed in the road (no Zoning)\n",
      "new df 34.3138774772% incidents point landed in the road (no Zoning)\n"
     ]
    }
   ],
   "source": [
    "print \"ORIGINAL {}% incidents point landed in the road (no Zoning)\".format((31866.0/93014)*100)\n",
    "print \"new df {}% incidents point landed in the road (no Zoning)\".format((26561.0/77406)*100)"
   ]
  },
  {
   "cell_type": "code",
   "execution_count": 127,
   "metadata": {
    "collapsed": false
   },
   "outputs": [
    {
     "data": {
      "text/plain": [
       "<seaborn.axisgrid.FacetGrid at 0xe53f780>"
      ]
     },
     "execution_count": 127,
     "metadata": {},
     "output_type": "execute_result"
    },
    {
     "data": {
      "image/png": "[encoded data removed]",
      "text/plain": [
       "<matplotlib.figure.Figure at 0xe53fb00>"
      ]
     },
     "metadata": {},
     "output_type": "display_data"
    }
   ],
   "source": [
    "dfCats.groupby(['IncidentGroup2'])[['hour_of_da']]\n",
    "\n",
    "import seaborn as sb\n",
    "%matplotlib inline\n",
    "\n",
    "p = sb.factorplot(x='IncidentGroup2', \n",
    "              y='hour_of_da',\n",
    "              kind='bar',\n",
    "              data = dfCats,\n",
    "              size = 8\n",
    "            )\n",
    "p.set_xticklabels(rotation=45, horizontalalignment='right')"
   ]
  },
  {
   "cell_type": "code",
   "execution_count": 128,
   "metadata": {
    "collapsed": false
   },
   "outputs": [
    {
     "data": {
      "text/html": [
       "<div>\n",
       "<table border=\"1\" class=\"dataframe\">\n",
       "  <thead>\n",
       "    <tr style=\"text-align: right;\">\n",
       "      <th></th>\n",
       "      <th>incident_d</th>\n",
       "      <th>zip</th>\n",
       "      <th>latitude</th>\n",
       "      <th>longitude</th>\n",
       "      <th>hour_of_da</th>\n",
       "      <th>day_of_wee</th>\n",
       "      <th>date_incid</th>\n",
       "      <th>B25057e1</th>\n",
       "      <th>B25058e1</th>\n",
       "      <th>B25059e1</th>\n",
       "      <th>...</th>\n",
       "      <th>B19013e1</th>\n",
       "      <th>EST</th>\n",
       "      <th>MAX_TEMPERATUREF</th>\n",
       "      <th>PRECIPITATIONIN</th>\n",
       "      <th>MEAN_VISIBILITYMILES</th>\n",
       "      <th>CityName</th>\n",
       "      <th>IncidentGroup2</th>\n",
       "      <th>TotalPoverty</th>\n",
       "      <th>weatherEventGroup</th>\n",
       "      <th>ZoningGroup</th>\n",
       "    </tr>\n",
       "  </thead>\n",
       "  <tbody>\n",
       "    <tr>\n",
       "      <th>2</th>\n",
       "      <td>12/31/2016 02:12:00 AM</td>\n",
       "      <td>30338</td>\n",
       "      <td>33.925571</td>\n",
       "      <td>-84.315793</td>\n",
       "      <td>2</td>\n",
       "      <td>Saturday</td>\n",
       "      <td>2016-12-31 00:00:00</td>\n",
       "      <td>472.0</td>\n",
       "      <td>527.0</td>\n",
       "      <td>601.0</td>\n",
       "      <td>...</td>\n",
       "      <td>85000.5</td>\n",
       "      <td>2016-12-31</td>\n",
       "      <td>47.0</td>\n",
       "      <td>0.17</td>\n",
       "      <td>9.0</td>\n",
       "      <td>DUNWOODY</td>\n",
       "      <td>Family Offense</td>\n",
       "      <td>66.5</td>\n",
       "      <td>Rain</td>\n",
       "      <td></td>\n",
       "    </tr>\n",
       "    <tr>\n",
       "      <th>3</th>\n",
       "      <td>12/31/2016 09:39:00 AM</td>\n",
       "      <td>0</td>\n",
       "      <td>33.943571</td>\n",
       "      <td>-84.331624</td>\n",
       "      <td>9</td>\n",
       "      <td>Saturday</td>\n",
       "      <td>2016-12-31 00:00:00</td>\n",
       "      <td>951.0</td>\n",
       "      <td>1046.5</td>\n",
       "      <td>1244.0</td>\n",
       "      <td>...</td>\n",
       "      <td>111182.0</td>\n",
       "      <td>2016-12-31</td>\n",
       "      <td>47.0</td>\n",
       "      <td>0.17</td>\n",
       "      <td>9.0</td>\n",
       "      <td>DUNWOODY</td>\n",
       "      <td>Traffic</td>\n",
       "      <td>12.0</td>\n",
       "      <td>Rain</td>\n",
       "      <td></td>\n",
       "    </tr>\n",
       "    <tr>\n",
       "      <th>4</th>\n",
       "      <td>06/13/2016 06:07:00 PM</td>\n",
       "      <td>30346</td>\n",
       "      <td>33.926443</td>\n",
       "      <td>-84.337153</td>\n",
       "      <td>18</td>\n",
       "      <td>Monday</td>\n",
       "      <td>2016-06-13 00:00:00</td>\n",
       "      <td>922.5</td>\n",
       "      <td>1108.0</td>\n",
       "      <td>1329.0</td>\n",
       "      <td>...</td>\n",
       "      <td>67008.5</td>\n",
       "      <td>2016-6-13</td>\n",
       "      <td>99.0</td>\n",
       "      <td>0.00</td>\n",
       "      <td>10.0</td>\n",
       "      <td>DUNWOODY</td>\n",
       "      <td>Traffic</td>\n",
       "      <td>272.0</td>\n",
       "      <td>NaN</td>\n",
       "      <td></td>\n",
       "    </tr>\n",
       "    <tr>\n",
       "      <th>5</th>\n",
       "      <td>06/13/2016 06:40:00 PM</td>\n",
       "      <td>0</td>\n",
       "      <td>33.943571</td>\n",
       "      <td>-84.331624</td>\n",
       "      <td>18</td>\n",
       "      <td>Monday</td>\n",
       "      <td>2016-06-13 00:00:00</td>\n",
       "      <td>951.0</td>\n",
       "      <td>1046.5</td>\n",
       "      <td>1244.0</td>\n",
       "      <td>...</td>\n",
       "      <td>111182.0</td>\n",
       "      <td>2016-6-13</td>\n",
       "      <td>99.0</td>\n",
       "      <td>0.00</td>\n",
       "      <td>10.0</td>\n",
       "      <td>DUNWOODY</td>\n",
       "      <td>Traffic</td>\n",
       "      <td>12.0</td>\n",
       "      <td>NaN</td>\n",
       "      <td></td>\n",
       "    </tr>\n",
       "    <tr>\n",
       "      <th>7</th>\n",
       "      <td>04/25/2016 01:58:00 PM</td>\n",
       "      <td>30346</td>\n",
       "      <td>33.925912</td>\n",
       "      <td>-84.336548</td>\n",
       "      <td>13</td>\n",
       "      <td>Monday</td>\n",
       "      <td>2016-04-25 00:00:00</td>\n",
       "      <td>922.5</td>\n",
       "      <td>1108.0</td>\n",
       "      <td>1329.0</td>\n",
       "      <td>...</td>\n",
       "      <td>67008.5</td>\n",
       "      <td>2016-4-25</td>\n",
       "      <td>81.0</td>\n",
       "      <td>0.00</td>\n",
       "      <td>10.0</td>\n",
       "      <td>DUNWOODY</td>\n",
       "      <td>Disorder</td>\n",
       "      <td>272.0</td>\n",
       "      <td>NaN</td>\n",
       "      <td>Office</td>\n",
       "    </tr>\n",
       "  </tbody>\n",
       "</table>\n",
       "<p>5 rows × 28 columns</p>\n",
       "</div>"
      ],
      "text/plain": [
       "               incident_d    zip   latitude  longitude  hour_of_da day_of_wee  \\\n",
       "2  12/31/2016 02:12:00 AM  30338  33.925571 -84.315793           2   Saturday   \n",
       "3  12/31/2016 09:39:00 AM      0  33.943571 -84.331624           9   Saturday   \n",
       "4  06/13/2016 06:07:00 PM  30346  33.926443 -84.337153          18     Monday   \n",
       "5  06/13/2016 06:40:00 PM      0  33.943571 -84.331624          18     Monday   \n",
       "7  04/25/2016 01:58:00 PM  30346  33.925912 -84.336548          13     Monday   \n",
       "\n",
       "            date_incid  B25057e1  B25058e1  B25059e1     ...      B19013e1  \\\n",
       "2  2016-12-31 00:00:00     472.0     527.0     601.0     ...       85000.5   \n",
       "3  2016-12-31 00:00:00     951.0    1046.5    1244.0     ...      111182.0   \n",
       "4  2016-06-13 00:00:00     922.5    1108.0    1329.0     ...       67008.5   \n",
       "5  2016-06-13 00:00:00     951.0    1046.5    1244.0     ...      111182.0   \n",
       "7  2016-04-25 00:00:00     922.5    1108.0    1329.0     ...       67008.5   \n",
       "\n",
       "          EST  MAX_TEMPERATUREF  PRECIPITATIONIN  MEAN_VISIBILITYMILES  \\\n",
       "2  2016-12-31              47.0             0.17                   9.0   \n",
       "3  2016-12-31              47.0             0.17                   9.0   \n",
       "4   2016-6-13              99.0             0.00                  10.0   \n",
       "5   2016-6-13              99.0             0.00                  10.0   \n",
       "7   2016-4-25              81.0             0.00                  10.0   \n",
       "\n",
       "   CityName  IncidentGroup2  TotalPoverty  weatherEventGroup ZoningGroup  \n",
       "2  DUNWOODY  Family Offense          66.5               Rain              \n",
       "3  DUNWOODY         Traffic          12.0               Rain              \n",
       "4  DUNWOODY         Traffic         272.0                NaN              \n",
       "5  DUNWOODY         Traffic          12.0                NaN              \n",
       "7  DUNWOODY        Disorder         272.0                NaN      Office  \n",
       "\n",
       "[5 rows x 28 columns]"
      ]
     },
     "execution_count": 128,
     "metadata": {},
     "output_type": "execute_result"
    }
   ],
   "source": [
    "dfCats.head()"
   ]
  },
  {
   "cell_type": "markdown",
   "metadata": {},
   "source": [
    "http://scikit-learn.org/stable/modules/generated/sklearn.ensemble.RandomForestClassifier.html"
   ]
  },
  {
   "cell_type": "code",
   "execution_count": 129,
   "metadata": {
    "collapsed": false
   },
   "outputs": [
    {
     "data": {
      "text/plain": [
       "incident_d               object\n",
       "zip                       int64\n",
       "latitude                float64\n",
       "longitude               float64\n",
       "hour_of_da                int64\n",
       "day_of_wee               object\n",
       "date_incid               object\n",
       "B25057e1                float64\n",
       "B25058e1                float64\n",
       "B25059e1                float64\n",
       "B25076e1                float64\n",
       "B25077e1                float64\n",
       "B25078e1                float64\n",
       "B25018e1                float64\n",
       "B25001e1                float64\n",
       "B25002e1                float64\n",
       "B25002e2                float64\n",
       "B25002e3                float64\n",
       "B19013e1                float64\n",
       "EST                      object\n",
       "MAX_TEMPERATUREF        float64\n",
       "PRECIPITATIONIN          object\n",
       "MEAN_VISIBILITYMILES    float64\n",
       "CityName                 object\n",
       "IncidentGroup2           object\n",
       "TotalPoverty            float64\n",
       "weatherEventGroup        object\n",
       "ZoningGroup              object\n",
       "dtype: object"
      ]
     },
     "execution_count": 129,
     "metadata": {},
     "output_type": "execute_result"
    }
   ],
   "source": [
    "dfCats.dtypes\n",
    "# ready to model"
   ]
  },
  {
   "cell_type": "code",
   "execution_count": null,
   "metadata": {
    "collapsed": true
   },
   "outputs": [],
   "source": []
  }
 ],
 "metadata": {
  "anaconda-cloud": {},
  "kernelspec": {
   "display_name": "Python [default]",
   "language": "python",
   "name": "python2"
  },
  "language_info": {
   "codemirror_mode": {
    "name": "ipython",
    "version": 2
   },
   "file_extension": ".py",
   "mimetype": "text/x-python",
   "name": "python",
   "nbconvert_exporter": "python",
   "pygments_lexer": "ipython2",
   "version": "2.7.12"
  }
 },
 "nbformat": 4,
 "nbformat_minor": 1
}
