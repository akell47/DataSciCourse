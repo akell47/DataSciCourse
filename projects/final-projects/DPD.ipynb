{
 "cells": [
  {
   "cell_type": "markdown",
   "metadata": {},
   "source": [
    "# Predicting Arrest\n",
    "# and Demistifying pre concieved assumptions"
   ]
  },
  {
   "cell_type": "markdown",
   "metadata": {},
   "source": [
    "#### Correlations and Predictive Analytics with the City of Dunwoody Police Department Database"
   ]
  },
  {
   "cell_type": "markdown",
   "metadata": {},
   "source": [
    "*What can we say about ourselves confidently?*"
   ]
  },
  {
   "cell_type": "markdown",
   "metadata": {},
   "source": [
    "The popularity of data science reveals the power of statistics and scientific models to measure, predict, and guide an organization's ability to thrive.  <bra/>\n",
    "This is fundamentally why we examine an organization's data. Discovery of trends may lead to actionable insight or change in policy.  Data Science also gives organizations situational awareness, client interaction with web presence, or mitigating risk for sustained planning. What is the organization in growth compared to others of similar measure? Are you ahead or behind? Do you do something well that others don't?  How do you think the organization is operating; how is it really operating?"
   ]
  },
  {
   "cell_type": "markdown",
   "metadata": {},
   "source": [
    "What are the national trends and does the City of Dunwoody police Department follow trends? What correlations should be addressed? What correlations exist? <br/>\n",
    "Insights of crime can assist the police operations and create an even safer and efficient city. Dunwoody as an organization can be more prepared to respond to crime and take action based on trends<br/>\n",
    "A clear national trend has emerged of the awareness of the danger that black men can face when encountering the police. It is important that Dunwoody can answer to a national and internal question: Am I safe here? Are people safe here? Is my child safe here?  <br/>\n",
    "Data science gives Dunwoody the ability confidentially analyze trends to gain insights to shape who they are and where they want to go <br/>"
   ]
  },
  {
   "cell_type": "markdown",
   "metadata": {},
   "source": [
    "* Do females arrest more females than men?\n",
    "* Does the type of car you drive have a correlation to traffic incidences? \n",
    "* Is there a correlation between incidences and charges?\n",
    "* Is there enough data to draw conclusions?\n",
    "* What does the data say?\n",
    "* Do more incindences of a certain type happen at clustered times or places?\n",
    "* Is there a correlation with race of officers with race of people indidences?"
   ]
  },
  {
   "cell_type": "markdown",
   "metadata": {},
   "source": [
    "A look at the data- <br/>\n",
    "Dunwoody Police Department database has around 450 tables!! Many are empty, but still is quite confusing and is a whole lot of data. <br/>\n",
    "This project will examine 4 main tables from the database, an Incident table, a Person ID table, an Officer ID table, and Calls made table. <br>\n",
    "\n"
   ]
  },
  {
   "cell_type": "markdown",
   "metadata": {},
   "source": [
    "Officers | Incidences | Demographics | Factors | Charges |"
   ]
  },
  {
   "cell_type": "markdown",
   "metadata": {},
   "source": [
    "The timeframe of data we are looking at begins with the Police Departments inception in 2010 when the City of Dunwoody was formed up to the present day of this project - January 2017."
   ]
  },
  {
   "cell_type": "markdown",
   "metadata": {},
   "source": [
    "First we need to see what data is available. <br/>\n",
    "What do we have to work with here? <br/>\n",
    "There are (x) columns - (x) can be dropped for significant lack of values or entirely null.\n",
    "Remaining columns to work with from table X are ..... and table b are ..... etc"
   ]
  },
  {
   "cell_type": "markdown",
   "metadata": {},
   "source": [
    "What are some summations in the data for categorical data eg car type, arrests, race, gender, etc <br/>\n",
    "Statistics on continuous data eg age, <br/>\n",
    "Times of day and crime type <br/>"
   ]
  },
  {
   "cell_type": "markdown",
   "metadata": {},
   "source": [
    "Is the data normally distributed to do a correlation matrix?\n",
    "Does it have to be nd to do .corr?? What should we try to predict???"
   ]
  },
  {
   "cell_type": "code",
   "execution_count": null,
   "metadata": {
    "collapsed": true
   },
   "outputs": [],
   "source": []
  }
 ],
 "metadata": {
  "anaconda-cloud": {},
  "kernelspec": {
   "display_name": "Python [conda root]",
   "language": "python",
   "name": "conda-root-py"
  },
  "language_info": {
   "codemirror_mode": {
    "name": "ipython",
    "version": 2
   },
   "file_extension": ".py",
   "mimetype": "text/x-python",
   "name": "python",
   "nbconvert_exporter": "python",
   "pygments_lexer": "ipython2",
   "version": "2.7.12"
  }
 },
 "nbformat": 4,
 "nbformat_minor": 1
}
