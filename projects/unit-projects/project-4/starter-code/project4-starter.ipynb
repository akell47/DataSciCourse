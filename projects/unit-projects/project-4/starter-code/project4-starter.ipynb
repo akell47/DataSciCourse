{
 "cells": [
  {
   "cell_type": "markdown",
   "metadata": {
    "nbpresent": {
     "id": "f685a0d3-ade6-46e3-8a94-789bcbc29736"
    }
   },
   "source": [
    "# Project 4\n",
    "\n",
    "In this project, you will summarize and present your analysis from Projects 1-3."
   ]
  },
  {
   "cell_type": "markdown",
   "metadata": {
    "nbpresent": {
     "id": "6b8963d4-e640-48b4-bdde-97e30366f477"
    }
   },
   "source": [
    "### Intro: Write a problem Statement/ Specific Aim for this project"
   ]
  },
  {
   "cell_type": "markdown",
   "metadata": {
    "nbpresent": {
     "id": "8655beeb-4070-43ee-9b6c-33034187d8be"
    }
   },
   "source": [
    "Answer: In this project we are looking at UCLA admissions data.  The goal is to see what factors have contribute to admittance into UCLA. <br/>\n",
    "Data Source: UCLA's Logistic Regression in R tutorial: http://www.ats.ucla.edu/stat/r/dae/logit.htm"
   ]
  },
  {
   "cell_type": "markdown",
   "metadata": {
    "nbpresent": {
     "id": "5e9624ce-3a60-4b46-9dc0-47fc590bc1e7"
    }
   },
   "source": [
    "### Dataset:  Write up a description of your data and any cleaning that was completed"
   ]
  },
  {
   "cell_type": "markdown",
   "metadata": {
    "nbpresent": {
     "id": "8bf4b609-0488-4e24-893f-f4f6f98e698e"
    }
   },
   "source": [
    "Answer: "
   ]
  },
  {
   "cell_type": "markdown",
   "metadata": {
    "collapsed": true,
    "nbpresent": {
     "id": "f4298ac4-68c2-41ab-9098-ed41097907d6"
    }
   },
   "source": [
    "### Demo: Provide a table that explains the data by admission status"
   ]
  },
  {
   "cell_type": "markdown",
   "metadata": {
    "nbpresent": {
     "id": "042b6d0a-1559-4e53-b25d-498813af9ba3"
    }
   },
   "source": [
    "Mean (STD) or counts by admission status for each variable \n",
    "\n",
    "| Not Admitted | Admitted\n",
    "---| ---|---\n",
    "GPA | mean(std)  | mean(std)\n",
    "GRE |mean(std) | mean(std)\n",
    "Prestige 1 | frequency (%) | frequency (%)\n",
    "Prestige 2 | frequency (%) | frequency (%)\n",
    "Prestige 3 |frequency (%) | frequency (%)\n",
    "Prestige 4 |frequency (%) | frequency (%)"
   ]
  },
  {
   "cell_type": "markdown",
   "metadata": {
    "nbpresent": {
     "id": "14bcb278-49ec-43ab-84b5-5dcb4633ed5d"
    }
   },
   "source": [
    "### Methods: Write up the methods used in your analysis"
   ]
  },
  {
   "cell_type": "markdown",
   "metadata": {
    "nbpresent": {
     "id": "4ba774fa-3d80-4b2a-a6c1-ee8126f24fc9"
    }
   },
   "source": [
    "Answer:"
   ]
  },
  {
   "cell_type": "markdown",
   "metadata": {
    "nbpresent": {
     "id": "8a7c0b43-f5e6-4c24-8f24-c0dd6f295ff1"
    }
   },
   "source": [
    "### Results: Write up your results"
   ]
  },
  {
   "cell_type": "markdown",
   "metadata": {
    "nbpresent": {
     "id": "f5a0f8ac-31b2-45c7-921e-3f1ae2abf9d5"
    }
   },
   "source": [
    "Answer:"
   ]
  },
  {
   "cell_type": "markdown",
   "metadata": {
    "nbpresent": {
     "id": "59712bb5-484f-4ec7-bab2-badcfb7b5da6"
    }
   },
   "source": [
    "### Visuals: Provide a table or visualization of these results"
   ]
  },
  {
   "cell_type": "markdown",
   "metadata": {
    "nbpresent": {
     "id": "deb3fc06-be0f-4ff7-b86b-92dd554346c4"
    }
   },
   "source": [
    "<img src='placeholder.png' height= 25% width= 25%>"
   ]
  },
  {
   "cell_type": "markdown",
   "metadata": {
    "nbpresent": {
     "id": "088e8755-3e8e-47a9-9622-d250b4d4e0f2"
    }
   },
   "source": [
    "<img src='placeholder.png' height= 25% width= 25%>"
   ]
  },
  {
   "cell_type": "markdown",
   "metadata": {
    "nbpresent": {
     "id": "3787ca17-adec-440d-9c7d-9c835d469c1f"
    }
   },
   "source": [
    "### Discussion: Write up your discussion and future steps"
   ]
  },
  {
   "cell_type": "markdown",
   "metadata": {
    "nbpresent": {
     "id": "5409d0d2-c71c-4028-b42c-9c1e6a484d3d"
    }
   },
   "source": [
    "Answer: "
   ]
  }
 ],
 "metadata": {
  "anaconda-cloud": {},
  "kernelspec": {
   "display_name": "Python [default]",
   "language": "python",
   "name": "python2"
  },
  "language_info": {
   "codemirror_mode": {
    "name": "ipython",
    "version": 2
   },
   "file_extension": ".py",
   "mimetype": "text/x-python",
   "name": "python",
   "nbconvert_exporter": "python",
   "pygments_lexer": "ipython2",
   "version": "2.7.12"
  },
  "nbpresent": {
   "slides": {
    "2a30f48f-e6fe-4e78-a9c8-7293f03749ce": {
     "id": "2a30f48f-e6fe-4e78-a9c8-7293f03749ce",
     "prev": "3b48f051-063d-4289-8908-e5cc4a0ff9e6",
     "regions": {
      "ac7bbac4-35d0-4a00-9a11-e0a30ae7f93f": {
       "attrs": {
        "height": 0.8,
        "width": 0.8,
        "x": 0.1,
        "y": 0.1
       },
       "content": {
        "cell": "8655beeb-4070-43ee-9b6c-33034187d8be",
        "part": "whole"
       },
       "id": "ac7bbac4-35d0-4a00-9a11-e0a30ae7f93f"
      }
     }
    },
    "2d35f88e-1eec-4476-9b58-0478d1657889": {
     "id": "2d35f88e-1eec-4476-9b58-0478d1657889",
     "prev": "2a30f48f-e6fe-4e78-a9c8-7293f03749ce",
     "regions": {
      "67275214-1e1e-4946-a24e-1c78d1b33699": {
       "attrs": {
        "height": 0.8,
        "width": 0.8,
        "x": 0.1,
        "y": 0.1
       },
       "content": {
        "cell": "5e9624ce-3a60-4b46-9dc0-47fc590bc1e7",
        "part": "whole"
       },
       "id": "67275214-1e1e-4946-a24e-1c78d1b33699"
      }
     }
    },
    "2e3d7726-f4ef-492d-b0f2-d24fb3fdede8": {
     "id": "2e3d7726-f4ef-492d-b0f2-d24fb3fdede8",
     "prev": "942c7526-627c-4058-b013-8fc51cb7e775",
     "regions": {
      "4e0a0bda-db3b-458d-9ac5-14883c99bb64": {
       "attrs": {
        "height": 0.8,
        "width": 0.8,
        "x": 0.1,
        "y": 0.1
       },
       "content": {
        "cell": "f4298ac4-68c2-41ab-9098-ed41097907d6",
        "part": "whole"
       },
       "id": "4e0a0bda-db3b-458d-9ac5-14883c99bb64"
      }
     }
    },
    "3b48f051-063d-4289-8908-e5cc4a0ff9e6": {
     "id": "3b48f051-063d-4289-8908-e5cc4a0ff9e6",
     "prev": "e276adad-5a32-475a-b9db-3db3e3302c42",
     "regions": {
      "db376387-a868-4b23-bcc8-978a48c2b365": {
       "attrs": {
        "height": 0.8,
        "width": 0.8,
        "x": 0.1,
        "y": 0.1
       },
       "content": {
        "cell": "6b8963d4-e640-48b4-bdde-97e30366f477",
        "part": "whole"
       },
       "id": "db376387-a868-4b23-bcc8-978a48c2b365"
      }
     }
    },
    "4360e162-6b78-445f-a372-fa084f3606ad": {
     "id": "4360e162-6b78-445f-a372-fa084f3606ad",
     "prev": "fb7745c9-ab15-426d-818a-62e9ea8c4a5e",
     "regions": {
      "df19ff7c-d23a-4e87-8632-e3cd4de66f67": {
       "attrs": {
        "height": 0.8,
        "width": 0.8,
        "x": 0.1,
        "y": 0.1
       },
       "content": {
        "cell": "8a7c0b43-f5e6-4c24-8f24-c0dd6f295ff1",
        "part": "whole"
       },
       "id": "df19ff7c-d23a-4e87-8632-e3cd4de66f67"
      }
     }
    },
    "4d244978-b68b-447c-89fe-c8abf029d4c4": {
     "id": "4d244978-b68b-447c-89fe-c8abf029d4c4",
     "prev": "b6b3bafb-a13d-48d7-bc3a-8bb0022661aa",
     "regions": {
      "3f3e5d5f-ab9d-4dee-ad8c-b130b6f4df08": {
       "attrs": {
        "height": 0.8,
        "width": 0.8,
        "x": 0.1,
        "y": 0.1
       },
       "content": {
        "cell": "14bcb278-49ec-43ab-84b5-5dcb4633ed5d",
        "part": "whole"
       },
       "id": "3f3e5d5f-ab9d-4dee-ad8c-b130b6f4df08"
      }
     }
    },
    "5a19baf4-2ea4-4bd1-abb8-bd6b750042da": {
     "id": "5a19baf4-2ea4-4bd1-abb8-bd6b750042da",
     "prev": "f0a8d0ba-5052-47cd-a0c9-7b0d45bd17d1",
     "regions": {
      "d35db424-28f3-4f56-9555-20373e7c9e4e": {
       "attrs": {
        "height": 0.8,
        "width": 0.8,
        "x": 0.1,
        "y": 0.1
       },
       "content": {
        "cell": "59712bb5-484f-4ec7-bab2-badcfb7b5da6",
        "part": "whole"
       },
       "id": "d35db424-28f3-4f56-9555-20373e7c9e4e"
      }
     }
    },
    "7e006abc-23a9-4880-9dd0-bdd19c2f3485": {
     "id": "7e006abc-23a9-4880-9dd0-bdd19c2f3485",
     "prev": "cfc0220f-d427-4f98-a68c-b345f7b4c1b1",
     "regions": {
      "0d2c9639-f35b-4679-a5da-83669a2a892b": {
       "attrs": {
        "height": 0.8,
        "width": 0.8,
        "x": 0.1,
        "y": 0.1
       },
       "content": {
        "cell": "3787ca17-adec-440d-9c7d-9c835d469c1f",
        "part": "whole"
       },
       "id": "0d2c9639-f35b-4679-a5da-83669a2a892b"
      }
     }
    },
    "89a43e3c-4e2c-441b-8c25-3e0c3addc520": {
     "id": "89a43e3c-4e2c-441b-8c25-3e0c3addc520",
     "prev": "7e006abc-23a9-4880-9dd0-bdd19c2f3485",
     "regions": {
      "ad6e793b-27ed-4ccf-a701-e9ccd09e9869": {
       "attrs": {
        "height": 0.8,
        "width": 0.8,
        "x": 0.1,
        "y": 0.1
       },
       "content": {
        "cell": "5409d0d2-c71c-4028-b42c-9c1e6a484d3d",
        "part": "whole"
       },
       "id": "ad6e793b-27ed-4ccf-a701-e9ccd09e9869"
      }
     }
    },
    "942c7526-627c-4058-b013-8fc51cb7e775": {
     "id": "942c7526-627c-4058-b013-8fc51cb7e775",
     "prev": "2d35f88e-1eec-4476-9b58-0478d1657889",
     "regions": {
      "ecf96a68-cddb-41b7-8f45-9e4e8ab38ead": {
       "attrs": {
        "height": 0.8,
        "width": 0.8,
        "x": 0.1,
        "y": 0.1
       },
       "content": {
        "cell": "8bf4b609-0488-4e24-893f-f4f6f98e698e",
        "part": "whole"
       },
       "id": "ecf96a68-cddb-41b7-8f45-9e4e8ab38ead"
      }
     }
    },
    "b6b3bafb-a13d-48d7-bc3a-8bb0022661aa": {
     "id": "b6b3bafb-a13d-48d7-bc3a-8bb0022661aa",
     "prev": "2e3d7726-f4ef-492d-b0f2-d24fb3fdede8",
     "regions": {
      "11fc2554-f57a-45d6-b06b-f28f2189eec2": {
       "attrs": {
        "height": 0.8,
        "width": 0.8,
        "x": 0.1,
        "y": 0.1
       },
       "content": {
        "cell": "042b6d0a-1559-4e53-b25d-498813af9ba3",
        "part": "whole"
       },
       "id": "11fc2554-f57a-45d6-b06b-f28f2189eec2"
      }
     }
    },
    "cfc0220f-d427-4f98-a68c-b345f7b4c1b1": {
     "id": "cfc0220f-d427-4f98-a68c-b345f7b4c1b1",
     "prev": "e2cc8ba0-d547-4dcc-b3d6-f39504d5659a",
     "regions": {
      "48b2d9c3-7e8c-4b68-b13b-15ed557d51f3": {
       "attrs": {
        "height": 0.8,
        "width": 0.8,
        "x": 0.1,
        "y": 0.1
       },
       "content": {
        "cell": "088e8755-3e8e-47a9-9622-d250b4d4e0f2",
        "part": "whole"
       },
       "id": "48b2d9c3-7e8c-4b68-b13b-15ed557d51f3"
      }
     }
    },
    "e276adad-5a32-475a-b9db-3db3e3302c42": {
     "id": "e276adad-5a32-475a-b9db-3db3e3302c42",
     "layout": "manual",
     "prev": null,
     "regions": {
      "841ff403-ee44-4db6-9084-f5b21f2714a9": {
       "attrs": {
        "height": 0.7089247838146516,
        "pad": 0.01,
        "treemap:weight": 1,
        "width": 0.7224669603524229,
        "x": 0.2775330396475771,
        "y": 0
       },
       "content": {
        "cell": "f685a0d3-ade6-46e3-8a94-789bcbc29736",
        "part": "whole"
       },
       "id": "841ff403-ee44-4db6-9084-f5b21f2714a9"
      }
     }
    },
    "e2cc8ba0-d547-4dcc-b3d6-f39504d5659a": {
     "id": "e2cc8ba0-d547-4dcc-b3d6-f39504d5659a",
     "prev": "5a19baf4-2ea4-4bd1-abb8-bd6b750042da",
     "regions": {
      "86751c06-b1c3-4151-b8d0-7ea435eb1f94": {
       "attrs": {
        "height": 0.8,
        "width": 0.8,
        "x": 0.1,
        "y": 0.1
       },
       "content": {
        "cell": "deb3fc06-be0f-4ff7-b86b-92dd554346c4",
        "part": "whole"
       },
       "id": "86751c06-b1c3-4151-b8d0-7ea435eb1f94"
      }
     }
    },
    "f0a8d0ba-5052-47cd-a0c9-7b0d45bd17d1": {
     "id": "f0a8d0ba-5052-47cd-a0c9-7b0d45bd17d1",
     "prev": "4360e162-6b78-445f-a372-fa084f3606ad",
     "regions": {
      "3b696dae-a849-4872-b199-5722f4113d7f": {
       "attrs": {
        "height": 0.8,
        "width": 0.8,
        "x": 0.1,
        "y": 0.1
       },
       "content": {
        "cell": "f5a0f8ac-31b2-45c7-921e-3f1ae2abf9d5",
        "part": "whole"
       },
       "id": "3b696dae-a849-4872-b199-5722f4113d7f"
      }
     }
    },
    "fb7745c9-ab15-426d-818a-62e9ea8c4a5e": {
     "id": "fb7745c9-ab15-426d-818a-62e9ea8c4a5e",
     "prev": "4d244978-b68b-447c-89fe-c8abf029d4c4",
     "regions": {
      "ba3bd166-c201-4c3d-8ba8-116a0b6ca82e": {
       "attrs": {
        "height": 0.8,
        "width": 0.8,
        "x": 0.1,
        "y": 0.1
       },
       "content": {
        "cell": "4ba774fa-3d80-4b2a-a6c1-ee8126f24fc9",
        "part": "whole"
       },
       "id": "ba3bd166-c201-4c3d-8ba8-116a0b6ca82e"
      }
     }
    }
   },
   "themes": {
    "default": "2b103640-b9ca-4ebd-84bc-7ab2d05cbdce",
    "theme": {
     "2b103640-b9ca-4ebd-84bc-7ab2d05cbdce": {
      "backgrounds": {
       "backgroundColor": {
        "background-color": "backgroundColor",
        "id": "backgroundColor"
       }
      },
      "id": "2b103640-b9ca-4ebd-84bc-7ab2d05cbdce",
      "palette": {
       "backgroundColor": {
        "id": "backgroundColor",
        "rgb": [
         256,
         256,
         256
        ]
       },
       "headingColor": {
        "id": "headingColor",
        "rgb": [
         0,
         0,
         0
        ]
       },
       "linkColor": {
        "id": "linkColor",
        "rgb": [
         0,
         0,
         139
        ]
       },
       "mainColor": {
        "id": "mainColor",
        "rgb": [
         0,
         0,
         0
        ]
       }
      },
      "rules": {
       "a": {
        "color": "linkColor"
       },
       "h1": {
        "color": "headingColor",
        "font-family": "News Cycle",
        "font-size": 7
       },
       "h2": {
        "color": "headingColor",
        "font-family": "News Cycle",
        "font-size": 5
       },
       "h3": {
        "color": "headingColor",
        "font-family": "News Cycle",
        "font-size": 3.75
       },
       "h4": {
        "color": "headingColor",
        "font-family": "News Cycle",
        "font-size": 3
       },
       "h5": {
        "color": "headingColor",
        "font-family": "News Cycle"
       },
       "h6": {
        "color": "headingColor",
        "font-family": "News Cycle"
       },
       "h7": {
        "color": "headingColor",
        "font-family": "News Cycle"
       },
       "li": {
        "color": "mainColor",
        "font-family": "Lato",
        "font-size": 5
       },
       "p": {
        "color": "mainColor",
        "font-family": "Lato",
        "font-size": 5
       }
      },
      "text-base": {
       "color": "mainColor",
       "font-family": "Lato",
       "font-size": 5
      }
     }
    }
   }
  }
 },
 "nbformat": 4,
 "nbformat_minor": 0
}
