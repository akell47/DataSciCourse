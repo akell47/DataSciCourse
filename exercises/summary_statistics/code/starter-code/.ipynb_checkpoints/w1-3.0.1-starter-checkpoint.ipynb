{
 "cells": [
  {
   "cell_type": "code",
   "execution_count": 1,
   "metadata": {
    "collapsed": false
   },
   "outputs": [
    {
     "name": "stdout",
     "output_type": "stream",
     "text": [
      "/c/Users/Amber/Documents/GitHub/DataSciCourse/exercises/summary_statistics/code/starter-code\n"
     ]
    }
   ],
   "source": [
    "!pwd\n",
    "\n",
    "# create a function, where given an input of a list, the function will return the sample standard deviation"
   ]
  },
  {
   "cell_type": "code",
   "execution_count": 2,
   "metadata": {
    "collapsed": true
   },
   "outputs": [],
   "source": [
    "import math # use the math package for absolute value, exp, sqrt, or other special math operations\n",
    "import numpy as np # use nump for random number generation"
   ]
  },
  {
   "cell_type": "code",
   "execution_count": 4,
   "metadata": {
    "collapsed": true
   },
   "outputs": [],
   "source": [
    "someNumbers = [4, 10, 5, 2, 3, 10, 1]"
   ]
  },
  {
   "cell_type": "code",
   "execution_count": 18,
   "metadata": {
    "collapsed": false
   },
   "outputs": [
    {
     "name": "stdout",
     "output_type": "stream",
     "text": [
      "35\n",
      "7\n"
     ]
    },
    {
     "ename": "NameError",
     "evalue": "name 'mean' is not defined",
     "output_type": "error",
     "traceback": [
      "\u001b[0;31m\u001b[0m",
      "\u001b[0;31mNameError\u001b[0mTraceback (most recent call last)",
      "\u001b[0;32m<ipython-input-18-7c3bb8803bad>\u001b[0m in \u001b[0;36m<module>\u001b[0;34m()\u001b[0m\n\u001b[1;32m      1\u001b[0m \u001b[1;32mprint\u001b[0m \u001b[0msum\u001b[0m\u001b[1;33m(\u001b[0m\u001b[0msomeNumbers\u001b[0m\u001b[1;33m)\u001b[0m\u001b[1;33m\u001b[0m\u001b[0m\n\u001b[1;32m      2\u001b[0m \u001b[1;32mprint\u001b[0m \u001b[0mlen\u001b[0m\u001b[1;33m(\u001b[0m\u001b[0msomeNumbers\u001b[0m\u001b[1;33m)\u001b[0m\u001b[1;33m\u001b[0m\u001b[0m\n\u001b[0;32m----> 3\u001b[0;31m \u001b[1;32mprint\u001b[0m \u001b[0mmean\u001b[0m\u001b[1;33m(\u001b[0m\u001b[0msomeNumbers\u001b[0m\u001b[1;33m)\u001b[0m\u001b[1;33m\u001b[0m\u001b[0m\n\u001b[0m",
      "\u001b[0;31mNameError\u001b[0m: name 'mean' is not defined"
     ]
    }
   ],
   "source": [
    "print sum(someNumbers)\n",
    "print len(someNumbers)\n"
   ]
  },
  {
   "cell_type": "code",
   "execution_count": 7,
   "metadata": {
    "collapsed": false
   },
   "outputs": [
    {
     "name": "stdout",
     "output_type": "stream",
     "text": [
      "5.0\n"
     ]
    }
   ],
   "source": [
    "print float(sum(someNumbers))/len(someNumbers)"
   ]
  },
  {
   "cell_type": "code",
   "execution_count": 5,
   "metadata": {
    "collapsed": false
   },
   "outputs": [
    {
     "name": "stdout",
     "output_type": "stream",
     "text": [
      "5.0\n"
     ]
    }
   ],
   "source": [
    "# create a function called getMean(bucket), the parameter it will take will be called bucket\n",
    "# and it will be a list of integers (assume user knows how parameters must be of type List[Int])\n",
    "def getMean(bucket):\n",
    "    return float(sum(bucket)/len(bucket))\n",
    "print getMean(someNumbers)"
   ]
  },
  {
   "cell_type": "code",
   "execution_count": 12,
   "metadata": {
    "collapsed": false
   },
   "outputs": [
    {
     "name": "stdout",
     "output_type": "stream",
     "text": [
      "3.6514837167\n"
     ]
    }
   ],
   "source": [
    "# below is a function that return the sample standard deviation of a list, given the list of nums\n",
    "# called bucket, and the mean of that numbers in that bucket\n",
    "\n",
    "def getStandardDevWithForLoop(bucket,mean): \n",
    "    dfSum = 0\n",
    "    for num in bucket:\n",
    "        dfSum += (num - mean)**2\n",
    "    sampleVar = float(dfSum)/(len(bucket) - 1)\n",
    "    return math.sqrt(sampleVar) # avoid integer division by casting dfSum as a float\n",
    "print getStandardDevWithForLoop(someNumbers, getMean(someNumbers))"
   ]
  },
  {
   "cell_type": "code",
   "execution_count": 13,
   "metadata": {
    "collapsed": false
   },
   "outputs": [
    {
     "name": "stdout",
     "output_type": "stream",
     "text": [
      "3.6514837167\n"
     ]
    }
   ],
   "source": [
    "# recreate getStandardDevWithForLoop, but use map instead of a for loop\n",
    "\n",
    "def getStandardDeviationWithMap(bucket,mean): \n",
    "    df = map(lambda num: (num- mean)**2, bucket)\n",
    "    dfSum = sum(df)\n",
    "    sampleVar = float(dfSum)/(len(bucket) - 1)\n",
    "    return math.sqrt(sampleVar)\n",
    "print getStandardDeviationWithMap(someNumbers, getMean(someNumbers))"
   ]
  },
  {
   "cell_type": "code",
   "execution_count": 19,
   "metadata": {
    "collapsed": false
   },
   "outputs": [
    {
     "name": "stdout",
     "output_type": "stream",
     "text": [
      "{'minNum': 1, 'stdev': 3.6514837167011076, 'maxNum': 10, 'range': 9.0, 'mean': 5.0}\n"
     ]
    }
   ],
   "source": [
    "#finish the assignment values in getSummaryStatistics, note  the order of operations.\n",
    "# 1. Get Mean of Bucket (use predfined functions above!)\n",
    "# 2. Get Standard Deviation (using either getStandardDeviationWithMap or getStandardDeviationWithForLoop)\n",
    "# note both functions require parameters! \n",
    "# 3. get the max number in the bucket\n",
    "# 4. get the min number in the bucket\n",
    "# 5. Get the Range\n",
    "# 6. Input values in dictionary\n",
    "\n",
    "def getSummaryStatistics(bucket):\n",
    "    \n",
    "    mean = getMean(bucket)\n",
    "    stdev = getStandardDevWithForLoop(bucket, mean)\n",
    "    \n",
    "    maxNum = max(bucket)\n",
    "    minNum = min(bucket)\n",
    "    \n",
    "    rangeList = float(maxNum - minNum)\n",
    "    \n",
    "    statsDictionary = { \"mean\" : mean,\n",
    "                        \"stdev\": stdev, \n",
    "                        \"maxNum\": maxNum, \n",
    "                        \"minNum\": minNum,\n",
    "                        \"range\" : rangeList\n",
    "                      }\n",
    "    return statsDictionary\n",
    "\n",
    "print getSummaryStatistics(someNumbers)"
   ]
  },
  {
   "cell_type": "code",
   "execution_count": 17,
   "metadata": {
    "collapsed": false
   },
   "outputs": [
    {
     "name": "stdout",
     "output_type": "stream",
     "text": [
      "{'minNum': 0, 'stdev': 9.166666666666666, 'maxNum': 9, 'range': 9, 'mean': 4.5}\n"
     ]
    }
   ],
   "source": [
    "list1 = range(0,10,1)\n",
    "summaryStatistics = getSummaryStatistics(list1)\n",
    "print summaryStatistics\n",
    "# If this returns {'minNum': 0, 'stdev': 9.166666666666666, 'maxNum': 9, 'range': 9, 'mean': 4.5}\n",
    "# you are in good shape! "
   ]
  },
  {
   "cell_type": "code",
   "execution_count": 26,
   "metadata": {
    "collapsed": false
   },
   "outputs": [
    {
     "name": "stdout",
     "output_type": "stream",
     "text": [
      "[array([20, 43, 16, 38, 31, 37, 34,  2, 43, 32])]\n",
      "_____\n",
      "[array([17, 44, 23, 34, 26, 31, 32, 48,  7, 17]), array([29, 14, 25, 37,  9, 44, 21, 43, 38,  6]), array([16, 39, 44,  7,  6, 28, 24, 48,  9, 19]), array([17, 26, 47, 24, 45, 21, 41, 33, 39, 24])]\n"
     ]
    }
   ],
   "source": [
    "# The function below will create a list of lists, where each list number are randomly generated\n",
    "# minNumInList = minimum number to be generated in each list\n",
    "# maxNumInList = maximum number to be generated in each list\n",
    "# lenEachList = length of each list (all lists will have uniform length)\n",
    "# numOfLists = number of lists to generate\n",
    "# Note I am using np class (numpy) to to random random generation, see other methods for numpy\n",
    "\n",
    "def getRandomData(minNumInList,maxNumInList,lenEachList, numOfLists):\n",
    "    randomSets = []\n",
    "    for run in range(0, numOfLists - 1): # do something 5 times\n",
    "        randNums = np.random.randint(minNumInList,maxNumInList,lenEachList)\n",
    "        randomSets.append(randNums)\n",
    "    return randomSets\n",
    "print getRandomData(2,50,10,2)\n",
    "print \"_____\"\n",
    "print getRandomData(2,50,10,5)"
   ]
  },
  {
   "cell_type": "code",
   "execution_count": 29,
   "metadata": {
    "collapsed": false,
    "scrolled": true
   },
   "outputs": [
    {
     "name": "stdout",
     "output_type": "stream",
     "text": [
      "25.5\n"
     ]
    }
   ],
   "source": [
    "# get the batch mean using functional programming\n",
    "# get your random data by calling the getRandomData Function, input parameters to this function\n",
    "# use the map method on the list of lists, to get the average of each list, hint: you should have\n",
    "# getMean defined for you by this point to use in the map\n",
    "\n",
    "def getBatchMeanByMap():\n",
    "    randomData = getRandomData (2, 50, 10, 5)\n",
    "    randomDataAvgs = map(getMean,randomData) \n",
    "#     why isn't it = getMean(randomData)?\n",
    "    batchMean = getMean(randomDataAvgs)\n",
    "    return batchMean\n",
    "print getBatchMeanByMap()"
   ]
  },
  {
   "cell_type": "code",
   "execution_count": 33,
   "metadata": {
    "collapsed": false
   },
   "outputs": [
    {
     "name": "stdout",
     "output_type": "stream",
     "text": [
      "50.2\n"
     ]
    }
   ],
   "source": [
    "# get the batch mean using looping\n",
    "# get your random data by calling the getRandomData Function, input parameters to this function\n",
    "# get your random data by calling the getRandomData Function, input parameters to this function\n",
    "# use a for loop on the list of lists, to get the average of each list, hint: you should have\n",
    "# getMean defined for you by this point to use in the forloop\n",
    "\n",
    "def getBatchMeanByForLoop():\n",
    "    randomData = getRandomData(5, 100, 10, 6)\n",
    "    randomDataAvgs = []\n",
    "    for numbers in randomData:\n",
    "        Avgs = getMean(numbers)\n",
    "        randomDataAvgs.append(Avgs)\n",
    "    batchMean = getMean(randomDataAvgs)\n",
    "    return batchMean\n",
    "print getBatchMeanByForLoop()\n"
   ]
  },
  {
   "cell_type": "code",
   "execution_count": null,
   "metadata": {
    "collapsed": true
   },
   "outputs": [],
   "source": []
  }
 ],
 "metadata": {
  "anaconda-cloud": {},
  "kernelspec": {
   "display_name": "Python [default]",
   "language": "python",
   "name": "python2"
  },
  "language_info": {
   "codemirror_mode": {
    "name": "ipython",
    "version": 2
   },
   "file_extension": ".py",
   "mimetype": "text/x-python",
   "name": "python",
   "nbconvert_exporter": "python",
   "pygments_lexer": "ipython2",
   "version": "2.7.12"
  }
 },
 "nbformat": 4,
 "nbformat_minor": 0
}
