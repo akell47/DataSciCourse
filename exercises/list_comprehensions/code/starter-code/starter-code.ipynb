{
 "cells": [
  {
   "cell_type": "code",
   "execution_count": 53,
   "metadata": {
    "collapsed": true
   },
   "outputs": [],
   "source": [
    "myList1 = range(0,100)"
   ]
  },
  {
   "cell_type": "code",
   "execution_count": 55,
   "metadata": {
    "collapsed": false
   },
   "outputs": [
    {
     "name": "stdout",
     "output_type": "stream",
     "text": [
      "[0, 1, 2, 3, 4, 5, 6, 7, 8, 9, 10, 11, 12, 13, 14, 15, 16, 17, 18, 19, 20, 21, 22, 23, 24, 25, 26, 27, 28, 29, 30, 31, 32, 33, 34, 35, 36, 37, 38, 39, 40, 41, 42, 43, 44, 45, 46, 47, 48, 49, 50, 51, 52, 53, 54, 55, 56, 57, 58, 59, 60, 61, 62, 63, 64, 65, 66, 67, 68, 69, 70, 71, 72, 73, 74, 75, 76, 77, 78, 79, 80, 81, 82, 83, 84, 85, 86, 87, 88, 89, 90, 91, 92, 93, 94, 95, 96, 97, 98, 99]\n"
     ]
    }
   ],
   "source": [
    "listcomp = [n for n in myList1]\n",
    "print listcomp"
   ]
  },
  {
   "cell_type": "code",
   "execution_count": 6,
   "metadata": {
    "collapsed": false
   },
   "outputs": [
    {
     "name": "stdout",
     "output_type": "stream",
     "text": [
      "[0, 2, 4, 6, 8, 10, 12, 14, 16, 18, 20, 22, 24, 26, 28, 30, 32, 34, 36, 38, 40, 42, 44, 46, 48, 50, 52, 54, 56, 58, 60, 62, 64, 66, 68, 70, 72, 74, 76, 78, 80, 82, 84, 86, 88, 90, 92, 94, 96, 98, 100, 102, 104, 106, 108, 110, 112, 114, 116, 118, 120, 122, 124, 126, 128, 130, 132, 134, 136, 138, 140, 142, 144, 146, 148, 150, 152, 154, 156, 158, 160, 162, 164, 166, 168, 170, 172, 174, 176, 178, 180, 182, 184, 186, 188, 190, 192, 194, 196, 198]\n"
     ]
    }
   ],
   "source": [
    "# below is an example of list comprehension being used in a function\n",
    "# that takes a constant integer (c) as a parameter and list of integers\n",
    "# called myList1\n",
    "# note similar to map(lambda x: c*x,myList1), but simpler! \n",
    "\n",
    "def ntimesSet(c,myList1):\n",
    "    return [c*x for x in myList1]\n",
    "print ntimesSet(2,myList1)"
   ]
  },
  {
   "cell_type": "code",
   "execution_count": 49,
   "metadata": {
    "collapsed": false
   },
   "outputs": [
    {
     "name": "stdout",
     "output_type": "stream",
     "text": [
      "[130, 126, 160, 174, 120, 130, 132, 106, 132, 194, 146, 120, 160, 174, 110, 126, 154, 144, 108, 132, 176, 170, 102]\n"
     ]
    }
   ],
   "source": [
    "# write a function that will take 3 parameters a list\n",
    "# someList which will be a list of integers\n",
    "# c which will be an integer\n",
    "# n which will be an integer\n",
    "# filter out values greater than n in someList using list comprehension\n",
    "# and then multiply each value in the remaining array by c\n",
    "\n",
    "import numpy as np\n",
    "list1 = np.random.randint(0,100,40)\n",
    "\n",
    "# do not manually check list by index for np.nan, \n",
    "# use list1 as your testcase\n",
    "def filterAndMultiplyList(someList, c, n):\n",
    "    filtered = [num for num in someList if num > n]\n",
    "    multiplied = [num * c for num in filtered]\n",
    "    return multiplied\n",
    "print filterAndMultiplyList(someList = list1, c = 2, n = 50)\n",
    "\n",
    "\n",
    "\n",
    "# def filterAndMultiplyList( someList, c, n ):\n",
    "#     listCleansed = [x for x in someList if x > n]\n",
    "#     listTimesN = [c*x for x in listCleansed]\n",
    "#     return listTimesN"
   ]
  },
  {
   "cell_type": "code",
   "execution_count": 58,
   "metadata": {
    "collapsed": false
   },
   "outputs": [
    {
     "name": "stdout",
     "output_type": "stream",
     "text": [
      "[0, 2, 4, 6, 8, 10, 12, 14, 16, 18, 20, 22, 24, 26, 28, 30, 32, 34, 36, 38, 40, 42, 44, 46, 48, 50, 52, 54, 56, 58, 60, 62, 64, 66, 68, 70, 72, 74, 76, 78, 80, 82, 84, 86, 88, 90, 92, 94, 96, 98]\n"
     ]
    }
   ],
   "source": [
    "aList = []\n",
    "for i in myList1:\n",
    "    if i % 2 == 0:\n",
    "        aList.append(i)\n",
    "print aList"
   ]
  },
  {
   "cell_type": "code",
   "execution_count": 59,
   "metadata": {
    "collapsed": false
   },
   "outputs": [
    {
     "name": "stdout",
     "output_type": "stream",
     "text": [
      "[0, 2, 4, 6, 8, 10, 12, 14, 16, 18, 20, 22, 24, 26, 28, 30, 32, 34, 36, 38, 40, 42, 44, 46, 48, 50, 52, 54, 56, 58, 60, 62, 64, 66, 68, 70, 72, 74, 76, 78, 80, 82, 84, 86, 88, 90, 92, 94, 96, 98]\n"
     ]
    }
   ],
   "source": [
    "# this function which will only return even numbers in list \n",
    "# using list comprehension\n",
    "# function will take one parameter called nums which is a list of integers\n",
    "# function will return only the even numbers from the original parameter nums\n",
    "\n",
    "evenListComp = [n for n in myList1 if n % 2 ==0]\n",
    "print evenListComp\n"
   ]
  },
  {
   "cell_type": "code",
   "execution_count": 61,
   "metadata": {
    "collapsed": false
   },
   "outputs": [
    {
     "name": "stdout",
     "output_type": "stream",
     "text": [
      "[1, 3, 5, 7, 9, 11, 13, 15, 17, 19, 21, 23, 25, 27, 29, 31, 33, 35, 37, 39, 41, 43, 45, 47, 49, 51, 53, 55, 57, 59, 61, 63, 65, 67, 69, 71, 73, 75, 77, 79, 81, 83, 85, 87, 89, 91, 93, 95, 97, 99]\n"
     ]
    }
   ],
   "source": [
    "# get all the oddNums in the list, given now that you have all evenNums\n",
    "# using list comprehension \n",
    "oddListComp = [n for n in myList1 if n % 2 == 1]\n",
    "print oddListComp"
   ]
  },
  {
   "cell_type": "code",
   "execution_count": 63,
   "metadata": {
    "collapsed": false
   },
   "outputs": [
    {
     "name": "stdout",
     "output_type": "stream",
     "text": [
      "Probability of select even num is 50.0%\n"
     ]
    }
   ],
   "source": [
    "# write a function that will return a probability given two parameters\n",
    "# one parameter called x (events matched) and the other n (total events)\n",
    "def probabilityFunc (c,n):\n",
    "    return (float(c)/n)*100\n",
    "# calculate the probability that if I randomly select a number in myList1\n",
    "# that number will be even, use your getProbability function for your final\n",
    "# call your final probability probabilityEvenNum\n",
    "totalEven = len(evenListComp)\n",
    "totalNumbers = len(myList1)\n",
    "\n",
    "probabilityEven = probabilityFunc(totalEven, totalNumbers)\n",
    "\n",
    "print \"Probability of select even num is {}%\".format(probabilityEven)"
   ]
  },
  {
   "cell_type": "code",
   "execution_count": 65,
   "metadata": {
    "collapsed": false
   },
   "outputs": [
    {
     "name": "stdout",
     "output_type": "stream",
     "text": [
      "Probability of select even num is 49.0%\n"
     ]
    }
   ],
   "source": [
    "# get the probability of randomly selecting an odd number, now that you\n",
    "# have probabilityEvenNum defined, get the probability of getting an odd number\n",
    "# WITHOUT using list comprehension, NOR any type of looping. \n",
    "# HINT: X = {a,b}. P(X = a) + P(X = b) = 1\n",
    "probabilityOdd = abs(1 - probabilityEven)\n",
    "print \"Probability of select even num is {}%\".format(probabilityOdd)"
   ]
  },
  {
   "cell_type": "code",
   "execution_count": 79,
   "metadata": {
    "collapsed": false
   },
   "outputs": [
    {
     "name": "stdout",
     "output_type": "stream",
     "text": [
      "0.79\n",
      "list of numbers greater than 20 in range 0 to 100: [21, 22, 23, 24, 25, 26, 27, 28, 29, 30, 31, 32, 33, 34, 35, 36, 37, 38, 39, 40, 41, 42, 43, 44, 45, 46, 47, 48, 49, 50, 51, 52, 53, 54, 55, 56, 57, 58, 59, 60, 61, 62, 63, 64, 65, 66, 67, 68, 69, 70, 71, 72, 73, 74, 75, 76, 77, 78, 79, 80, 81, 82, 83, 84, 85, 86, 87, 88, 89, 90, 91, 92, 93, 94, 95, 96, 97, 98, 99]\n",
      "Count of numbers greater than 20 in range 0 to 100 is:79 numbers\n",
      "Probability of numbers greater than 20 in range 0 to 100 is: 0.79%\n"
     ]
    }
   ],
   "source": [
    "# write a function called getCumalativeProb which takes in two parameters.\n",
    "# first parameter is called nums. And you can assume will be a of integers\n",
    "# second parameter is called q, and will be an integer as well\n",
    "# the function will return the P( x > q ) or that if a number is randomly\n",
    "# selected from that list it will be greater than q\n",
    "# HINT: use list comprehension to filter through list\n",
    "# P( X > n ) = 1 - P( X <= n )\n",
    "def getCumalativeProb(nums, q):\n",
    "    greaterThan = [num for num in nums if num > q]\n",
    "    totalGreater = len(greaterThan)\n",
    "    probability = float(totalGreater)/len(nums)\n",
    "    return probability\n",
    "#set1 = range(0,100)\n",
    "print getCumalativeProb(myList1,20)\n",
    "\n",
    "greaterThan = [num for num in myList1 if num > 20]\n",
    "print \"list of numbers greater than 20 in range 0 to 100: {}\".format(greaterThan)\n",
    "totalGreater = len(greaterThan)\n",
    "print \"Count of numbers greater than 20 in range 0 to 100 is:{} numbers\".format(totalGreater)\n",
    "probability = float(totalGreater)/len(myList1)\n",
    "print \"Probability of numbers greater than 20 in range 0 to 100 is: {}%\".format(probability)"
   ]
  },
  {
   "cell_type": "code",
   "execution_count": null,
   "metadata": {
    "collapsed": true
   },
   "outputs": [],
   "source": []
  },
  {
   "cell_type": "code",
   "execution_count": null,
   "metadata": {
    "collapsed": true
   },
   "outputs": [],
   "source": []
  }
 ],
 "metadata": {
  "anaconda-cloud": {},
  "kernelspec": {
   "display_name": "Python [default]",
   "language": "python",
   "name": "python2"
  },
  "language_info": {
   "codemirror_mode": {
    "name": "ipython",
    "version": 2
   },
   "file_extension": ".py",
   "mimetype": "text/x-python",
   "name": "python",
   "nbconvert_exporter": "python",
   "pygments_lexer": "ipython2",
   "version": "2.7.12"
  }
 },
 "nbformat": 4,
 "nbformat_minor": 0
}
